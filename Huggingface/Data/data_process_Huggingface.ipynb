{
 "cells": [
  {
   "cell_type": "code",
   "execution_count": 1,
   "metadata": {
    "collapsed": false,
    "pycharm": {
     "name": "#%%\n"
    }
   },
   "outputs": [],
   "source": [
    "import csv"
   ]
  },
  {
   "cell_type": "code",
   "execution_count": 2,
   "metadata": {
    "collapsed": false,
    "pycharm": {
     "name": "#%%\n"
    }
   },
   "outputs": [],
   "source": [
    "def node(datapath_input):\n",
    "    \"\"\"\n",
    "    load dataset\n",
    "    :param data_path:\n",
    "    :return: F1_Score.txt\n",
    "    \"\"\"\n",
    "    with open(datapath_input, \"r\") as f:\n",
    "        data_list = []\n",
    "        data = f.readlines()\n",
    "        for each_line in data:\n",
    "            each_line = each_line.split(\"\\t\")\n",
    "            each_line[2] = each_line[2].replace(\"[\", \"\").replace(\"]\", \"\")\n",
    "            data_list.append(each_line)\n",
    "    f.close()\n",
    "    with open(\"../Data/Delay_time_data/dataset_v.txt\", \"w\") as f:\n",
    "        f.write(\"dataset_id\" + \"::\" + \"Licenses\" + \"::\" + \"Size_categories\" + \"::\" + \"v1\" + \"::\" + \"v2\" + \"::\" + \"v3\" + \"::\" + \"v4\" + \"::\" + \"v5\" + \"::\" + \"v6\" + \"::\" + \"v7\" + \"::\" + \"v8\" + \"::\"+\"v9\"\n",
    "        \"::\" + \"v10\" + \"::\" + \"v11\" + \"::\" +\"v12\"+\"::\"+\"v13\"+ \"::\" + \"v14\"+ \"::\" + \"v15\" +\"::\" + \"v16\" +\"\\n\")\n",
    "        for data in data_list:\n",
    "            if data[1] == \"1\":\n",
    "                node_id = data[0]\n",
    "                f1 = data[2].split(\",\")[0].strip()\n",
    "                f2 = data[2].split(\",\")[1].strip()\n",
    "                f3 = data[2].split(\",\")[2].strip()\n",
    "                f4 = data[2].split(\",\")[3].strip()\n",
    "                f5 = data[2].split(\",\")[4].strip()\n",
    "                f6 = data[2].split(\",\")[5].strip()\n",
    "                f7 = data[2].split(\",\")[6].strip()\n",
    "                f8 = data[2].split(\",\")[7].strip()\n",
    "                f9 = data[2].split(\",\")[8].strip()\n",
    "                f10 = data[2].split(\",\")[9].strip()\n",
    "                f11 = data[2].split(\",\")[10].strip()\n",
    "                f12 = data[2].split(\",\")[11].strip()\n",
    "                f13 = data[2].split(\",\")[12].strip()\n",
    "                f14 = data[2].split(\",\")[13].strip()\n",
    "                f15 = data[2].split(\",\")[14].strip()\n",
    "                f16 = data[2].split(\",\")[15].strip()\n",
    "                f17 = data[2].split(\",\")[16].strip()\n",
    "                f18 = data[2].split(\",\")[17].strip()\n",
    "                f.write(node_id + \"::\" + f1 + \"::\" + f2 + \"::\" + f3 + \"::\" + f4 + \"::\" + f5 + \"::\" + f6 + \"::\" + f7 + \"::\" + f8 + \"::\" + f9 + \"::\" + f10 + \"::\" + f11 + \"::\" + f12 + \"::\" + f13 + \"::\" + f14 + \"::\" + f15 + \"::\" + f16 + \"::\" + f17 + \"::\" + f18 + \"\\n\")\n",
    "            else:\n",
    "                continue\n",
    "    f.close()\n"
   ]
  },
  {
   "cell_type": "code",
   "execution_count": 3,
   "outputs": [],
   "source": [
    "# node(\"../Data/Delay_time_data/node_full.txt\")"
   ],
   "metadata": {
    "collapsed": false,
    "pycharm": {
     "name": "#%%\n"
    }
   }
  },
  {
   "cell_type": "code",
   "execution_count": 4,
   "metadata": {
    "collapsed": false,
    "pycharm": {
     "name": "#%%\n"
    }
   },
   "outputs": [],
   "source": [
    "def edge(edgetxt_input,csv_out):\n",
    "    rows = []\n",
    "    with open(edgetxt_input, \"r\") as f:\n",
    "        with open(csv_out,'w',newline=\"\") as csvFile:\n",
    "            data = f.readlines()\n",
    "            writer = csv.writer(csvFile)\n",
    "            writer.writerow([\"dataset_id\",\"model_id\",\"according accuracy\"])\n",
    "            for each_line in data:\n",
    "                each_line = each_line.split(\")\")\n",
    "                each_line[0] = each_line[0].replace(\"(\",\"\").replace(\")\",\"\")\n",
    "                each_line[1] = each_line[1].strip().replace(\"[\",\"\").replace(\"]\",\"\")\n",
    "                model_id = each_line[0].split(\",\")[0]\n",
    "                dataset_id = each_line[0].split(\",\")[1]\n",
    "                according_accuracy = each_line[1].split(\",\")[0]\n",
    "                rows.append([dataset_id,model_id,according_accuracy])\n",
    "            writer.writerows(rows)\n",
    "        csvFile.close()\n",
    "    f.close()"
   ]
  },
  {
   "cell_type": "code",
   "execution_count": 5,
   "metadata": {
    "collapsed": false,
    "pycharm": {
     "name": "#%%\n"
    }
   },
   "outputs": [],
   "source": [
    "edge(\"../Experiment_part_1/Data/edge.txt\",\"../Experiment_part_1/Data/edge.csv\")"
   ]
  },
  {
   "cell_type": "code",
   "execution_count": 5,
   "metadata": {
    "collapsed": false,
    "pycharm": {
     "name": "#%%\n"
    }
   },
   "outputs": [],
   "source": []
  },
  {
   "cell_type": "code",
   "execution_count": 5,
   "metadata": {
    "collapsed": false,
    "pycharm": {
     "name": "#%%\n"
    }
   },
   "outputs": [],
   "source": []
  }
 ],
 "metadata": {
  "kernelspec": {
   "display_name": "Python 3",
   "language": "python",
   "name": "python3"
  },
  "language_info": {
   "codemirror_mode": {
    "name": "ipython",
    "version": 3
   },
   "file_extension": ".py",
   "mimetype": "text/x-python",
   "name": "python",
   "nbconvert_exporter": "python",
   "pygments_lexer": "ipython3",
   "version": "3.7.9"
  },
  "vscode": {
   "interpreter": {
    "hash": "23fcb16ef9ae263cc1ee2ef7013048b59283f261690a66bd73349f654cd13bd4"
   }
  }
 },
 "nbformat": 4,
 "nbformat_minor": 0
}