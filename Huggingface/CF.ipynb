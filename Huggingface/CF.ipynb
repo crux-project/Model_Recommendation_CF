{
 "cells": [
  {
   "cell_type": "code",
   "execution_count": 1,
   "metadata": {
    "collapsed": true,
    "pycharm": {
     "name": "#%%\n"
    }
   },
   "outputs": [],
   "source": [
    "import numpy as np\n",
    "import pandas as pd\n",
    "from sklearn.metrics.pairwise import cosine_similarity"
   ]
  },
  {
   "cell_type": "markdown",
   "source": [
    "Data loading"
   ],
   "metadata": {
    "collapsed": false,
    "pycharm": {
     "name": "#%% md\n"
    }
   }
  },
  {
   "cell_type": "code",
   "execution_count": 2,
   "outputs": [],
   "source": [
    "ratings = pd.read_csv(\"testards.csv\",low_memory=False)\n",
    "ratings_train = pd.read_csv(\"train.csv\",low_memory=False)\n",
    "ratings_test = pd.read_csv(\"test.csv\",low_memory=False)"
   ],
   "metadata": {
    "collapsed": false,
    "pycharm": {
     "name": "#%%\n"
    }
   }
  },
  {
   "cell_type": "code",
   "execution_count": 3,
   "outputs": [],
   "source": [
    "datasets = ratings.data_id.unique()\n",
    "models = ratings.model_id.unique()"
   ],
   "metadata": {
    "collapsed": false,
    "pycharm": {
     "name": "#%%\n"
    }
   }
  },
  {
   "cell_type": "markdown",
   "source": [
    "Rating Matrix"
   ],
   "metadata": {
    "collapsed": false,
    "pycharm": {
     "name": "#%% md\n"
    }
   }
  },
  {
   "cell_type": "code",
   "execution_count": 4,
   "outputs": [],
   "source": [
    "data_model_train_matrix = pd.DataFrame(index=datasets,columns=models)\n",
    "data_model_test_matrix = pd.DataFrame(index=datasets,columns=models)"
   ],
   "metadata": {
    "collapsed": false,
    "pycharm": {
     "name": "#%%\n"
    }
   }
  },
  {
   "cell_type": "code",
   "execution_count": 5,
   "outputs": [],
   "source": [
    "for row in ratings_train.itertuples():\n",
    "    data_model_train_matrix[row[2]][row[1]] = row[3]\n",
    "data_model_train_matrix = data_model_train_matrix.fillna(0)"
   ],
   "metadata": {
    "collapsed": false,
    "pycharm": {
     "name": "#%%\n"
    }
   }
  },
  {
   "cell_type": "code",
   "execution_count": 6,
   "outputs": [],
   "source": [
    "for row in ratings_test.itertuples():\n",
    "    data_model_test_matrix[row[2]][row[1]] = row[3]\n",
    "data_model_test_matrix = data_model_test_matrix.fillna(0)"
   ],
   "metadata": {
    "collapsed": false,
    "pycharm": {
     "name": "#%%\n"
    }
   }
  },
  {
   "cell_type": "code",
   "execution_count": 7,
   "outputs": [
    {
     "data": {
      "text/plain": "      686    318  596  708  795  597  950  841  641    868  ...    315    976  \\\n0   0.939  0.938  0.0  0.0  0.0  0.0  0.0  0.0  0.0  0.000  ...  0.000  0.000   \n1   0.000  0.000  0.0  0.0  0.0  0.0  0.0  0.0  0.0  0.000  ...  0.000  0.000   \n2   0.000  0.000  0.0  0.0  0.0  0.0  0.0  0.0  0.0  0.000  ...  0.000  0.000   \n3   0.000  0.000  0.0  0.0  0.0  0.0  0.0  0.0  0.0  0.000  ...  0.000  0.000   \n4   0.000  0.000  0.0  0.0  0.0  0.0  0.0  0.0  0.0  0.000  ...  0.000  0.000   \n..    ...    ...  ...  ...  ...  ...  ...  ...  ...    ...  ...    ...    ...   \n61  0.000  0.000  0.0  0.0  0.0  0.0  0.0  0.0  0.0  0.000  ...  0.000  0.000   \n62  0.000  0.000  0.0  0.0  0.0  0.0  0.0  0.0  0.0  0.000  ...  0.000  0.000   \n63  0.000  0.000  0.0  0.0  0.0  0.0  0.0  0.0  0.0  0.000  ...  0.000  0.000   \n64  0.000  0.000  0.0  0.0  0.0  0.0  0.0  0.0  0.0  0.685  ...  0.586  0.568   \n65  0.000  0.000  0.0  0.0  0.0  0.0  0.0  0.0  0.0  0.000  ...  0.000  0.000   \n\n      723    952    326    179    100   618    468    719  \n0   0.000  0.000  0.000  0.000  0.000  0.00  0.000  0.000  \n1   0.000  0.000  0.000  0.000  0.000  0.00  0.000  0.000  \n2   0.000  0.000  0.000  0.000  0.000  0.00  0.000  0.000  \n3   0.000  0.000  0.000  0.000  0.000  0.00  0.000  0.000  \n4   0.000  0.000  0.000  0.000  0.000  0.00  0.000  0.000  \n..    ...    ...    ...    ...    ...   ...    ...    ...  \n61  0.000  0.000  0.000  0.000  0.000  0.00  0.000  0.000  \n62  0.000  0.000  0.000  0.000  0.000  0.00  0.000  0.000  \n63  0.000  0.000  0.000  0.000  0.000  0.00  0.000  0.000  \n64  0.562  0.559  0.557  0.553  0.513  0.24  0.205  0.000  \n65  0.000  0.000  0.000  0.000  0.000  0.00  0.000  0.911  \n\n[66 rows x 932 columns]",
      "text/html": "<div>\n<style scoped>\n    .dataframe tbody tr th:only-of-type {\n        vertical-align: middle;\n    }\n\n    .dataframe tbody tr th {\n        vertical-align: top;\n    }\n\n    .dataframe thead th {\n        text-align: right;\n    }\n</style>\n<table border=\"1\" class=\"dataframe\">\n  <thead>\n    <tr style=\"text-align: right;\">\n      <th></th>\n      <th>686</th>\n      <th>318</th>\n      <th>596</th>\n      <th>708</th>\n      <th>795</th>\n      <th>597</th>\n      <th>950</th>\n      <th>841</th>\n      <th>641</th>\n      <th>868</th>\n      <th>...</th>\n      <th>315</th>\n      <th>976</th>\n      <th>723</th>\n      <th>952</th>\n      <th>326</th>\n      <th>179</th>\n      <th>100</th>\n      <th>618</th>\n      <th>468</th>\n      <th>719</th>\n    </tr>\n  </thead>\n  <tbody>\n    <tr>\n      <th>0</th>\n      <td>0.939</td>\n      <td>0.938</td>\n      <td>0.0</td>\n      <td>0.0</td>\n      <td>0.0</td>\n      <td>0.0</td>\n      <td>0.0</td>\n      <td>0.0</td>\n      <td>0.0</td>\n      <td>0.000</td>\n      <td>...</td>\n      <td>0.000</td>\n      <td>0.000</td>\n      <td>0.000</td>\n      <td>0.000</td>\n      <td>0.000</td>\n      <td>0.000</td>\n      <td>0.000</td>\n      <td>0.00</td>\n      <td>0.000</td>\n      <td>0.000</td>\n    </tr>\n    <tr>\n      <th>1</th>\n      <td>0.000</td>\n      <td>0.000</td>\n      <td>0.0</td>\n      <td>0.0</td>\n      <td>0.0</td>\n      <td>0.0</td>\n      <td>0.0</td>\n      <td>0.0</td>\n      <td>0.0</td>\n      <td>0.000</td>\n      <td>...</td>\n      <td>0.000</td>\n      <td>0.000</td>\n      <td>0.000</td>\n      <td>0.000</td>\n      <td>0.000</td>\n      <td>0.000</td>\n      <td>0.000</td>\n      <td>0.00</td>\n      <td>0.000</td>\n      <td>0.000</td>\n    </tr>\n    <tr>\n      <th>2</th>\n      <td>0.000</td>\n      <td>0.000</td>\n      <td>0.0</td>\n      <td>0.0</td>\n      <td>0.0</td>\n      <td>0.0</td>\n      <td>0.0</td>\n      <td>0.0</td>\n      <td>0.0</td>\n      <td>0.000</td>\n      <td>...</td>\n      <td>0.000</td>\n      <td>0.000</td>\n      <td>0.000</td>\n      <td>0.000</td>\n      <td>0.000</td>\n      <td>0.000</td>\n      <td>0.000</td>\n      <td>0.00</td>\n      <td>0.000</td>\n      <td>0.000</td>\n    </tr>\n    <tr>\n      <th>3</th>\n      <td>0.000</td>\n      <td>0.000</td>\n      <td>0.0</td>\n      <td>0.0</td>\n      <td>0.0</td>\n      <td>0.0</td>\n      <td>0.0</td>\n      <td>0.0</td>\n      <td>0.0</td>\n      <td>0.000</td>\n      <td>...</td>\n      <td>0.000</td>\n      <td>0.000</td>\n      <td>0.000</td>\n      <td>0.000</td>\n      <td>0.000</td>\n      <td>0.000</td>\n      <td>0.000</td>\n      <td>0.00</td>\n      <td>0.000</td>\n      <td>0.000</td>\n    </tr>\n    <tr>\n      <th>4</th>\n      <td>0.000</td>\n      <td>0.000</td>\n      <td>0.0</td>\n      <td>0.0</td>\n      <td>0.0</td>\n      <td>0.0</td>\n      <td>0.0</td>\n      <td>0.0</td>\n      <td>0.0</td>\n      <td>0.000</td>\n      <td>...</td>\n      <td>0.000</td>\n      <td>0.000</td>\n      <td>0.000</td>\n      <td>0.000</td>\n      <td>0.000</td>\n      <td>0.000</td>\n      <td>0.000</td>\n      <td>0.00</td>\n      <td>0.000</td>\n      <td>0.000</td>\n    </tr>\n    <tr>\n      <th>...</th>\n      <td>...</td>\n      <td>...</td>\n      <td>...</td>\n      <td>...</td>\n      <td>...</td>\n      <td>...</td>\n      <td>...</td>\n      <td>...</td>\n      <td>...</td>\n      <td>...</td>\n      <td>...</td>\n      <td>...</td>\n      <td>...</td>\n      <td>...</td>\n      <td>...</td>\n      <td>...</td>\n      <td>...</td>\n      <td>...</td>\n      <td>...</td>\n      <td>...</td>\n      <td>...</td>\n    </tr>\n    <tr>\n      <th>61</th>\n      <td>0.000</td>\n      <td>0.000</td>\n      <td>0.0</td>\n      <td>0.0</td>\n      <td>0.0</td>\n      <td>0.0</td>\n      <td>0.0</td>\n      <td>0.0</td>\n      <td>0.0</td>\n      <td>0.000</td>\n      <td>...</td>\n      <td>0.000</td>\n      <td>0.000</td>\n      <td>0.000</td>\n      <td>0.000</td>\n      <td>0.000</td>\n      <td>0.000</td>\n      <td>0.000</td>\n      <td>0.00</td>\n      <td>0.000</td>\n      <td>0.000</td>\n    </tr>\n    <tr>\n      <th>62</th>\n      <td>0.000</td>\n      <td>0.000</td>\n      <td>0.0</td>\n      <td>0.0</td>\n      <td>0.0</td>\n      <td>0.0</td>\n      <td>0.0</td>\n      <td>0.0</td>\n      <td>0.0</td>\n      <td>0.000</td>\n      <td>...</td>\n      <td>0.000</td>\n      <td>0.000</td>\n      <td>0.000</td>\n      <td>0.000</td>\n      <td>0.000</td>\n      <td>0.000</td>\n      <td>0.000</td>\n      <td>0.00</td>\n      <td>0.000</td>\n      <td>0.000</td>\n    </tr>\n    <tr>\n      <th>63</th>\n      <td>0.000</td>\n      <td>0.000</td>\n      <td>0.0</td>\n      <td>0.0</td>\n      <td>0.0</td>\n      <td>0.0</td>\n      <td>0.0</td>\n      <td>0.0</td>\n      <td>0.0</td>\n      <td>0.000</td>\n      <td>...</td>\n      <td>0.000</td>\n      <td>0.000</td>\n      <td>0.000</td>\n      <td>0.000</td>\n      <td>0.000</td>\n      <td>0.000</td>\n      <td>0.000</td>\n      <td>0.00</td>\n      <td>0.000</td>\n      <td>0.000</td>\n    </tr>\n    <tr>\n      <th>64</th>\n      <td>0.000</td>\n      <td>0.000</td>\n      <td>0.0</td>\n      <td>0.0</td>\n      <td>0.0</td>\n      <td>0.0</td>\n      <td>0.0</td>\n      <td>0.0</td>\n      <td>0.0</td>\n      <td>0.685</td>\n      <td>...</td>\n      <td>0.586</td>\n      <td>0.568</td>\n      <td>0.562</td>\n      <td>0.559</td>\n      <td>0.557</td>\n      <td>0.553</td>\n      <td>0.513</td>\n      <td>0.24</td>\n      <td>0.205</td>\n      <td>0.000</td>\n    </tr>\n    <tr>\n      <th>65</th>\n      <td>0.000</td>\n      <td>0.000</td>\n      <td>0.0</td>\n      <td>0.0</td>\n      <td>0.0</td>\n      <td>0.0</td>\n      <td>0.0</td>\n      <td>0.0</td>\n      <td>0.0</td>\n      <td>0.000</td>\n      <td>...</td>\n      <td>0.000</td>\n      <td>0.000</td>\n      <td>0.000</td>\n      <td>0.000</td>\n      <td>0.000</td>\n      <td>0.000</td>\n      <td>0.000</td>\n      <td>0.00</td>\n      <td>0.000</td>\n      <td>0.911</td>\n    </tr>\n  </tbody>\n</table>\n<p>66 rows × 932 columns</p>\n</div>"
     },
     "execution_count": 7,
     "metadata": {},
     "output_type": "execute_result"
    }
   ],
   "source": [
    "data_model_train_matrix"
   ],
   "metadata": {
    "collapsed": false,
    "pycharm": {
     "name": "#%%\n"
    }
   }
  },
  {
   "cell_type": "markdown",
   "source": [
    "Ratings Based Dataset Similarity Matrix"
   ],
   "metadata": {
    "collapsed": false,
    "pycharm": {
     "name": "#%% md\n"
    }
   }
  },
  {
   "cell_type": "code",
   "execution_count": 8,
   "outputs": [],
   "source": [
    "rating_based_dataset_similarity = cosine_similarity(data_model_train_matrix)\n",
    "rating_based_dataset_similarity = pd.DataFrame(rating_based_dataset_similarity,index=datasets,columns=datasets)\n",
    "# i, j = 0, 0\n",
    "# while i < len(datasets):\n",
    "#     while j < len(datasets):\n",
    "#         rating_based_dataset_similarity.iloc[i,j] = None\n",
    "#         i += 1\n",
    "#         j += 1"
   ],
   "metadata": {
    "collapsed": false,
    "pycharm": {
     "name": "#%%\n"
    }
   }
  },
  {
   "cell_type": "code",
   "execution_count": 9,
   "outputs": [
    {
     "data": {
      "text/plain": "     0    1    2    3    4    5    6    7    8    9   ...   56   57   58   59  \\\n0   1.0  0.0  0.0  0.0  0.0  0.0  0.0  0.0  0.0  0.0  ...  0.0  0.0  0.0  0.0   \n1   0.0  0.0  0.0  0.0  0.0  0.0  0.0  0.0  0.0  0.0  ...  0.0  0.0  0.0  0.0   \n2   0.0  0.0  1.0  0.0  0.0  0.0  0.0  0.0  0.0  0.0  ...  0.0  0.0  0.0  0.0   \n3   0.0  0.0  0.0  0.0  0.0  0.0  0.0  0.0  0.0  0.0  ...  0.0  0.0  0.0  0.0   \n4   0.0  0.0  0.0  0.0  1.0  0.0  0.0  0.0  0.0  0.0  ...  0.0  0.0  0.0  0.0   \n..  ...  ...  ...  ...  ...  ...  ...  ...  ...  ...  ...  ...  ...  ...  ...   \n61  0.0  0.0  0.0  0.0  0.0  0.0  0.0  0.0  0.0  0.0  ...  0.0  0.0  0.0  0.0   \n62  0.0  0.0  0.0  0.0  0.0  0.0  0.0  0.0  0.0  0.0  ...  0.0  0.0  0.0  0.0   \n63  0.0  0.0  0.0  0.0  0.0  0.0  0.0  0.0  0.0  0.0  ...  0.0  0.0  0.0  0.0   \n64  0.0  0.0  0.0  0.0  0.0  0.0  0.0  0.0  0.0  0.0  ...  0.0  0.0  0.0  0.0   \n65  0.0  0.0  0.0  0.0  0.0  0.0  0.0  0.0  0.0  0.0  ...  0.0  0.0  0.0  0.0   \n\n     60   61   62   63   64   65  \n0   0.0  0.0  0.0  0.0  0.0  0.0  \n1   0.0  0.0  0.0  0.0  0.0  0.0  \n2   0.0  0.0  0.0  0.0  0.0  0.0  \n3   0.0  0.0  0.0  0.0  0.0  0.0  \n4   0.0  0.0  0.0  0.0  0.0  0.0  \n..  ...  ...  ...  ...  ...  ...  \n61  0.0  1.0  0.0  0.0  0.0  0.0  \n62  0.0  0.0  1.0  0.0  0.0  0.0  \n63  0.0  0.0  0.0  0.0  0.0  0.0  \n64  0.0  0.0  0.0  0.0  1.0  0.0  \n65  0.0  0.0  0.0  0.0  0.0  1.0  \n\n[66 rows x 66 columns]",
      "text/html": "<div>\n<style scoped>\n    .dataframe tbody tr th:only-of-type {\n        vertical-align: middle;\n    }\n\n    .dataframe tbody tr th {\n        vertical-align: top;\n    }\n\n    .dataframe thead th {\n        text-align: right;\n    }\n</style>\n<table border=\"1\" class=\"dataframe\">\n  <thead>\n    <tr style=\"text-align: right;\">\n      <th></th>\n      <th>0</th>\n      <th>1</th>\n      <th>2</th>\n      <th>3</th>\n      <th>4</th>\n      <th>5</th>\n      <th>6</th>\n      <th>7</th>\n      <th>8</th>\n      <th>9</th>\n      <th>...</th>\n      <th>56</th>\n      <th>57</th>\n      <th>58</th>\n      <th>59</th>\n      <th>60</th>\n      <th>61</th>\n      <th>62</th>\n      <th>63</th>\n      <th>64</th>\n      <th>65</th>\n    </tr>\n  </thead>\n  <tbody>\n    <tr>\n      <th>0</th>\n      <td>1.0</td>\n      <td>0.0</td>\n      <td>0.0</td>\n      <td>0.0</td>\n      <td>0.0</td>\n      <td>0.0</td>\n      <td>0.0</td>\n      <td>0.0</td>\n      <td>0.0</td>\n      <td>0.0</td>\n      <td>...</td>\n      <td>0.0</td>\n      <td>0.0</td>\n      <td>0.0</td>\n      <td>0.0</td>\n      <td>0.0</td>\n      <td>0.0</td>\n      <td>0.0</td>\n      <td>0.0</td>\n      <td>0.0</td>\n      <td>0.0</td>\n    </tr>\n    <tr>\n      <th>1</th>\n      <td>0.0</td>\n      <td>0.0</td>\n      <td>0.0</td>\n      <td>0.0</td>\n      <td>0.0</td>\n      <td>0.0</td>\n      <td>0.0</td>\n      <td>0.0</td>\n      <td>0.0</td>\n      <td>0.0</td>\n      <td>...</td>\n      <td>0.0</td>\n      <td>0.0</td>\n      <td>0.0</td>\n      <td>0.0</td>\n      <td>0.0</td>\n      <td>0.0</td>\n      <td>0.0</td>\n      <td>0.0</td>\n      <td>0.0</td>\n      <td>0.0</td>\n    </tr>\n    <tr>\n      <th>2</th>\n      <td>0.0</td>\n      <td>0.0</td>\n      <td>1.0</td>\n      <td>0.0</td>\n      <td>0.0</td>\n      <td>0.0</td>\n      <td>0.0</td>\n      <td>0.0</td>\n      <td>0.0</td>\n      <td>0.0</td>\n      <td>...</td>\n      <td>0.0</td>\n      <td>0.0</td>\n      <td>0.0</td>\n      <td>0.0</td>\n      <td>0.0</td>\n      <td>0.0</td>\n      <td>0.0</td>\n      <td>0.0</td>\n      <td>0.0</td>\n      <td>0.0</td>\n    </tr>\n    <tr>\n      <th>3</th>\n      <td>0.0</td>\n      <td>0.0</td>\n      <td>0.0</td>\n      <td>0.0</td>\n      <td>0.0</td>\n      <td>0.0</td>\n      <td>0.0</td>\n      <td>0.0</td>\n      <td>0.0</td>\n      <td>0.0</td>\n      <td>...</td>\n      <td>0.0</td>\n      <td>0.0</td>\n      <td>0.0</td>\n      <td>0.0</td>\n      <td>0.0</td>\n      <td>0.0</td>\n      <td>0.0</td>\n      <td>0.0</td>\n      <td>0.0</td>\n      <td>0.0</td>\n    </tr>\n    <tr>\n      <th>4</th>\n      <td>0.0</td>\n      <td>0.0</td>\n      <td>0.0</td>\n      <td>0.0</td>\n      <td>1.0</td>\n      <td>0.0</td>\n      <td>0.0</td>\n      <td>0.0</td>\n      <td>0.0</td>\n      <td>0.0</td>\n      <td>...</td>\n      <td>0.0</td>\n      <td>0.0</td>\n      <td>0.0</td>\n      <td>0.0</td>\n      <td>0.0</td>\n      <td>0.0</td>\n      <td>0.0</td>\n      <td>0.0</td>\n      <td>0.0</td>\n      <td>0.0</td>\n    </tr>\n    <tr>\n      <th>...</th>\n      <td>...</td>\n      <td>...</td>\n      <td>...</td>\n      <td>...</td>\n      <td>...</td>\n      <td>...</td>\n      <td>...</td>\n      <td>...</td>\n      <td>...</td>\n      <td>...</td>\n      <td>...</td>\n      <td>...</td>\n      <td>...</td>\n      <td>...</td>\n      <td>...</td>\n      <td>...</td>\n      <td>...</td>\n      <td>...</td>\n      <td>...</td>\n      <td>...</td>\n      <td>...</td>\n    </tr>\n    <tr>\n      <th>61</th>\n      <td>0.0</td>\n      <td>0.0</td>\n      <td>0.0</td>\n      <td>0.0</td>\n      <td>0.0</td>\n      <td>0.0</td>\n      <td>0.0</td>\n      <td>0.0</td>\n      <td>0.0</td>\n      <td>0.0</td>\n      <td>...</td>\n      <td>0.0</td>\n      <td>0.0</td>\n      <td>0.0</td>\n      <td>0.0</td>\n      <td>0.0</td>\n      <td>1.0</td>\n      <td>0.0</td>\n      <td>0.0</td>\n      <td>0.0</td>\n      <td>0.0</td>\n    </tr>\n    <tr>\n      <th>62</th>\n      <td>0.0</td>\n      <td>0.0</td>\n      <td>0.0</td>\n      <td>0.0</td>\n      <td>0.0</td>\n      <td>0.0</td>\n      <td>0.0</td>\n      <td>0.0</td>\n      <td>0.0</td>\n      <td>0.0</td>\n      <td>...</td>\n      <td>0.0</td>\n      <td>0.0</td>\n      <td>0.0</td>\n      <td>0.0</td>\n      <td>0.0</td>\n      <td>0.0</td>\n      <td>1.0</td>\n      <td>0.0</td>\n      <td>0.0</td>\n      <td>0.0</td>\n    </tr>\n    <tr>\n      <th>63</th>\n      <td>0.0</td>\n      <td>0.0</td>\n      <td>0.0</td>\n      <td>0.0</td>\n      <td>0.0</td>\n      <td>0.0</td>\n      <td>0.0</td>\n      <td>0.0</td>\n      <td>0.0</td>\n      <td>0.0</td>\n      <td>...</td>\n      <td>0.0</td>\n      <td>0.0</td>\n      <td>0.0</td>\n      <td>0.0</td>\n      <td>0.0</td>\n      <td>0.0</td>\n      <td>0.0</td>\n      <td>0.0</td>\n      <td>0.0</td>\n      <td>0.0</td>\n    </tr>\n    <tr>\n      <th>64</th>\n      <td>0.0</td>\n      <td>0.0</td>\n      <td>0.0</td>\n      <td>0.0</td>\n      <td>0.0</td>\n      <td>0.0</td>\n      <td>0.0</td>\n      <td>0.0</td>\n      <td>0.0</td>\n      <td>0.0</td>\n      <td>...</td>\n      <td>0.0</td>\n      <td>0.0</td>\n      <td>0.0</td>\n      <td>0.0</td>\n      <td>0.0</td>\n      <td>0.0</td>\n      <td>0.0</td>\n      <td>0.0</td>\n      <td>1.0</td>\n      <td>0.0</td>\n    </tr>\n    <tr>\n      <th>65</th>\n      <td>0.0</td>\n      <td>0.0</td>\n      <td>0.0</td>\n      <td>0.0</td>\n      <td>0.0</td>\n      <td>0.0</td>\n      <td>0.0</td>\n      <td>0.0</td>\n      <td>0.0</td>\n      <td>0.0</td>\n      <td>...</td>\n      <td>0.0</td>\n      <td>0.0</td>\n      <td>0.0</td>\n      <td>0.0</td>\n      <td>0.0</td>\n      <td>0.0</td>\n      <td>0.0</td>\n      <td>0.0</td>\n      <td>0.0</td>\n      <td>1.0</td>\n    </tr>\n  </tbody>\n</table>\n<p>66 rows × 66 columns</p>\n</div>"
     },
     "execution_count": 9,
     "metadata": {},
     "output_type": "execute_result"
    }
   ],
   "source": [
    "rating_based_dataset_similarity"
   ],
   "metadata": {
    "collapsed": false,
    "pycharm": {
     "name": "#%%\n"
    }
   }
  },
  {
   "cell_type": "markdown",
   "source": [
    "Model Similarity Matrix"
   ],
   "metadata": {
    "collapsed": false,
    "pycharm": {
     "name": "#%% md\n"
    }
   }
  },
  {
   "cell_type": "code",
   "execution_count": 10,
   "outputs": [],
   "source": [
    "meta_models = pd.read_csv(\"model_v.csv\", low_memory=False)\n",
    "meta_models = meta_models.loc[:,\n",
    "                ('v1', 'v2', 'v3', 'v4', 'v5', 'v6', 'v7', 'v8', 'v9', 'v10', 'v11', 'v12', 'v13', 'v14', 'v15', 'v16')]\n",
    "meta_models_similarity = cosine_similarity(meta_models.values.tolist())\n",
    "meta_models_similarity = pd.DataFrame(meta_models_similarity,index=models,columns=models)"
   ],
   "metadata": {
    "collapsed": false,
    "pycharm": {
     "name": "#%%\n"
    }
   }
  },
  {
   "cell_type": "markdown",
   "source": [
    "MetaData Similarity"
   ],
   "metadata": {
    "collapsed": false,
    "pycharm": {
     "name": "#%% md\n"
    }
   }
  },
  {
   "cell_type": "code",
   "execution_count": 11,
   "outputs": [],
   "source": [
    "meta_datasets = pd.read_csv(\"data_v.csv\",low_memory=False)\n",
    "meta_datasets = meta_datasets.loc[:,('v1','v2','v3','v4','v5','v6','v7','v8','v9','v10','v11','v12','v13','v14','v15','v16')]"
   ],
   "metadata": {
    "collapsed": false,
    "pycharm": {
     "name": "#%%\n"
    }
   }
  },
  {
   "cell_type": "code",
   "execution_count": 12,
   "outputs": [],
   "source": [
    "meta_dataset_similarity = cosine_similarity(meta_datasets.values.tolist())\n",
    "meta_dataset_similarity = pd.DataFrame(meta_dataset_similarity)\n",
    "# i, j = 0, 0\n",
    "# while i < len(datasets):\n",
    "#     while j < len(datasets):\n",
    "#         meta_dataset_similarity.iloc[i,j] = None\n",
    "#         i += 1\n",
    "#         j += 1"
   ],
   "metadata": {
    "collapsed": false,
    "pycharm": {
     "name": "#%%\n"
    }
   }
  },
  {
   "cell_type": "markdown",
   "source": [
    "Find Top_k model and datasets"
   ],
   "metadata": {
    "collapsed": false,
    "pycharm": {
     "name": "#%% md\n"
    }
   }
  },
  {
   "cell_type": "code",
   "execution_count": 13,
   "outputs": [
    {
     "data": {
      "text/plain": "          0         1         2         3         4         5         6   \\\n0   1.000000  0.968805  0.961126  0.927320  0.956376  0.916733  0.952148   \n1   0.968805  1.000000  0.958946  0.964133  0.985872  0.955837  0.981550   \n2   0.961126  0.958946  1.000000  0.942567  0.949051  0.927017  0.949815   \n3   0.927320  0.964133  0.942567  1.000000  0.986971  0.984995  0.972327   \n4   0.956376  0.985872  0.949051  0.986971  1.000000  0.977979  0.988329   \n..       ...       ...       ...       ...       ...       ...       ...   \n61  0.942917  0.963943  0.937409  0.961279  0.964123  0.959657  0.965829   \n62  0.975438  0.953937  0.967578  0.928068  0.947026  0.904110  0.947911   \n63  0.966703  0.988784  0.967312  0.967910  0.986377  0.955594  0.987315   \n64  0.980483  0.970760  0.955307  0.945771  0.970065  0.937506  0.963716   \n65  0.966101  0.965765  0.964790  0.950269  0.961034  0.917810  0.967026   \n\n          7         8         9   ...        56        57        58        59  \\\n0   0.920855  0.890882  0.942792  ...  0.950409  0.976436  0.964960  0.944200   \n1   0.942500  0.927512  0.974009  ...  0.974472  0.967199  0.979952  0.975296   \n2   0.911424  0.875510  0.944227  ...  0.962383  0.945786  0.955871  0.933683   \n3   0.900143  0.920045  0.963344  ...  0.948234  0.944723  0.954705  0.960330   \n4   0.926310  0.940086  0.979640  ...  0.958277  0.971969  0.975171  0.975352   \n..       ...       ...       ...  ...       ...       ...       ...       ...   \n61  0.912117  0.884880  0.938818  ...  0.975946  0.940895  0.949854  0.980713   \n62  0.901846  0.874434  0.930914  ...  0.927555  0.958371  0.951608  0.933650   \n63  0.945249  0.934553  0.987649  ...  0.963370  0.966830  0.984481  0.976979   \n64  0.936665  0.923163  0.969653  ...  0.938868  0.965462  0.970731  0.948539   \n65  0.909780  0.904053  0.971759  ...  0.941568  0.963092  0.971542  0.949468   \n\n          60        61        62        63        64        65  \n0   0.957577  0.942917  0.975438  0.966703  0.980483  0.966101  \n1   0.974722  0.963943  0.953937  0.988784  0.970760  0.965765  \n2   0.951501  0.937409  0.967578  0.967312  0.955307  0.964790  \n3   0.975343  0.961279  0.928068  0.967910  0.945771  0.950269  \n4   0.983206  0.964123  0.947026  0.986377  0.970065  0.961034  \n..       ...       ...       ...       ...       ...       ...  \n61  0.987968  1.000000  0.935864  0.964269  0.941820  0.926664  \n62  0.944921  0.935864  1.000000  0.961585  0.966791  0.951350  \n63  0.980604  0.964269  0.961585  1.000000  0.986404  0.975096  \n64  0.966759  0.941820  0.966791  0.986404  1.000000  0.968540  \n65  0.953206  0.926664  0.951350  0.975096  0.968540  1.000000  \n\n[66 rows x 66 columns]",
      "text/html": "<div>\n<style scoped>\n    .dataframe tbody tr th:only-of-type {\n        vertical-align: middle;\n    }\n\n    .dataframe tbody tr th {\n        vertical-align: top;\n    }\n\n    .dataframe thead th {\n        text-align: right;\n    }\n</style>\n<table border=\"1\" class=\"dataframe\">\n  <thead>\n    <tr style=\"text-align: right;\">\n      <th></th>\n      <th>0</th>\n      <th>1</th>\n      <th>2</th>\n      <th>3</th>\n      <th>4</th>\n      <th>5</th>\n      <th>6</th>\n      <th>7</th>\n      <th>8</th>\n      <th>9</th>\n      <th>...</th>\n      <th>56</th>\n      <th>57</th>\n      <th>58</th>\n      <th>59</th>\n      <th>60</th>\n      <th>61</th>\n      <th>62</th>\n      <th>63</th>\n      <th>64</th>\n      <th>65</th>\n    </tr>\n  </thead>\n  <tbody>\n    <tr>\n      <th>0</th>\n      <td>1.000000</td>\n      <td>0.968805</td>\n      <td>0.961126</td>\n      <td>0.927320</td>\n      <td>0.956376</td>\n      <td>0.916733</td>\n      <td>0.952148</td>\n      <td>0.920855</td>\n      <td>0.890882</td>\n      <td>0.942792</td>\n      <td>...</td>\n      <td>0.950409</td>\n      <td>0.976436</td>\n      <td>0.964960</td>\n      <td>0.944200</td>\n      <td>0.957577</td>\n      <td>0.942917</td>\n      <td>0.975438</td>\n      <td>0.966703</td>\n      <td>0.980483</td>\n      <td>0.966101</td>\n    </tr>\n    <tr>\n      <th>1</th>\n      <td>0.968805</td>\n      <td>1.000000</td>\n      <td>0.958946</td>\n      <td>0.964133</td>\n      <td>0.985872</td>\n      <td>0.955837</td>\n      <td>0.981550</td>\n      <td>0.942500</td>\n      <td>0.927512</td>\n      <td>0.974009</td>\n      <td>...</td>\n      <td>0.974472</td>\n      <td>0.967199</td>\n      <td>0.979952</td>\n      <td>0.975296</td>\n      <td>0.974722</td>\n      <td>0.963943</td>\n      <td>0.953937</td>\n      <td>0.988784</td>\n      <td>0.970760</td>\n      <td>0.965765</td>\n    </tr>\n    <tr>\n      <th>2</th>\n      <td>0.961126</td>\n      <td>0.958946</td>\n      <td>1.000000</td>\n      <td>0.942567</td>\n      <td>0.949051</td>\n      <td>0.927017</td>\n      <td>0.949815</td>\n      <td>0.911424</td>\n      <td>0.875510</td>\n      <td>0.944227</td>\n      <td>...</td>\n      <td>0.962383</td>\n      <td>0.945786</td>\n      <td>0.955871</td>\n      <td>0.933683</td>\n      <td>0.951501</td>\n      <td>0.937409</td>\n      <td>0.967578</td>\n      <td>0.967312</td>\n      <td>0.955307</td>\n      <td>0.964790</td>\n    </tr>\n    <tr>\n      <th>3</th>\n      <td>0.927320</td>\n      <td>0.964133</td>\n      <td>0.942567</td>\n      <td>1.000000</td>\n      <td>0.986971</td>\n      <td>0.984995</td>\n      <td>0.972327</td>\n      <td>0.900143</td>\n      <td>0.920045</td>\n      <td>0.963344</td>\n      <td>...</td>\n      <td>0.948234</td>\n      <td>0.944723</td>\n      <td>0.954705</td>\n      <td>0.960330</td>\n      <td>0.975343</td>\n      <td>0.961279</td>\n      <td>0.928068</td>\n      <td>0.967910</td>\n      <td>0.945771</td>\n      <td>0.950269</td>\n    </tr>\n    <tr>\n      <th>4</th>\n      <td>0.956376</td>\n      <td>0.985872</td>\n      <td>0.949051</td>\n      <td>0.986971</td>\n      <td>1.000000</td>\n      <td>0.977979</td>\n      <td>0.988329</td>\n      <td>0.926310</td>\n      <td>0.940086</td>\n      <td>0.979640</td>\n      <td>...</td>\n      <td>0.958277</td>\n      <td>0.971969</td>\n      <td>0.975171</td>\n      <td>0.975352</td>\n      <td>0.983206</td>\n      <td>0.964123</td>\n      <td>0.947026</td>\n      <td>0.986377</td>\n      <td>0.970065</td>\n      <td>0.961034</td>\n    </tr>\n    <tr>\n      <th>...</th>\n      <td>...</td>\n      <td>...</td>\n      <td>...</td>\n      <td>...</td>\n      <td>...</td>\n      <td>...</td>\n      <td>...</td>\n      <td>...</td>\n      <td>...</td>\n      <td>...</td>\n      <td>...</td>\n      <td>...</td>\n      <td>...</td>\n      <td>...</td>\n      <td>...</td>\n      <td>...</td>\n      <td>...</td>\n      <td>...</td>\n      <td>...</td>\n      <td>...</td>\n      <td>...</td>\n    </tr>\n    <tr>\n      <th>61</th>\n      <td>0.942917</td>\n      <td>0.963943</td>\n      <td>0.937409</td>\n      <td>0.961279</td>\n      <td>0.964123</td>\n      <td>0.959657</td>\n      <td>0.965829</td>\n      <td>0.912117</td>\n      <td>0.884880</td>\n      <td>0.938818</td>\n      <td>...</td>\n      <td>0.975946</td>\n      <td>0.940895</td>\n      <td>0.949854</td>\n      <td>0.980713</td>\n      <td>0.987968</td>\n      <td>1.000000</td>\n      <td>0.935864</td>\n      <td>0.964269</td>\n      <td>0.941820</td>\n      <td>0.926664</td>\n    </tr>\n    <tr>\n      <th>62</th>\n      <td>0.975438</td>\n      <td>0.953937</td>\n      <td>0.967578</td>\n      <td>0.928068</td>\n      <td>0.947026</td>\n      <td>0.904110</td>\n      <td>0.947911</td>\n      <td>0.901846</td>\n      <td>0.874434</td>\n      <td>0.930914</td>\n      <td>...</td>\n      <td>0.927555</td>\n      <td>0.958371</td>\n      <td>0.951608</td>\n      <td>0.933650</td>\n      <td>0.944921</td>\n      <td>0.935864</td>\n      <td>1.000000</td>\n      <td>0.961585</td>\n      <td>0.966791</td>\n      <td>0.951350</td>\n    </tr>\n    <tr>\n      <th>63</th>\n      <td>0.966703</td>\n      <td>0.988784</td>\n      <td>0.967312</td>\n      <td>0.967910</td>\n      <td>0.986377</td>\n      <td>0.955594</td>\n      <td>0.987315</td>\n      <td>0.945249</td>\n      <td>0.934553</td>\n      <td>0.987649</td>\n      <td>...</td>\n      <td>0.963370</td>\n      <td>0.966830</td>\n      <td>0.984481</td>\n      <td>0.976979</td>\n      <td>0.980604</td>\n      <td>0.964269</td>\n      <td>0.961585</td>\n      <td>1.000000</td>\n      <td>0.986404</td>\n      <td>0.975096</td>\n    </tr>\n    <tr>\n      <th>64</th>\n      <td>0.980483</td>\n      <td>0.970760</td>\n      <td>0.955307</td>\n      <td>0.945771</td>\n      <td>0.970065</td>\n      <td>0.937506</td>\n      <td>0.963716</td>\n      <td>0.936665</td>\n      <td>0.923163</td>\n      <td>0.969653</td>\n      <td>...</td>\n      <td>0.938868</td>\n      <td>0.965462</td>\n      <td>0.970731</td>\n      <td>0.948539</td>\n      <td>0.966759</td>\n      <td>0.941820</td>\n      <td>0.966791</td>\n      <td>0.986404</td>\n      <td>1.000000</td>\n      <td>0.968540</td>\n    </tr>\n    <tr>\n      <th>65</th>\n      <td>0.966101</td>\n      <td>0.965765</td>\n      <td>0.964790</td>\n      <td>0.950269</td>\n      <td>0.961034</td>\n      <td>0.917810</td>\n      <td>0.967026</td>\n      <td>0.909780</td>\n      <td>0.904053</td>\n      <td>0.971759</td>\n      <td>...</td>\n      <td>0.941568</td>\n      <td>0.963092</td>\n      <td>0.971542</td>\n      <td>0.949468</td>\n      <td>0.953206</td>\n      <td>0.926664</td>\n      <td>0.951350</td>\n      <td>0.975096</td>\n      <td>0.968540</td>\n      <td>1.000000</td>\n    </tr>\n  </tbody>\n</table>\n<p>66 rows × 66 columns</p>\n</div>"
     },
     "execution_count": 13,
     "metadata": {},
     "output_type": "execute_result"
    }
   ],
   "source": [
    "meta_dataset_similarity"
   ],
   "metadata": {
    "collapsed": false,
    "pycharm": {
     "name": "#%%\n"
    }
   }
  },
  {
   "cell_type": "code",
   "execution_count": 14,
   "outputs": [],
   "source": [
    "def Find_Top_k(i,sim_matrix,k):\n",
    "    row = sim_matrix.loc[i]\n",
    "    row = row.sort_values(ascending=False)\n",
    "    index_row = row.index\n",
    "    index_row = index_row.values.tolist()\n",
    "    return index_row[:k]"
   ],
   "metadata": {
    "collapsed": false,
    "pycharm": {
     "name": "#%%\n"
    }
   }
  },
  {
   "cell_type": "markdown",
   "source": [
    "Prediction"
   ],
   "metadata": {
    "collapsed": false,
    "pycharm": {
     "name": "#%% md\n"
    }
   }
  },
  {
   "cell_type": "code",
   "execution_count": 15,
   "outputs": [],
   "source": [
    "def predict(ratings, similarity):\n",
    "        mean_user_rating = ratings.mean(axis=1)\n",
    "        ratings_diff = ratings - np.array(mean_user_rating)[:,np.newaxis]\n",
    "        pred = np.array(mean_user_rating)[:,np.newaxis] + np.dot(similarity,ratings_diff) / np.array([np.abs(similarity).sum(axis = 1)]).T\n",
    "        return pred"
   ],
   "metadata": {
    "collapsed": false,
    "pycharm": {
     "name": "#%%\n"
    }
   }
  },
  {
   "cell_type": "code",
   "execution_count": 16,
   "outputs": [
    {
     "name": "stderr",
     "output_type": "stream",
     "text": [
      "C:\\Users\\BYY\\Model_Recommendation\\venv\\lib\\site-packages\\ipykernel_launcher.py:4: RuntimeWarning: invalid value encountered in true_divide\n",
      "  after removing the cwd from sys.path.\n"
     ]
    }
   ],
   "source": [
    "prediction = predict(data_model_train_matrix,rating_based_dataset_similarity)\n",
    "model_prediction_csv = pd.DataFrame(prediction,index=datasets,columns=models).sort_index()"
   ],
   "metadata": {
    "collapsed": false,
    "pycharm": {
     "name": "#%%\n"
    }
   }
  },
  {
   "cell_type": "code",
   "execution_count": 17,
   "outputs": [
    {
     "data": {
      "text/plain": "         686       318       596       708       795       597       950  \\\n0   0.939000  0.938000  0.000000  0.000000  0.000000  0.000000  0.000000   \n1        NaN       NaN       NaN       NaN       NaN       NaN       NaN   \n2   0.000000  0.000000  0.000000  0.000000  0.000000  0.000000  0.000000   \n3        NaN       NaN       NaN       NaN       NaN       NaN       NaN   \n4   0.000000  0.000000  0.000000  0.000000  0.000000  0.000000  0.000000   \n..       ...       ...       ...       ...       ...       ...       ...   \n61  0.000000  0.000000  0.000000  0.000000  0.000000  0.000000  0.000000   \n62  0.000000  0.000000  0.000000  0.000000  0.000000  0.000000  0.000000   \n63       NaN       NaN       NaN       NaN       NaN       NaN       NaN   \n64  0.000000  0.000000  0.000000  0.000000  0.000000  0.000000  0.000000   \n65 -0.000695 -0.000695 -0.000695 -0.000695 -0.000695 -0.000695 -0.000695   \n\n         841       641       868  ...       315       976       723       952  \\\n0   0.000000  0.000000  0.000000  ...  0.000000  0.000000  0.000000  0.000000   \n1        NaN       NaN       NaN  ...       NaN       NaN       NaN       NaN   \n2   0.000000  0.000000  0.000000  ...  0.000000  0.000000  0.000000  0.000000   \n3        NaN       NaN       NaN  ...       NaN       NaN       NaN       NaN   \n4   0.000000  0.000000  0.000000  ...  0.000000  0.000000  0.000000  0.000000   \n..       ...       ...       ...  ...       ...       ...       ...       ...   \n61  0.000000  0.000000  0.000000  ...  0.000000  0.000000  0.000000  0.000000   \n62  0.000000  0.000000  0.000000  ...  0.000000  0.000000  0.000000  0.000000   \n63       NaN       NaN       NaN  ...       NaN       NaN       NaN       NaN   \n64  0.000000  0.000000  0.685000  ...  0.586000  0.568000  0.562000  0.559000   \n65 -0.000695 -0.000695 -0.000695  ... -0.000695 -0.000695 -0.000695 -0.000695   \n\n         326       179       100       618       468       719  \n0   0.000000  0.000000  0.000000  0.000000  0.000000  0.000000  \n1        NaN       NaN       NaN       NaN       NaN       NaN  \n2   0.000000  0.000000  0.000000  0.000000  0.000000  0.000000  \n3        NaN       NaN       NaN       NaN       NaN       NaN  \n4   0.000000  0.000000  0.000000  0.000000  0.000000  0.000000  \n..       ...       ...       ...       ...       ...       ...  \n61  0.000000  0.000000  0.000000  0.000000  0.000000  0.000000  \n62  0.000000  0.000000  0.000000  0.000000  0.000000  0.000000  \n63       NaN       NaN       NaN       NaN       NaN       NaN  \n64  0.557000  0.553000  0.513000  0.240000  0.205000  0.000000  \n65 -0.000695 -0.000695 -0.000695 -0.000695 -0.000695  0.699562  \n\n[66 rows x 932 columns]",
      "text/html": "<div>\n<style scoped>\n    .dataframe tbody tr th:only-of-type {\n        vertical-align: middle;\n    }\n\n    .dataframe tbody tr th {\n        vertical-align: top;\n    }\n\n    .dataframe thead th {\n        text-align: right;\n    }\n</style>\n<table border=\"1\" class=\"dataframe\">\n  <thead>\n    <tr style=\"text-align: right;\">\n      <th></th>\n      <th>686</th>\n      <th>318</th>\n      <th>596</th>\n      <th>708</th>\n      <th>795</th>\n      <th>597</th>\n      <th>950</th>\n      <th>841</th>\n      <th>641</th>\n      <th>868</th>\n      <th>...</th>\n      <th>315</th>\n      <th>976</th>\n      <th>723</th>\n      <th>952</th>\n      <th>326</th>\n      <th>179</th>\n      <th>100</th>\n      <th>618</th>\n      <th>468</th>\n      <th>719</th>\n    </tr>\n  </thead>\n  <tbody>\n    <tr>\n      <th>0</th>\n      <td>0.939000</td>\n      <td>0.938000</td>\n      <td>0.000000</td>\n      <td>0.000000</td>\n      <td>0.000000</td>\n      <td>0.000000</td>\n      <td>0.000000</td>\n      <td>0.000000</td>\n      <td>0.000000</td>\n      <td>0.000000</td>\n      <td>...</td>\n      <td>0.000000</td>\n      <td>0.000000</td>\n      <td>0.000000</td>\n      <td>0.000000</td>\n      <td>0.000000</td>\n      <td>0.000000</td>\n      <td>0.000000</td>\n      <td>0.000000</td>\n      <td>0.000000</td>\n      <td>0.000000</td>\n    </tr>\n    <tr>\n      <th>1</th>\n      <td>NaN</td>\n      <td>NaN</td>\n      <td>NaN</td>\n      <td>NaN</td>\n      <td>NaN</td>\n      <td>NaN</td>\n      <td>NaN</td>\n      <td>NaN</td>\n      <td>NaN</td>\n      <td>NaN</td>\n      <td>...</td>\n      <td>NaN</td>\n      <td>NaN</td>\n      <td>NaN</td>\n      <td>NaN</td>\n      <td>NaN</td>\n      <td>NaN</td>\n      <td>NaN</td>\n      <td>NaN</td>\n      <td>NaN</td>\n      <td>NaN</td>\n    </tr>\n    <tr>\n      <th>2</th>\n      <td>0.000000</td>\n      <td>0.000000</td>\n      <td>0.000000</td>\n      <td>0.000000</td>\n      <td>0.000000</td>\n      <td>0.000000</td>\n      <td>0.000000</td>\n      <td>0.000000</td>\n      <td>0.000000</td>\n      <td>0.000000</td>\n      <td>...</td>\n      <td>0.000000</td>\n      <td>0.000000</td>\n      <td>0.000000</td>\n      <td>0.000000</td>\n      <td>0.000000</td>\n      <td>0.000000</td>\n      <td>0.000000</td>\n      <td>0.000000</td>\n      <td>0.000000</td>\n      <td>0.000000</td>\n    </tr>\n    <tr>\n      <th>3</th>\n      <td>NaN</td>\n      <td>NaN</td>\n      <td>NaN</td>\n      <td>NaN</td>\n      <td>NaN</td>\n      <td>NaN</td>\n      <td>NaN</td>\n      <td>NaN</td>\n      <td>NaN</td>\n      <td>NaN</td>\n      <td>...</td>\n      <td>NaN</td>\n      <td>NaN</td>\n      <td>NaN</td>\n      <td>NaN</td>\n      <td>NaN</td>\n      <td>NaN</td>\n      <td>NaN</td>\n      <td>NaN</td>\n      <td>NaN</td>\n      <td>NaN</td>\n    </tr>\n    <tr>\n      <th>4</th>\n      <td>0.000000</td>\n      <td>0.000000</td>\n      <td>0.000000</td>\n      <td>0.000000</td>\n      <td>0.000000</td>\n      <td>0.000000</td>\n      <td>0.000000</td>\n      <td>0.000000</td>\n      <td>0.000000</td>\n      <td>0.000000</td>\n      <td>...</td>\n      <td>0.000000</td>\n      <td>0.000000</td>\n      <td>0.000000</td>\n      <td>0.000000</td>\n      <td>0.000000</td>\n      <td>0.000000</td>\n      <td>0.000000</td>\n      <td>0.000000</td>\n      <td>0.000000</td>\n      <td>0.000000</td>\n    </tr>\n    <tr>\n      <th>...</th>\n      <td>...</td>\n      <td>...</td>\n      <td>...</td>\n      <td>...</td>\n      <td>...</td>\n      <td>...</td>\n      <td>...</td>\n      <td>...</td>\n      <td>...</td>\n      <td>...</td>\n      <td>...</td>\n      <td>...</td>\n      <td>...</td>\n      <td>...</td>\n      <td>...</td>\n      <td>...</td>\n      <td>...</td>\n      <td>...</td>\n      <td>...</td>\n      <td>...</td>\n      <td>...</td>\n    </tr>\n    <tr>\n      <th>61</th>\n      <td>0.000000</td>\n      <td>0.000000</td>\n      <td>0.000000</td>\n      <td>0.000000</td>\n      <td>0.000000</td>\n      <td>0.000000</td>\n      <td>0.000000</td>\n      <td>0.000000</td>\n      <td>0.000000</td>\n      <td>0.000000</td>\n      <td>...</td>\n      <td>0.000000</td>\n      <td>0.000000</td>\n      <td>0.000000</td>\n      <td>0.000000</td>\n      <td>0.000000</td>\n      <td>0.000000</td>\n      <td>0.000000</td>\n      <td>0.000000</td>\n      <td>0.000000</td>\n      <td>0.000000</td>\n    </tr>\n    <tr>\n      <th>62</th>\n      <td>0.000000</td>\n      <td>0.000000</td>\n      <td>0.000000</td>\n      <td>0.000000</td>\n      <td>0.000000</td>\n      <td>0.000000</td>\n      <td>0.000000</td>\n      <td>0.000000</td>\n      <td>0.000000</td>\n      <td>0.000000</td>\n      <td>...</td>\n      <td>0.000000</td>\n      <td>0.000000</td>\n      <td>0.000000</td>\n      <td>0.000000</td>\n      <td>0.000000</td>\n      <td>0.000000</td>\n      <td>0.000000</td>\n      <td>0.000000</td>\n      <td>0.000000</td>\n      <td>0.000000</td>\n    </tr>\n    <tr>\n      <th>63</th>\n      <td>NaN</td>\n      <td>NaN</td>\n      <td>NaN</td>\n      <td>NaN</td>\n      <td>NaN</td>\n      <td>NaN</td>\n      <td>NaN</td>\n      <td>NaN</td>\n      <td>NaN</td>\n      <td>NaN</td>\n      <td>...</td>\n      <td>NaN</td>\n      <td>NaN</td>\n      <td>NaN</td>\n      <td>NaN</td>\n      <td>NaN</td>\n      <td>NaN</td>\n      <td>NaN</td>\n      <td>NaN</td>\n      <td>NaN</td>\n      <td>NaN</td>\n    </tr>\n    <tr>\n      <th>64</th>\n      <td>0.000000</td>\n      <td>0.000000</td>\n      <td>0.000000</td>\n      <td>0.000000</td>\n      <td>0.000000</td>\n      <td>0.000000</td>\n      <td>0.000000</td>\n      <td>0.000000</td>\n      <td>0.000000</td>\n      <td>0.685000</td>\n      <td>...</td>\n      <td>0.586000</td>\n      <td>0.568000</td>\n      <td>0.562000</td>\n      <td>0.559000</td>\n      <td>0.557000</td>\n      <td>0.553000</td>\n      <td>0.513000</td>\n      <td>0.240000</td>\n      <td>0.205000</td>\n      <td>0.000000</td>\n    </tr>\n    <tr>\n      <th>65</th>\n      <td>-0.000695</td>\n      <td>-0.000695</td>\n      <td>-0.000695</td>\n      <td>-0.000695</td>\n      <td>-0.000695</td>\n      <td>-0.000695</td>\n      <td>-0.000695</td>\n      <td>-0.000695</td>\n      <td>-0.000695</td>\n      <td>-0.000695</td>\n      <td>...</td>\n      <td>-0.000695</td>\n      <td>-0.000695</td>\n      <td>-0.000695</td>\n      <td>-0.000695</td>\n      <td>-0.000695</td>\n      <td>-0.000695</td>\n      <td>-0.000695</td>\n      <td>-0.000695</td>\n      <td>-0.000695</td>\n      <td>0.699562</td>\n    </tr>\n  </tbody>\n</table>\n<p>66 rows × 932 columns</p>\n</div>"
     },
     "execution_count": 17,
     "metadata": {},
     "output_type": "execute_result"
    }
   ],
   "source": [
    "model_prediction_csv"
   ],
   "metadata": {
    "collapsed": false,
    "pycharm": {
     "name": "#%%\n"
    }
   }
  },
  {
   "cell_type": "code",
   "execution_count": 18,
   "outputs": [],
   "source": [
    "def find_most_sim_with_value(dataset_id,model_id,matrix,k):\n",
    "    Top_k_list = Find_Top_k(model_id,matrix,k)\n",
    "    for i in Top_k_list:\n",
    "        if model_prediction_csv.loc[dataset_id,i] != 0:\n",
    "            return model_prediction_csv.loc[dataset_id,i]\n"
   ],
   "metadata": {
    "collapsed": false,
    "pycharm": {
     "name": "#%%\n"
    }
   }
  },
  {
   "cell_type": "code",
   "execution_count": 19,
   "outputs": [],
   "source": [
    "for i in datasets:\n",
    "    for j in models:\n",
    "        if model_prediction_csv.loc[i][j] == 0:\n",
    "            model_prediction_csv.loc[i][j] = find_most_sim_with_value(i,j,meta_models_similarity,len(models))\n",
    "for i in datasets:\n",
    "    for j in models:\n",
    "        if model_prediction_csv.loc[i].isnull().any():\n",
    "            for j in models:\n",
    "                most_sim_dataset = Find_Top_k(i,meta_dataset_similarity,11)[1] #find most sim dataset\n",
    "                model_prediction_csv.loc[i][j] = model_prediction_csv.loc[most_sim_dataset][j]\n",
    "                continue"
   ],
   "metadata": {
    "collapsed": false,
    "pycharm": {
     "name": "#%%\n"
    }
   }
  },
  {
   "cell_type": "code",
   "execution_count": 20,
   "outputs": [],
   "source": [
    "model_prediction_csv = model_prediction_csv.loc[[1,3,23,63]]"
   ],
   "metadata": {
    "collapsed": false,
    "pycharm": {
     "name": "#%%\n"
    }
   }
  },
  {
   "cell_type": "code",
   "execution_count": 21,
   "outputs": [
    {
     "data": {
      "text/plain": "       686     318    596     708     795     597     950     841    641  \\\n1   0.8200  0.8400  0.867  0.8670  0.8670  0.8430  0.8390  0.8390  0.820   \n3   0.9570  0.8880  0.957  0.9570  0.9570  0.8880  0.8880  0.8880  0.942   \n23  0.7490  0.8140  0.749  0.7490  0.7490  0.8140  0.8140  0.8140  0.749   \n63  0.9303  0.9776  0.923  0.9214  0.9319  0.9303  0.8767  0.9672  0.860   \n\n       868  ...     315    976     723     952     326    179     100     618  \\\n1   0.8670  ...  0.8410  0.839  0.8670  0.8670  0.8430  0.840  0.8670  0.8400   \n3   0.9570  ...  0.8880  0.888  0.9570  0.9570  0.8880  0.888  0.9570  0.8880   \n23  0.7490  ...  0.8140  0.814  0.7880  0.7490  0.8140  0.814  0.7490  0.8140   \n63  0.8533  ...  0.9294  0.928  0.8733  0.9319  0.9303  0.870  0.8633  0.8767   \n\n       468    719  \n1   0.8200  0.840  \n3   0.9420  0.888  \n23  0.7490  0.814  \n63  0.8767  0.928  \n\n[4 rows x 932 columns]",
      "text/html": "<div>\n<style scoped>\n    .dataframe tbody tr th:only-of-type {\n        vertical-align: middle;\n    }\n\n    .dataframe tbody tr th {\n        vertical-align: top;\n    }\n\n    .dataframe thead th {\n        text-align: right;\n    }\n</style>\n<table border=\"1\" class=\"dataframe\">\n  <thead>\n    <tr style=\"text-align: right;\">\n      <th></th>\n      <th>686</th>\n      <th>318</th>\n      <th>596</th>\n      <th>708</th>\n      <th>795</th>\n      <th>597</th>\n      <th>950</th>\n      <th>841</th>\n      <th>641</th>\n      <th>868</th>\n      <th>...</th>\n      <th>315</th>\n      <th>976</th>\n      <th>723</th>\n      <th>952</th>\n      <th>326</th>\n      <th>179</th>\n      <th>100</th>\n      <th>618</th>\n      <th>468</th>\n      <th>719</th>\n    </tr>\n  </thead>\n  <tbody>\n    <tr>\n      <th>1</th>\n      <td>0.8200</td>\n      <td>0.8400</td>\n      <td>0.867</td>\n      <td>0.8670</td>\n      <td>0.8670</td>\n      <td>0.8430</td>\n      <td>0.8390</td>\n      <td>0.8390</td>\n      <td>0.820</td>\n      <td>0.8670</td>\n      <td>...</td>\n      <td>0.8410</td>\n      <td>0.839</td>\n      <td>0.8670</td>\n      <td>0.8670</td>\n      <td>0.8430</td>\n      <td>0.840</td>\n      <td>0.8670</td>\n      <td>0.8400</td>\n      <td>0.8200</td>\n      <td>0.840</td>\n    </tr>\n    <tr>\n      <th>3</th>\n      <td>0.9570</td>\n      <td>0.8880</td>\n      <td>0.957</td>\n      <td>0.9570</td>\n      <td>0.9570</td>\n      <td>0.8880</td>\n      <td>0.8880</td>\n      <td>0.8880</td>\n      <td>0.942</td>\n      <td>0.9570</td>\n      <td>...</td>\n      <td>0.8880</td>\n      <td>0.888</td>\n      <td>0.9570</td>\n      <td>0.9570</td>\n      <td>0.8880</td>\n      <td>0.888</td>\n      <td>0.9570</td>\n      <td>0.8880</td>\n      <td>0.9420</td>\n      <td>0.888</td>\n    </tr>\n    <tr>\n      <th>23</th>\n      <td>0.7490</td>\n      <td>0.8140</td>\n      <td>0.749</td>\n      <td>0.7490</td>\n      <td>0.7490</td>\n      <td>0.8140</td>\n      <td>0.8140</td>\n      <td>0.8140</td>\n      <td>0.749</td>\n      <td>0.7490</td>\n      <td>...</td>\n      <td>0.8140</td>\n      <td>0.814</td>\n      <td>0.7880</td>\n      <td>0.7490</td>\n      <td>0.8140</td>\n      <td>0.814</td>\n      <td>0.7490</td>\n      <td>0.8140</td>\n      <td>0.7490</td>\n      <td>0.814</td>\n    </tr>\n    <tr>\n      <th>63</th>\n      <td>0.9303</td>\n      <td>0.9776</td>\n      <td>0.923</td>\n      <td>0.9214</td>\n      <td>0.9319</td>\n      <td>0.9303</td>\n      <td>0.8767</td>\n      <td>0.9672</td>\n      <td>0.860</td>\n      <td>0.8533</td>\n      <td>...</td>\n      <td>0.9294</td>\n      <td>0.928</td>\n      <td>0.8733</td>\n      <td>0.9319</td>\n      <td>0.9303</td>\n      <td>0.870</td>\n      <td>0.8633</td>\n      <td>0.8767</td>\n      <td>0.8767</td>\n      <td>0.928</td>\n    </tr>\n  </tbody>\n</table>\n<p>4 rows × 932 columns</p>\n</div>"
     },
     "execution_count": 21,
     "metadata": {},
     "output_type": "execute_result"
    }
   ],
   "source": [
    "model_prediction_csv"
   ],
   "metadata": {
    "collapsed": false,
    "pycharm": {
     "name": "#%%\n"
    }
   }
  },
  {
   "cell_type": "code",
   "execution_count": 22,
   "outputs": [
    {
     "data": {
      "text/plain": "[1, 3, 23, 63]"
     },
     "execution_count": 22,
     "metadata": {},
     "output_type": "execute_result"
    }
   ],
   "source": [
    "index_list = model_prediction_csv.index.to_list()\n",
    "index_list"
   ],
   "metadata": {
    "collapsed": false,
    "pycharm": {
     "name": "#%%\n"
    }
   }
  },
  {
   "cell_type": "code",
   "execution_count": 23,
   "outputs": [
    {
     "data": {
      "text/plain": "Empty DataFrame\nColumns: [dataset, predict_balance_accuracy, model, groundtruth_balance_accuracy]\nIndex: []",
      "text/html": "<div>\n<style scoped>\n    .dataframe tbody tr th:only-of-type {\n        vertical-align: middle;\n    }\n\n    .dataframe tbody tr th {\n        vertical-align: top;\n    }\n\n    .dataframe thead th {\n        text-align: right;\n    }\n</style>\n<table border=\"1\" class=\"dataframe\">\n  <thead>\n    <tr style=\"text-align: right;\">\n      <th></th>\n      <th>dataset</th>\n      <th>predict_balance_accuracy</th>\n      <th>model</th>\n      <th>groundtruth_balance_accuracy</th>\n    </tr>\n  </thead>\n  <tbody>\n  </tbody>\n</table>\n</div>"
     },
     "execution_count": 23,
     "metadata": {},
     "output_type": "execute_result"
    }
   ],
   "source": [
    "result = pd.DataFrame(columns={\"dataset\",\"model\",\"predict_balance_accuracy\",\"groundtruth_balance_accuracy\"})\n",
    "result"
   ],
   "metadata": {
    "collapsed": false,
    "pycharm": {
     "name": "#%%\n"
    }
   }
  },
  {
   "cell_type": "code",
   "execution_count": 24,
   "outputs": [],
   "source": [
    "for i in range(4):\n",
    "    dataset_id = index_list[i]\n",
    "    for j in range(932):\n",
    "        model_id = models[j]\n",
    "        if data_model_test_matrix.loc[dataset_id][model_id] == 0:\n",
    "            continue\n",
    "        predict_balance_accuracy = model_prediction_csv.loc[dataset_id][model_id]\n",
    "        groundtruth_balance_accuracy = data_model_test_matrix.loc[dataset_id][model_id]\n",
    "        result = result.append([{'dataset':dataset_id,'model':model_id,'predict_balance_accuracy':predict_balance_accuracy,'groundtruth_balance_accuracy':groundtruth_balance_accuracy}],ignore_index=True)"
   ],
   "metadata": {
    "collapsed": false,
    "pycharm": {
     "name": "#%%\n"
    }
   }
  },
  {
   "cell_type": "code",
   "execution_count": 25,
   "outputs": [
    {
     "data": {
      "text/plain": "   dataset  predict_balance_accuracy model  groundtruth_balance_accuracy\n0        1                    0.8400   318                         0.501\n1        1                    0.8670   596                         0.949\n2        1                    0.8670   708                         0.947\n3        1                    0.8670   795                         0.946\n4        1                    0.8430   597                         0.925\n5        1                    0.8390   950                         0.914\n6        1                    0.8390   841                         0.905\n7        1                    0.8200   641                         0.901\n8        1                    0.8670   868                         0.883\n9        1                    0.8200   772                         0.851\n10       1                    0.8390   527                         0.508\n11       3                    0.9570   319                         0.946\n12       3                    0.9420   177                         0.922\n13       3                    0.9230   178                         0.910\n14       3                    0.9420   675                         0.886\n15       3                    0.9420   791                         0.870\n16       3                    0.8880   277                         0.807\n17       3                    0.8880   456                         0.778\n18       3                    0.8880   978                         0.502\n19       3                    0.8880   368                         0.498\n20       3                    0.9420   857                         0.497\n21      23                    0.7880   921                         0.754\n22      23                    0.8140   995                         0.777\n23      23                    0.7490   985                         0.779\n24      23                    0.7880   997                         0.724\n25      23                    0.8140   850                         0.782\n26      23                    0.7490   197                         0.670\n27      23                    0.7490   533                         0.871\n28      23                    0.7490   872                         0.834\n29      23                    0.7490   469                         0.831\n30      23                    0.7490   600                         0.071\n31      63                    0.9395   319                         0.954\n32      63                    0.8767   784                         0.974\n33      63                    0.8667   780                         0.960\n34      63                    0.8767   783                         0.959\n35      63                    0.9776   782                         0.957\n36      63                    0.8767   323                         0.952\n37      63                    0.8767   511                         0.533\n38      63                    0.8767   517                         0.509\n39      63                    0.8700   717                         0.484\n40      63                    0.9776   885                         0.474",
      "text/html": "<div>\n<style scoped>\n    .dataframe tbody tr th:only-of-type {\n        vertical-align: middle;\n    }\n\n    .dataframe tbody tr th {\n        vertical-align: top;\n    }\n\n    .dataframe thead th {\n        text-align: right;\n    }\n</style>\n<table border=\"1\" class=\"dataframe\">\n  <thead>\n    <tr style=\"text-align: right;\">\n      <th></th>\n      <th>dataset</th>\n      <th>predict_balance_accuracy</th>\n      <th>model</th>\n      <th>groundtruth_balance_accuracy</th>\n    </tr>\n  </thead>\n  <tbody>\n    <tr>\n      <th>0</th>\n      <td>1</td>\n      <td>0.8400</td>\n      <td>318</td>\n      <td>0.501</td>\n    </tr>\n    <tr>\n      <th>1</th>\n      <td>1</td>\n      <td>0.8670</td>\n      <td>596</td>\n      <td>0.949</td>\n    </tr>\n    <tr>\n      <th>2</th>\n      <td>1</td>\n      <td>0.8670</td>\n      <td>708</td>\n      <td>0.947</td>\n    </tr>\n    <tr>\n      <th>3</th>\n      <td>1</td>\n      <td>0.8670</td>\n      <td>795</td>\n      <td>0.946</td>\n    </tr>\n    <tr>\n      <th>4</th>\n      <td>1</td>\n      <td>0.8430</td>\n      <td>597</td>\n      <td>0.925</td>\n    </tr>\n    <tr>\n      <th>5</th>\n      <td>1</td>\n      <td>0.8390</td>\n      <td>950</td>\n      <td>0.914</td>\n    </tr>\n    <tr>\n      <th>6</th>\n      <td>1</td>\n      <td>0.8390</td>\n      <td>841</td>\n      <td>0.905</td>\n    </tr>\n    <tr>\n      <th>7</th>\n      <td>1</td>\n      <td>0.8200</td>\n      <td>641</td>\n      <td>0.901</td>\n    </tr>\n    <tr>\n      <th>8</th>\n      <td>1</td>\n      <td>0.8670</td>\n      <td>868</td>\n      <td>0.883</td>\n    </tr>\n    <tr>\n      <th>9</th>\n      <td>1</td>\n      <td>0.8200</td>\n      <td>772</td>\n      <td>0.851</td>\n    </tr>\n    <tr>\n      <th>10</th>\n      <td>1</td>\n      <td>0.8390</td>\n      <td>527</td>\n      <td>0.508</td>\n    </tr>\n    <tr>\n      <th>11</th>\n      <td>3</td>\n      <td>0.9570</td>\n      <td>319</td>\n      <td>0.946</td>\n    </tr>\n    <tr>\n      <th>12</th>\n      <td>3</td>\n      <td>0.9420</td>\n      <td>177</td>\n      <td>0.922</td>\n    </tr>\n    <tr>\n      <th>13</th>\n      <td>3</td>\n      <td>0.9230</td>\n      <td>178</td>\n      <td>0.910</td>\n    </tr>\n    <tr>\n      <th>14</th>\n      <td>3</td>\n      <td>0.9420</td>\n      <td>675</td>\n      <td>0.886</td>\n    </tr>\n    <tr>\n      <th>15</th>\n      <td>3</td>\n      <td>0.9420</td>\n      <td>791</td>\n      <td>0.870</td>\n    </tr>\n    <tr>\n      <th>16</th>\n      <td>3</td>\n      <td>0.8880</td>\n      <td>277</td>\n      <td>0.807</td>\n    </tr>\n    <tr>\n      <th>17</th>\n      <td>3</td>\n      <td>0.8880</td>\n      <td>456</td>\n      <td>0.778</td>\n    </tr>\n    <tr>\n      <th>18</th>\n      <td>3</td>\n      <td>0.8880</td>\n      <td>978</td>\n      <td>0.502</td>\n    </tr>\n    <tr>\n      <th>19</th>\n      <td>3</td>\n      <td>0.8880</td>\n      <td>368</td>\n      <td>0.498</td>\n    </tr>\n    <tr>\n      <th>20</th>\n      <td>3</td>\n      <td>0.9420</td>\n      <td>857</td>\n      <td>0.497</td>\n    </tr>\n    <tr>\n      <th>21</th>\n      <td>23</td>\n      <td>0.7880</td>\n      <td>921</td>\n      <td>0.754</td>\n    </tr>\n    <tr>\n      <th>22</th>\n      <td>23</td>\n      <td>0.8140</td>\n      <td>995</td>\n      <td>0.777</td>\n    </tr>\n    <tr>\n      <th>23</th>\n      <td>23</td>\n      <td>0.7490</td>\n      <td>985</td>\n      <td>0.779</td>\n    </tr>\n    <tr>\n      <th>24</th>\n      <td>23</td>\n      <td>0.7880</td>\n      <td>997</td>\n      <td>0.724</td>\n    </tr>\n    <tr>\n      <th>25</th>\n      <td>23</td>\n      <td>0.8140</td>\n      <td>850</td>\n      <td>0.782</td>\n    </tr>\n    <tr>\n      <th>26</th>\n      <td>23</td>\n      <td>0.7490</td>\n      <td>197</td>\n      <td>0.670</td>\n    </tr>\n    <tr>\n      <th>27</th>\n      <td>23</td>\n      <td>0.7490</td>\n      <td>533</td>\n      <td>0.871</td>\n    </tr>\n    <tr>\n      <th>28</th>\n      <td>23</td>\n      <td>0.7490</td>\n      <td>872</td>\n      <td>0.834</td>\n    </tr>\n    <tr>\n      <th>29</th>\n      <td>23</td>\n      <td>0.7490</td>\n      <td>469</td>\n      <td>0.831</td>\n    </tr>\n    <tr>\n      <th>30</th>\n      <td>23</td>\n      <td>0.7490</td>\n      <td>600</td>\n      <td>0.071</td>\n    </tr>\n    <tr>\n      <th>31</th>\n      <td>63</td>\n      <td>0.9395</td>\n      <td>319</td>\n      <td>0.954</td>\n    </tr>\n    <tr>\n      <th>32</th>\n      <td>63</td>\n      <td>0.8767</td>\n      <td>784</td>\n      <td>0.974</td>\n    </tr>\n    <tr>\n      <th>33</th>\n      <td>63</td>\n      <td>0.8667</td>\n      <td>780</td>\n      <td>0.960</td>\n    </tr>\n    <tr>\n      <th>34</th>\n      <td>63</td>\n      <td>0.8767</td>\n      <td>783</td>\n      <td>0.959</td>\n    </tr>\n    <tr>\n      <th>35</th>\n      <td>63</td>\n      <td>0.9776</td>\n      <td>782</td>\n      <td>0.957</td>\n    </tr>\n    <tr>\n      <th>36</th>\n      <td>63</td>\n      <td>0.8767</td>\n      <td>323</td>\n      <td>0.952</td>\n    </tr>\n    <tr>\n      <th>37</th>\n      <td>63</td>\n      <td>0.8767</td>\n      <td>511</td>\n      <td>0.533</td>\n    </tr>\n    <tr>\n      <th>38</th>\n      <td>63</td>\n      <td>0.8767</td>\n      <td>517</td>\n      <td>0.509</td>\n    </tr>\n    <tr>\n      <th>39</th>\n      <td>63</td>\n      <td>0.8700</td>\n      <td>717</td>\n      <td>0.484</td>\n    </tr>\n    <tr>\n      <th>40</th>\n      <td>63</td>\n      <td>0.9776</td>\n      <td>885</td>\n      <td>0.474</td>\n    </tr>\n  </tbody>\n</table>\n</div>"
     },
     "execution_count": 25,
     "metadata": {},
     "output_type": "execute_result"
    }
   ],
   "source": [
    "result"
   ],
   "metadata": {
    "collapsed": false,
    "pycharm": {
     "name": "#%%\n"
    }
   }
  },
  {
   "cell_type": "code",
   "execution_count": 26,
   "outputs": [],
   "source": [
    "result.to_csv(\"Huggingface_result\",sep='\\t')"
   ],
   "metadata": {
    "collapsed": false,
    "pycharm": {
     "name": "#%%\n"
    }
   }
  },
  {
   "cell_type": "code",
   "execution_count": 26,
   "outputs": [],
   "source": [],
   "metadata": {
    "collapsed": false,
    "pycharm": {
     "name": "#%%\n"
    }
   }
  }
 ],
 "metadata": {
  "kernelspec": {
   "display_name": "Python 3",
   "language": "python",
   "name": "python3"
  },
  "language_info": {
   "codemirror_mode": {
    "name": "ipython",
    "version": 2
   },
   "file_extension": ".py",
   "mimetype": "text/x-python",
   "name": "python",
   "nbconvert_exporter": "python",
   "pygments_lexer": "ipython2",
   "version": "2.7.6"
  }
 },
 "nbformat": 4,
 "nbformat_minor": 0
}