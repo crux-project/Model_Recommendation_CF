{
 "cells": [
  {
   "cell_type": "code",
   "execution_count": 161,
   "metadata": {
    "collapsed": false,
    "pycharm": {
     "name": "#%%\n"
    }
   },
   "outputs": [],
   "source": [
    "import time\n",
    "import numpy as np\n",
    "import pandas as pd\n",
    "from sklearn.metrics.pairwise import cosine_similarity\n",
    "import datetime"
   ]
  },
  {
   "cell_type": "markdown",
   "metadata": {
    "collapsed": false,
    "pycharm": {
     "name": "#%% md\n"
    }
   },
   "source": [
    "Data Loading"
   ]
  },
  {
   "cell_type": "code",
   "execution_count": 162,
   "metadata": {
    "collapsed": false,
    "pycharm": {
     "name": "#%%\n"
    }
   },
   "outputs": [],
   "source": [
    "ratings_train = pd.read_csv(\"./Data/Delay_time_data/edge_train.csv\",low_memory=False)\n",
    "ratings_test = pd.read_csv(\"./Data/rate_test.csv\",low_memory=False)"
   ]
  },
  {
   "cell_type": "code",
   "execution_count": 163,
   "metadata": {
    "collapsed": false,
    "pycharm": {
     "name": "#%%\n"
    }
   },
   "outputs": [],
   "source": [
    "datasets_train = ratings_train.dataset_id.unique()\n",
    "model_train = ratings_train.model_id.unique()\n",
    "datasets_test = ratings_test.dataset_id.unique()\n",
    "model_test = ratings_test.model_id.unique()\n",
    "meta_models = pd.read_csv(\"./Data/models_v.csv\",low_memory=False)\n",
    "models = meta_models.model_id.unique()"
   ]
  },
  {
   "cell_type": "markdown",
   "metadata": {
    "collapsed": false,
    "pycharm": {
     "name": "#%% md\n"
    }
   },
   "source": [
    "Rating Matrix"
   ]
  },
  {
   "cell_type": "code",
   "execution_count": 164,
   "metadata": {
    "collapsed": false,
    "pycharm": {
     "name": "#%%\n"
    }
   },
   "outputs": [],
   "source": [
    "data_model_train_matrix = pd.DataFrame(index=datasets_train,columns=models)\n",
    "data_model_test_matrix = pd.DataFrame(index=datasets_test,columns=models)"
   ]
  },
  {
   "cell_type": "code",
   "execution_count": 165,
   "metadata": {
    "collapsed": false,
    "pycharm": {
     "name": "#%%\n"
    }
   },
   "outputs": [],
   "source": [
    "for row in ratings_train.itertuples():\n",
    "    data_model_train_matrix.loc[row[1]][row[2]] = row[3]\n",
    "data_model_train_matrix = data_model_train_matrix.fillna(0)"
   ]
  },
  {
   "cell_type": "code",
   "execution_count": 166,
   "metadata": {
    "collapsed": false,
    "pycharm": {
     "name": "#%%\n"
    }
   },
   "outputs": [],
   "source": [
    "for row in ratings_test.itertuples():\n",
    "    data_model_test_matrix.loc[row[1]][row[2]] = row[3]\n",
    "data_model_test_matrix = data_model_test_matrix.fillna(0)"
   ]
  },
  {
   "cell_type": "markdown",
   "metadata": {
    "collapsed": false,
    "pycharm": {
     "name": "#%% md\n"
    }
   },
   "source": [
    "Dataset Similarity Matrix"
   ]
  },
  {
   "cell_type": "code",
   "execution_count": 167,
   "metadata": {
    "pycharm": {
     "name": "#%%\n"
    }
   },
   "outputs": [],
   "source": [
    "meta_datasets = pd.read_csv(\"./Data/dataset_v.csv\",low_memory=False)\n",
    "datasets = meta_datasets.dataset_id.unique()\n",
    "meta_datasets = meta_datasets.loc[:,(\"v1\",\"v2\",\"v3\",\"v4\",\"v5\",\"v6\",\"v7\",\"v8\",\"v9\",\"v10\",\"v11\",\"v12\",\"v13\",\"v14\",\"v15\",\"v16\")]"
   ]
  },
  {
   "cell_type": "code",
   "execution_count": 168,
   "metadata": {
    "pycharm": {
     "name": "#%%\n"
    }
   },
   "outputs": [],
   "source": [
    "meta_dataset_similarity = cosine_similarity(meta_datasets.values.tolist())\n",
    "meta_dataset_similarity = pd.DataFrame(meta_dataset_similarity,index=datasets,columns=datasets)"
   ]
  },
  {
   "cell_type": "code",
   "execution_count": 169,
   "outputs": [],
   "source": [
    "meta_models = meta_models.loc[:,(\"v1\",\"v2\",\"v3\",\"v4\",\"v5\",\"v6\",\"v7\",\"v8\",\"v9\",\"v10\",\"v11\",\"v12\",\"v13\",\"v14\",\"v15\",\"v16\")]"
   ],
   "metadata": {
    "collapsed": false,
    "pycharm": {
     "name": "#%%\n"
    }
   }
  },
  {
   "cell_type": "code",
   "execution_count": 170,
   "outputs": [],
   "source": [
    "meta_model_similarity = cosine_similarity(meta_models.values.tolist())\n",
    "meta_model_similarity = pd.DataFrame(meta_model_similarity,index=models,columns=models)"
   ],
   "metadata": {
    "collapsed": false,
    "pycharm": {
     "name": "#%%\n"
    }
   }
  },
  {
   "cell_type": "code",
   "execution_count": 171,
   "metadata": {
    "pycharm": {
     "name": "#%%\n"
    }
   },
   "outputs": [],
   "source": [
    "# user_similarity = cosine_similarity(data_model_train_matrix)\n",
    "# datasets_similarity = pd.DataFrame(user_similarity,index=datasets_train,columns=datasets_train)\n",
    "def similarity(user1, user2,):\n",
    "    # 获取两个用户共同评分的物品\n",
    "    cols = data_model_train_matrix.columns[data_model_train_matrix.loc[user1].values.nonzero()[0]]\n",
    "    common_items = np.intersect1d(cols, data_model_train_matrix.columns[data_model_train_matrix.loc[user2].values.nonzero()[0]]).tolist()\n",
    "    # 如果没有共同评分的物品，则相似度为0\n",
    "    if len(common_items) == 0:\n",
    "        return meta_dataset_similarity.loc[user1][user2]\n",
    "    # 计算两个用户共同评分物品的评分差的平方和\n",
    "    diff = 0\n",
    "    for common_item in common_items:\n",
    "        diff += data_model_train_matrix.loc[user1][common_item] - data_model_train_matrix.loc[user2][common_item]\n",
    "    square_diff = np.sum(diff ** 2)\n",
    "    # 计算相似度\n",
    "    sim = 1 / (1 + np.sqrt(square_diff))\n",
    "    return sim\n",
    "\n",
    "\n",
    "user_similarities = pd.DataFrame(index=datasets_train, columns=datasets_train)\n",
    "for i in datasets_train:\n",
    "    for j in datasets_train:\n",
    "        user_similarities.loc[i][j] = similarity(i, j)\n",
    "        user_similarities.loc[j][i] = user_similarities.loc[i][j]"
   ]
  },
  {
   "cell_type": "markdown",
   "metadata": {
    "collapsed": false,
    "pycharm": {
     "name": "#%% md\n"
    }
   },
   "source": [
    "Prediction"
   ]
  },
  {
   "cell_type": "code",
   "execution_count": 172,
   "metadata": {
    "collapsed": false,
    "pycharm": {
     "name": "#%%\n"
    }
   },
   "outputs": [],
   "source": [
    "def predict(ratings, user_similarities, user_id, item_id):\n",
    "    # 获取与用户最相似的K个用户\n",
    "    k = 1\n",
    "    similar_users = user_similarities.loc[user_id].sort_values(ascending=False).index.tolist()[1:k+1]\n",
    "    # print(similar_users)\n",
    "    # 计算加权平均评分\n",
    "    weighted_sum = 0\n",
    "    sum_of_weights = 0\n",
    "    for sim_user_id in similar_users:\n",
    "        if ratings.loc[sim_user_id][item_id] != 0:\n",
    "            # print(sim_user_id,item_id)\n",
    "            weighted_sum += user_similarities.loc[user_id][sim_user_id] * ratings.loc[sim_user_id][item_id]\n",
    "            sum_of_weights += user_similarities.loc[user_id][sim_user_id]\n",
    "    if sum_of_weights == 0:\n",
    "        return 0\n",
    "    else:\n",
    "        return weighted_sum / sum_of_weights"
   ]
  },
  {
   "cell_type": "code",
   "execution_count": 173,
   "metadata": {
    "collapsed": false,
    "pycharm": {
     "name": "#%%\n"
    }
   },
   "outputs": [],
   "source": [
    "model_prediction_train = pd.DataFrame(index=datasets_train,columns=models)"
   ]
  },
  {
   "cell_type": "code",
   "execution_count": 174,
   "metadata": {
    "collapsed": false,
    "pycharm": {
     "name": "#%%\n"
    }
   },
   "outputs": [],
   "source": [
    "for i in datasets_train:\n",
    "    for j in models:\n",
    "        if data_model_train_matrix.loc[i][j] == 0:\n",
    "            model_prediction_train.loc[i][j] = predict(data_model_train_matrix,user_similarities,i,j)"
   ]
  },
  {
   "cell_type": "code",
   "execution_count": 175,
   "metadata": {
    "collapsed": false,
    "pycharm": {
     "name": "#%%\n"
    }
   },
   "outputs": [],
   "source": [
    "# train_prediction = predict(data_model_train_matrix,user_similarities)\n",
    "model_prediction_train = pd.DataFrame(data_model_train_matrix,index=datasets_train,columns=models).sort_index().sort_index(axis=1)\n",
    "model_prediction_test = pd.DataFrame(index=datasets_test,columns=models)"
   ]
  },
  {
   "cell_type": "markdown",
   "metadata": {
    "collapsed": false,
    "pycharm": {
     "name": "#%% md\n"
    }
   },
   "source": [
    "Metadata Based"
   ]
  },
  {
   "cell_type": "code",
   "execution_count": 176,
   "metadata": {
    "collapsed": false,
    "pycharm": {
     "name": "#%%\n"
    }
   },
   "outputs": [],
   "source": [
    "def find_sim_index(index):\n",
    "    row1 = meta_dataset_similarity.loc[index]\n",
    "    row1_max_index = row1[row1 == row1.max()].index[0]\n",
    "    return row1_max_index"
   ]
  },
  {
   "cell_type": "code",
   "execution_count": 177,
   "metadata": {
    "collapsed": false,
    "pycharm": {
     "name": "#%%\n"
    }
   },
   "outputs": [],
   "source": [
    "def Find_Top_k(i,sim_matrix):\n",
    "    row = sim_matrix.loc[i]\n",
    "    row = row.sort_values(ascending=False)\n",
    "    index_row = row.index\n",
    "    index_row = index_row.values.tolist()\n",
    "    return index_row"
   ]
  },
  {
   "cell_type": "code",
   "execution_count": 178,
   "outputs": [],
   "source": [
    "start_time = time.time()"
   ],
   "metadata": {
    "collapsed": false,
    "pycharm": {
     "name": "#%%\n"
    }
   }
  },
  {
   "cell_type": "code",
   "execution_count": 179,
   "metadata": {
    "collapsed": false,
    "pycharm": {
     "name": "#%%\n"
    }
   },
   "outputs": [],
   "source": [
    "for dataset in datasets_test:\n",
    "    for model in model_test:\n",
    "        dataset_sim_list = Find_Top_k(dataset,meta_dataset_similarity)[1:]\n",
    "        for sim_dataset in dataset_sim_list:\n",
    "            if sim_dataset not in datasets_train:\n",
    "                continue\n",
    "            if model_prediction_train.loc[sim_dataset][model] > 0.1:\n",
    "                model_prediction_test.loc[dataset][model] = model_prediction_train.loc[sim_dataset][model]\n",
    "                break"
   ]
  },
  {
   "cell_type": "code",
   "execution_count": 180,
   "outputs": [],
   "source": [
    "end_time = time.time()"
   ],
   "metadata": {
    "collapsed": false,
    "pycharm": {
     "name": "#%%\n"
    }
   }
  },
  {
   "cell_type": "code",
   "execution_count": 181,
   "outputs": [
    {
     "data": {
      "text/plain": "0.1847519874572754"
     },
     "execution_count": 181,
     "metadata": {},
     "output_type": "execute_result"
    }
   ],
   "source": [
    "end_time - start_time"
   ],
   "metadata": {
    "collapsed": false,
    "pycharm": {
     "name": "#%%\n"
    }
   }
  },
  {
   "cell_type": "code",
   "execution_count": 182,
   "metadata": {
    "collapsed": false,
    "pycharm": {
     "name": "#%%\n"
    }
   },
   "outputs": [],
   "source": [
    "for i in datasets_test:\n",
    "    for j in models:\n",
    "        if data_model_test_matrix.loc[i][j] == 0:\n",
    "            model_prediction_test.loc[i][j] = None"
   ]
  },
  {
   "cell_type": "code",
   "execution_count": 183,
   "metadata": {
    "collapsed": false,
    "pycharm": {
     "name": "#%%\n"
    }
   },
   "outputs": [],
   "source": [
    "new_result = pd.DataFrame(columns={\"dataset_id\",\"model_id\",\"predict_according_accuracy\",\"groundtruth_according_accuracy\"})"
   ]
  },
  {
   "cell_type": "code",
   "execution_count": 184,
   "metadata": {
    "collapsed": false,
    "pycharm": {
     "name": "#%%\n"
    }
   },
   "outputs": [],
   "source": [
    "for i in datasets_test:\n",
    "    for j in models:\n",
    "        if model_prediction_test.loc[i][j] is not None:\n",
    "            predict_according_accuracy = model_prediction_test.loc[i][j]\n",
    "            groundtruth_according_accuracy = data_model_test_matrix.loc[i][j]\n",
    "            new_result = new_result.append([{'dataset_id':i,'model_id':j,'predict_according_accuracy':predict_according_accuracy,'groundtruth_according_accuracy':groundtruth_according_accuracy}],ignore_index=True)"
   ]
  },
  {
   "cell_type": "code",
   "execution_count": 185,
   "metadata": {
    "collapsed": false,
    "pycharm": {
     "name": "#%%\n"
    }
   },
   "outputs": [
    {
     "data": {
      "text/plain": "    groundtruth_according_accuracy  model_id  dataset_id  \\\n0                            0.501       318           1   \n1                            0.508       527           1   \n2                            0.949       596           1   \n3                            0.925       597           1   \n4                            0.901       641           1   \n5                            0.947       708           1   \n6                            0.851       772           1   \n7                            0.946       795           1   \n8                            0.905       841           1   \n9                            0.883       868           1   \n10                           0.914       950           1   \n11                           0.922       177           3   \n12                           0.910       178           3   \n13                           0.807       277           3   \n14                           0.946       319           3   \n15                           0.498       368           3   \n16                           0.778       456           3   \n17                           0.886       675           3   \n18                           0.870       791           3   \n19                           0.497       857           3   \n20                           0.502       978           3   \n21                           0.670       197          23   \n22                           0.831       469          23   \n23                           0.871       533          23   \n24                           0.071       600          23   \n25                           0.782       850          23   \n26                           0.834       872          23   \n27                           0.754       921          23   \n28                           0.779       985          23   \n29                           0.777       995          23   \n30                           0.724       997          23   \n31                           0.954       319          63   \n32                           0.952       323          63   \n33                           0.533       511          63   \n34                           0.509       517          63   \n35                           0.484       717          63   \n36                           0.960       780          63   \n37                           0.957       782          63   \n38                           0.959       783          63   \n39                           0.974       784          63   \n40                           0.474       885          63   \n\n    predict_according_accuracy  \n0                       0.9380  \n1                       0.9246  \n2                       0.9230  \n3                       0.9303  \n4                       0.8600  \n5                       0.9214  \n6                       0.8200  \n7                       0.9319  \n8                       0.9672  \n9                       0.6850  \n10                      0.9323  \n11                      0.9420  \n12                      0.9230  \n13                      0.8880  \n14                      0.9540  \n15                      0.5493  \n16                      0.8383  \n17                      0.5420  \n18                      0.5870  \n19                      0.8603  \n20                      0.2050  \n21                      0.7490  \n22                      0.7420  \n23                      0.0000  \n24                      0.9303  \n25                      0.9315  \n26                      0.9920  \n27                      0.9375  \n28                      0.9355  \n29                      0.9365  \n30                      0.9325  \n31                      0.9460  \n32                      0.7810  \n33                      0.4300  \n34                      0.6340  \n35                      0.5920  \n36                      0.9730  \n37                      0.9670  \n38                      0.9600  \n39                      0.9870  \n40                      0.5600  ",
      "text/html": "<div>\n<style scoped>\n    .dataframe tbody tr th:only-of-type {\n        vertical-align: middle;\n    }\n\n    .dataframe tbody tr th {\n        vertical-align: top;\n    }\n\n    .dataframe thead th {\n        text-align: right;\n    }\n</style>\n<table border=\"1\" class=\"dataframe\">\n  <thead>\n    <tr style=\"text-align: right;\">\n      <th></th>\n      <th>groundtruth_according_accuracy</th>\n      <th>model_id</th>\n      <th>dataset_id</th>\n      <th>predict_according_accuracy</th>\n    </tr>\n  </thead>\n  <tbody>\n    <tr>\n      <th>0</th>\n      <td>0.501</td>\n      <td>318</td>\n      <td>1</td>\n      <td>0.9380</td>\n    </tr>\n    <tr>\n      <th>1</th>\n      <td>0.508</td>\n      <td>527</td>\n      <td>1</td>\n      <td>0.9246</td>\n    </tr>\n    <tr>\n      <th>2</th>\n      <td>0.949</td>\n      <td>596</td>\n      <td>1</td>\n      <td>0.9230</td>\n    </tr>\n    <tr>\n      <th>3</th>\n      <td>0.925</td>\n      <td>597</td>\n      <td>1</td>\n      <td>0.9303</td>\n    </tr>\n    <tr>\n      <th>4</th>\n      <td>0.901</td>\n      <td>641</td>\n      <td>1</td>\n      <td>0.8600</td>\n    </tr>\n    <tr>\n      <th>5</th>\n      <td>0.947</td>\n      <td>708</td>\n      <td>1</td>\n      <td>0.9214</td>\n    </tr>\n    <tr>\n      <th>6</th>\n      <td>0.851</td>\n      <td>772</td>\n      <td>1</td>\n      <td>0.8200</td>\n    </tr>\n    <tr>\n      <th>7</th>\n      <td>0.946</td>\n      <td>795</td>\n      <td>1</td>\n      <td>0.9319</td>\n    </tr>\n    <tr>\n      <th>8</th>\n      <td>0.905</td>\n      <td>841</td>\n      <td>1</td>\n      <td>0.9672</td>\n    </tr>\n    <tr>\n      <th>9</th>\n      <td>0.883</td>\n      <td>868</td>\n      <td>1</td>\n      <td>0.6850</td>\n    </tr>\n    <tr>\n      <th>10</th>\n      <td>0.914</td>\n      <td>950</td>\n      <td>1</td>\n      <td>0.9323</td>\n    </tr>\n    <tr>\n      <th>11</th>\n      <td>0.922</td>\n      <td>177</td>\n      <td>3</td>\n      <td>0.9420</td>\n    </tr>\n    <tr>\n      <th>12</th>\n      <td>0.910</td>\n      <td>178</td>\n      <td>3</td>\n      <td>0.9230</td>\n    </tr>\n    <tr>\n      <th>13</th>\n      <td>0.807</td>\n      <td>277</td>\n      <td>3</td>\n      <td>0.8880</td>\n    </tr>\n    <tr>\n      <th>14</th>\n      <td>0.946</td>\n      <td>319</td>\n      <td>3</td>\n      <td>0.9540</td>\n    </tr>\n    <tr>\n      <th>15</th>\n      <td>0.498</td>\n      <td>368</td>\n      <td>3</td>\n      <td>0.5493</td>\n    </tr>\n    <tr>\n      <th>16</th>\n      <td>0.778</td>\n      <td>456</td>\n      <td>3</td>\n      <td>0.8383</td>\n    </tr>\n    <tr>\n      <th>17</th>\n      <td>0.886</td>\n      <td>675</td>\n      <td>3</td>\n      <td>0.5420</td>\n    </tr>\n    <tr>\n      <th>18</th>\n      <td>0.870</td>\n      <td>791</td>\n      <td>3</td>\n      <td>0.5870</td>\n    </tr>\n    <tr>\n      <th>19</th>\n      <td>0.497</td>\n      <td>857</td>\n      <td>3</td>\n      <td>0.8603</td>\n    </tr>\n    <tr>\n      <th>20</th>\n      <td>0.502</td>\n      <td>978</td>\n      <td>3</td>\n      <td>0.2050</td>\n    </tr>\n    <tr>\n      <th>21</th>\n      <td>0.670</td>\n      <td>197</td>\n      <td>23</td>\n      <td>0.7490</td>\n    </tr>\n    <tr>\n      <th>22</th>\n      <td>0.831</td>\n      <td>469</td>\n      <td>23</td>\n      <td>0.7420</td>\n    </tr>\n    <tr>\n      <th>23</th>\n      <td>0.871</td>\n      <td>533</td>\n      <td>23</td>\n      <td>0.0000</td>\n    </tr>\n    <tr>\n      <th>24</th>\n      <td>0.071</td>\n      <td>600</td>\n      <td>23</td>\n      <td>0.9303</td>\n    </tr>\n    <tr>\n      <th>25</th>\n      <td>0.782</td>\n      <td>850</td>\n      <td>23</td>\n      <td>0.9315</td>\n    </tr>\n    <tr>\n      <th>26</th>\n      <td>0.834</td>\n      <td>872</td>\n      <td>23</td>\n      <td>0.9920</td>\n    </tr>\n    <tr>\n      <th>27</th>\n      <td>0.754</td>\n      <td>921</td>\n      <td>23</td>\n      <td>0.9375</td>\n    </tr>\n    <tr>\n      <th>28</th>\n      <td>0.779</td>\n      <td>985</td>\n      <td>23</td>\n      <td>0.9355</td>\n    </tr>\n    <tr>\n      <th>29</th>\n      <td>0.777</td>\n      <td>995</td>\n      <td>23</td>\n      <td>0.9365</td>\n    </tr>\n    <tr>\n      <th>30</th>\n      <td>0.724</td>\n      <td>997</td>\n      <td>23</td>\n      <td>0.9325</td>\n    </tr>\n    <tr>\n      <th>31</th>\n      <td>0.954</td>\n      <td>319</td>\n      <td>63</td>\n      <td>0.9460</td>\n    </tr>\n    <tr>\n      <th>32</th>\n      <td>0.952</td>\n      <td>323</td>\n      <td>63</td>\n      <td>0.7810</td>\n    </tr>\n    <tr>\n      <th>33</th>\n      <td>0.533</td>\n      <td>511</td>\n      <td>63</td>\n      <td>0.4300</td>\n    </tr>\n    <tr>\n      <th>34</th>\n      <td>0.509</td>\n      <td>517</td>\n      <td>63</td>\n      <td>0.6340</td>\n    </tr>\n    <tr>\n      <th>35</th>\n      <td>0.484</td>\n      <td>717</td>\n      <td>63</td>\n      <td>0.5920</td>\n    </tr>\n    <tr>\n      <th>36</th>\n      <td>0.960</td>\n      <td>780</td>\n      <td>63</td>\n      <td>0.9730</td>\n    </tr>\n    <tr>\n      <th>37</th>\n      <td>0.957</td>\n      <td>782</td>\n      <td>63</td>\n      <td>0.9670</td>\n    </tr>\n    <tr>\n      <th>38</th>\n      <td>0.959</td>\n      <td>783</td>\n      <td>63</td>\n      <td>0.9600</td>\n    </tr>\n    <tr>\n      <th>39</th>\n      <td>0.974</td>\n      <td>784</td>\n      <td>63</td>\n      <td>0.9870</td>\n    </tr>\n    <tr>\n      <th>40</th>\n      <td>0.474</td>\n      <td>885</td>\n      <td>63</td>\n      <td>0.5600</td>\n    </tr>\n  </tbody>\n</table>\n</div>"
     },
     "execution_count": 185,
     "metadata": {},
     "output_type": "execute_result"
    }
   ],
   "source": [
    "new_result.fillna(0)"
   ]
  },
  {
   "cell_type": "code",
   "execution_count": 186,
   "metadata": {
    "collapsed": false,
    "pycharm": {
     "name": "#%%\n"
    }
   },
   "outputs": [],
   "source": [
    "# new_result.to_csv(\"./Output/Dataset_only/r100.csv\",index=False)"
   ]
  },
  {
   "cell_type": "code",
   "execution_count": 186,
   "metadata": {
    "collapsed": false,
    "pycharm": {
     "name": "#%%\n"
    }
   },
   "outputs": [],
   "source": []
  },
  {
   "cell_type": "code",
   "execution_count": 186,
   "metadata": {
    "pycharm": {
     "name": "#%%\n"
    }
   },
   "outputs": [],
   "source": []
  },
  {
   "cell_type": "code",
   "execution_count": 186,
   "metadata": {
    "collapsed": false,
    "pycharm": {
     "name": "#%%\n"
    }
   },
   "outputs": [],
   "source": []
  },
  {
   "cell_type": "code",
   "execution_count": 186,
   "metadata": {
    "collapsed": false,
    "pycharm": {
     "name": "#%%\n"
    }
   },
   "outputs": [],
   "source": []
  }
 ],
 "metadata": {
  "kernelspec": {
   "display_name": "Python 3",
   "language": "python",
   "name": "python3"
  },
  "language_info": {
   "codemirror_mode": {
    "name": "ipython",
    "version": 3
   },
   "file_extension": ".py",
   "mimetype": "text/x-python",
   "name": "python",
   "nbconvert_exporter": "python",
   "pygments_lexer": "ipython3",
   "version": "3.7.9"
  },
  "vscode": {
   "interpreter": {
    "hash": "23fcb16ef9ae263cc1ee2ef7013048b59283f261690a66bd73349f654cd13bd4"
   }
  }
 },
 "nbformat": 4,
 "nbformat_minor": 0
}