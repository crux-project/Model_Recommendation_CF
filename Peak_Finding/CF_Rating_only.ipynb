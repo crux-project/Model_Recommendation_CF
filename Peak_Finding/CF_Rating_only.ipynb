{
 "cells": [
  {
   "cell_type": "code",
   "execution_count": 89,
   "metadata": {
    "collapsed": false,
    "pycharm": {
     "name": "#%%\n"
    }
   },
   "outputs": [],
   "source": [
    "import time\n",
    "import numpy as np\n",
    "import pandas as pd\n",
    "from sklearn.metrics.pairwise import cosine_similarity\n",
    "from sklearn.preprocessing import StandardScaler\n",
    "from sklearn.metrics.pairwise import pairwise_distances"
   ]
  },
  {
   "cell_type": "markdown",
   "metadata": {
    "collapsed": false,
    "pycharm": {
     "name": "#%% md\n"
    }
   },
   "source": [
    "Data Loading"
   ]
  },
  {
   "cell_type": "code",
   "execution_count": 90,
   "metadata": {
    "collapsed": false,
    "pycharm": {
     "name": "#%%\n"
    }
   },
   "outputs": [],
   "source": [
    "ratings_train = pd.read_csv(\"./Data/rate_train.csv\", low_memory=False)\n",
    "ratings_test = pd.read_csv(\"./Data/Ground_truth/groundtruth_0.3.csv\",low_memory=False)"
   ]
  },
  {
   "cell_type": "code",
   "execution_count": 91,
   "metadata": {
    "collapsed": false,
    "pycharm": {
     "name": "#%%\n"
    }
   },
   "outputs": [],
   "source": [
    "datasets_train = ratings_train.Node_Id.unique()\n",
    "model_train = ratings_train.Model_Id.unique()\n",
    "datasets_test = ratings_test.dataset.unique()\n",
    "model_test = ratings_test.model.unique()\n",
    "meta_models = pd.read_csv(\"./Data/model_v.csv\",low_memory=False)\n",
    "models = meta_models.model_id.unique()"
   ]
  },
  {
   "cell_type": "markdown",
   "metadata": {
    "collapsed": false,
    "pycharm": {
     "name": "#%% md\n"
    }
   },
   "source": [
    "Rating Matrix"
   ]
  },
  {
   "cell_type": "code",
   "execution_count": 92,
   "metadata": {
    "collapsed": false,
    "pycharm": {
     "name": "#%%\n"
    }
   },
   "outputs": [],
   "source": [
    "data_model_train_matrix = pd.DataFrame(index=datasets_train,columns=models)\n",
    "data_model_test_matrix = pd.DataFrame(index=datasets_test,columns=model_test)"
   ]
  },
  {
   "cell_type": "code",
   "execution_count": 93,
   "metadata": {
    "collapsed": false,
    "pycharm": {
     "name": "#%%\n"
    }
   },
   "outputs": [],
   "source": [
    "for row in ratings_train.itertuples():\n",
    "    data_model_train_matrix.loc[row[1]][row[2]] = row[3]\n"
   ]
  },
  {
   "cell_type": "code",
   "execution_count": 94,
   "metadata": {
    "collapsed": false,
    "pycharm": {
     "name": "#%%\n"
    }
   },
   "outputs": [],
   "source": [
    "for row in ratings_test.itertuples():\n",
    "    data_model_test_matrix.loc[row[1]][row[2]] = row[3]\n",
    "data_model_test_matrix = data_model_test_matrix.fillna(0)"
   ]
  },
  {
   "cell_type": "markdown",
   "metadata": {
    "collapsed": false,
    "pycharm": {
     "name": "#%% md\n"
    }
   },
   "source": [
    "Dataset Similarity Matrix"
   ]
  },
  {
   "cell_type": "code",
   "execution_count": 95,
   "metadata": {
    "pycharm": {
     "name": "#%%\n"
    }
   },
   "outputs": [],
   "source": [
    "meta_datasets = pd.read_csv(\"./Data/dataset_v.csv\",low_memory=False)\n",
    "datasets = meta_datasets.dataset_id.unique()\n",
    "meta_datasets = meta_datasets.loc[:,(\"v1\",\"v2\",\"v3\",\"v4\",\"v5\")]\n",
    "scaler = StandardScaler()\n",
    "\n",
    "# 对dataframe的数据进行标准化\n",
    "scaled_data = scaler.fit_transform(meta_datasets)\n",
    "# 将标准化后的数据转换为dataframe，并保留原始索引\n",
    "scaled_df = pd.DataFrame(scaled_data, index=meta_datasets.index, columns=meta_datasets.columns)\n",
    "meta_dataset_similarity = cosine_similarity(scaled_df.values.tolist())\n",
    "meta_dataset_similarity = pd.DataFrame(meta_dataset_similarity,index=datasets,columns=datasets)"
   ]
  },
  {
   "cell_type": "code",
   "execution_count": 96,
   "metadata": {
    "pycharm": {
     "name": "#%%\n"
    }
   },
   "outputs": [],
   "source": [
    "def calculate_user_similarity(users_ratings, user1, user2):\n",
    "    \"\"\"\n",
    "    计算两个用户之间的相似度。\n",
    "\n",
    "    参数:\n",
    "    users_ratings: pandas.DataFrame，包含所有用户的评分记录，行为用户，列为电影。\n",
    "    user1: str，第一个用户的名称。\n",
    "    user2: str，第二个用户的名称。\n",
    "\n",
    "    返回值:\n",
    "    float，两个用户之间的相似度（值越大表示越相似）。\n",
    "    \"\"\"\n",
    "    # 获取两个用户共同评价过的电影列表\n",
    "    shared_movies = users_ratings.columns[(users_ratings.loc[user1].notna()) & (users_ratings.loc[user2].notna())]\n",
    "\n",
    "    if len(shared_movies) == 0:\n",
    "        # 如果两个用户没有共同评价的电影，则相似度为0\n",
    "        return 0.0\n",
    "\n",
    "    # 计算两个用户共同评价电影的评分\n",
    "    user1_ratings = users_ratings.loc[user1, shared_movies]\n",
    "    user2_ratings = users_ratings.loc[user2, shared_movies]\n",
    "\n",
    "    # 计算皮尔逊相关系数\n",
    "    mean_rating1 = user1_ratings.mean()\n",
    "    mean_rating2 = user2_ratings.mean()\n",
    "    numerator = np.sum((user1_ratings - mean_rating1) * (user2_ratings - mean_rating2))\n",
    "    denominator = np.sqrt(np.sum((user1_ratings - mean_rating1) ** 2)) * np.sqrt(np.sum((user2_ratings - mean_rating2) ** 2))\n",
    "    if denominator == 0:\n",
    "        # 如果分母为0，则相似度为0\n",
    "        return 0.0\n",
    "    else:\n",
    "        return numerator / denominator"
   ]
  },
  {
   "cell_type": "code",
   "execution_count": 97,
   "metadata": {
    "pycharm": {
     "name": "#%%\n"
    }
   },
   "outputs": [],
   "source": [
    "dataset_similarity = pd.DataFrame(index=datasets_train,columns=datasets_train)"
   ]
  },
  {
   "cell_type": "code",
   "execution_count": 98,
   "metadata": {
    "collapsed": false,
    "pycharm": {
     "name": "#%%\n"
    }
   },
   "outputs": [],
   "source": [
    "start_time_train = time.time()"
   ]
  },
  {
   "cell_type": "code",
   "execution_count": 99,
   "metadata": {
    "pycharm": {
     "name": "#%%\n"
    }
   },
   "outputs": [],
   "source": [
    "lambda_ = 0.5\n",
    "for i in datasets_train:\n",
    "    for j in datasets_train:\n",
    "        rating_based_sim = calculate_user_similarity(data_model_train_matrix,i,j)\n",
    "        if rating_based_sim!= 0:\n",
    "            dataset_similarity.loc[i][j] = rating_based_sim\n",
    "        else:\n",
    "            dataset_similarity.loc[i][j] = 0\n"
   ]
  },
  {
   "cell_type": "code",
   "execution_count": 100,
   "metadata": {
    "collapsed": false,
    "pycharm": {
     "name": "#%%\n"
    }
   },
   "outputs": [
    {
     "data": {
      "text/plain": "          0         29        14        28        16        17        13   \\\n0         1.0 -0.050256 -0.001617   0.01316 -0.100441  0.155723  0.073391   \n29  -0.050256       1.0  0.338583  0.343427  0.303728  0.756781  0.787525   \n14  -0.001617  0.338583       1.0  0.882878  0.896983  0.318854  0.334677   \n28    0.01316  0.343427  0.882878       1.0  0.914768  0.338096  0.319927   \n16  -0.100441  0.303728  0.896983  0.914768       1.0  0.317998  0.318539   \n..        ...       ...       ...       ...       ...       ...       ...   \n281 -0.753677  0.162801  0.358922  0.341945  0.421779 -0.001343  0.047578   \n288  0.991066 -0.053548 -0.031076 -0.018841 -0.119706  0.142879  0.067142   \n286  0.988679 -0.052812 -0.042566 -0.026223 -0.128368  0.138789  0.062577   \n287  0.987632 -0.053901 -0.041411  -0.02447 -0.125522   0.13917  0.063274   \n285  0.991627 -0.054478 -0.034546 -0.023382 -0.126305  0.140323  0.063844   \n\n          12        10        38   ...       275       274       279  \\\n0    0.103242 -0.008401  0.019664  ... -0.774856 -0.725499 -0.826643   \n29   0.772851  0.829523  0.930355  ...  0.127344  0.168294  0.158413   \n14   0.328099  0.434245  0.355652  ...  0.320345   0.33979  0.337513   \n28   0.313646  0.392878   0.34945  ...  0.303083  0.290097  0.251706   \n16   0.314436   0.38817  0.313943  ...  0.413201  0.354929  0.368646   \n..        ...       ...       ...  ...       ...       ...       ...   \n281  0.017444  0.127751  0.117882  ...  0.761404  0.777061     0.863   \n288    0.0976 -0.016817  0.012564  ... -0.771086 -0.725171 -0.820865   \n286  0.092768 -0.020848  0.011939  ...  -0.76673 -0.720674   -0.8163   \n287  0.095206 -0.022511  0.011341  ... -0.764251  -0.72166  -0.81356   \n285   0.09416 -0.017749  0.011218  ...  -0.77315 -0.731435 -0.823251   \n\n          278       280       281       288       286       287       285  \n0   -0.574186 -0.471846 -0.753677  0.991066  0.988679  0.987632  0.991627  \n29   0.161688  0.148418  0.162801 -0.053548 -0.052812 -0.053901 -0.054478  \n14    0.30064  0.285865  0.358922 -0.031076 -0.042566 -0.041411 -0.034546  \n28   0.308339  0.337615  0.341945 -0.018841 -0.026223  -0.02447 -0.023382  \n16   0.338358  0.321499  0.421779 -0.119706 -0.128368 -0.125522 -0.126305  \n..        ...       ...       ...       ...       ...       ...       ...  \n281  0.715754  0.790664       1.0 -0.759594 -0.763402 -0.766307  -0.76131  \n288 -0.575953 -0.495113 -0.759594       1.0  0.998672  0.998006  0.999399  \n286  -0.57604   -0.4961 -0.763402  0.998672       1.0  0.999616  0.997821  \n287 -0.581117 -0.503278 -0.766307  0.998006  0.999616       1.0   0.99682  \n285 -0.584398  -0.49493  -0.76131  0.999399  0.997821   0.99682       1.0  \n\n[249 rows x 249 columns]",
      "text/html": "<div>\n<style scoped>\n    .dataframe tbody tr th:only-of-type {\n        vertical-align: middle;\n    }\n\n    .dataframe tbody tr th {\n        vertical-align: top;\n    }\n\n    .dataframe thead th {\n        text-align: right;\n    }\n</style>\n<table border=\"1\" class=\"dataframe\">\n  <thead>\n    <tr style=\"text-align: right;\">\n      <th></th>\n      <th>0</th>\n      <th>29</th>\n      <th>14</th>\n      <th>28</th>\n      <th>16</th>\n      <th>17</th>\n      <th>13</th>\n      <th>12</th>\n      <th>10</th>\n      <th>38</th>\n      <th>...</th>\n      <th>275</th>\n      <th>274</th>\n      <th>279</th>\n      <th>278</th>\n      <th>280</th>\n      <th>281</th>\n      <th>288</th>\n      <th>286</th>\n      <th>287</th>\n      <th>285</th>\n    </tr>\n  </thead>\n  <tbody>\n    <tr>\n      <th>0</th>\n      <td>1.0</td>\n      <td>-0.050256</td>\n      <td>-0.001617</td>\n      <td>0.01316</td>\n      <td>-0.100441</td>\n      <td>0.155723</td>\n      <td>0.073391</td>\n      <td>0.103242</td>\n      <td>-0.008401</td>\n      <td>0.019664</td>\n      <td>...</td>\n      <td>-0.774856</td>\n      <td>-0.725499</td>\n      <td>-0.826643</td>\n      <td>-0.574186</td>\n      <td>-0.471846</td>\n      <td>-0.753677</td>\n      <td>0.991066</td>\n      <td>0.988679</td>\n      <td>0.987632</td>\n      <td>0.991627</td>\n    </tr>\n    <tr>\n      <th>29</th>\n      <td>-0.050256</td>\n      <td>1.0</td>\n      <td>0.338583</td>\n      <td>0.343427</td>\n      <td>0.303728</td>\n      <td>0.756781</td>\n      <td>0.787525</td>\n      <td>0.772851</td>\n      <td>0.829523</td>\n      <td>0.930355</td>\n      <td>...</td>\n      <td>0.127344</td>\n      <td>0.168294</td>\n      <td>0.158413</td>\n      <td>0.161688</td>\n      <td>0.148418</td>\n      <td>0.162801</td>\n      <td>-0.053548</td>\n      <td>-0.052812</td>\n      <td>-0.053901</td>\n      <td>-0.054478</td>\n    </tr>\n    <tr>\n      <th>14</th>\n      <td>-0.001617</td>\n      <td>0.338583</td>\n      <td>1.0</td>\n      <td>0.882878</td>\n      <td>0.896983</td>\n      <td>0.318854</td>\n      <td>0.334677</td>\n      <td>0.328099</td>\n      <td>0.434245</td>\n      <td>0.355652</td>\n      <td>...</td>\n      <td>0.320345</td>\n      <td>0.33979</td>\n      <td>0.337513</td>\n      <td>0.30064</td>\n      <td>0.285865</td>\n      <td>0.358922</td>\n      <td>-0.031076</td>\n      <td>-0.042566</td>\n      <td>-0.041411</td>\n      <td>-0.034546</td>\n    </tr>\n    <tr>\n      <th>28</th>\n      <td>0.01316</td>\n      <td>0.343427</td>\n      <td>0.882878</td>\n      <td>1.0</td>\n      <td>0.914768</td>\n      <td>0.338096</td>\n      <td>0.319927</td>\n      <td>0.313646</td>\n      <td>0.392878</td>\n      <td>0.34945</td>\n      <td>...</td>\n      <td>0.303083</td>\n      <td>0.290097</td>\n      <td>0.251706</td>\n      <td>0.308339</td>\n      <td>0.337615</td>\n      <td>0.341945</td>\n      <td>-0.018841</td>\n      <td>-0.026223</td>\n      <td>-0.02447</td>\n      <td>-0.023382</td>\n    </tr>\n    <tr>\n      <th>16</th>\n      <td>-0.100441</td>\n      <td>0.303728</td>\n      <td>0.896983</td>\n      <td>0.914768</td>\n      <td>1.0</td>\n      <td>0.317998</td>\n      <td>0.318539</td>\n      <td>0.314436</td>\n      <td>0.38817</td>\n      <td>0.313943</td>\n      <td>...</td>\n      <td>0.413201</td>\n      <td>0.354929</td>\n      <td>0.368646</td>\n      <td>0.338358</td>\n      <td>0.321499</td>\n      <td>0.421779</td>\n      <td>-0.119706</td>\n      <td>-0.128368</td>\n      <td>-0.125522</td>\n      <td>-0.126305</td>\n    </tr>\n    <tr>\n      <th>...</th>\n      <td>...</td>\n      <td>...</td>\n      <td>...</td>\n      <td>...</td>\n      <td>...</td>\n      <td>...</td>\n      <td>...</td>\n      <td>...</td>\n      <td>...</td>\n      <td>...</td>\n      <td>...</td>\n      <td>...</td>\n      <td>...</td>\n      <td>...</td>\n      <td>...</td>\n      <td>...</td>\n      <td>...</td>\n      <td>...</td>\n      <td>...</td>\n      <td>...</td>\n      <td>...</td>\n    </tr>\n    <tr>\n      <th>281</th>\n      <td>-0.753677</td>\n      <td>0.162801</td>\n      <td>0.358922</td>\n      <td>0.341945</td>\n      <td>0.421779</td>\n      <td>-0.001343</td>\n      <td>0.047578</td>\n      <td>0.017444</td>\n      <td>0.127751</td>\n      <td>0.117882</td>\n      <td>...</td>\n      <td>0.761404</td>\n      <td>0.777061</td>\n      <td>0.863</td>\n      <td>0.715754</td>\n      <td>0.790664</td>\n      <td>1.0</td>\n      <td>-0.759594</td>\n      <td>-0.763402</td>\n      <td>-0.766307</td>\n      <td>-0.76131</td>\n    </tr>\n    <tr>\n      <th>288</th>\n      <td>0.991066</td>\n      <td>-0.053548</td>\n      <td>-0.031076</td>\n      <td>-0.018841</td>\n      <td>-0.119706</td>\n      <td>0.142879</td>\n      <td>0.067142</td>\n      <td>0.0976</td>\n      <td>-0.016817</td>\n      <td>0.012564</td>\n      <td>...</td>\n      <td>-0.771086</td>\n      <td>-0.725171</td>\n      <td>-0.820865</td>\n      <td>-0.575953</td>\n      <td>-0.495113</td>\n      <td>-0.759594</td>\n      <td>1.0</td>\n      <td>0.998672</td>\n      <td>0.998006</td>\n      <td>0.999399</td>\n    </tr>\n    <tr>\n      <th>286</th>\n      <td>0.988679</td>\n      <td>-0.052812</td>\n      <td>-0.042566</td>\n      <td>-0.026223</td>\n      <td>-0.128368</td>\n      <td>0.138789</td>\n      <td>0.062577</td>\n      <td>0.092768</td>\n      <td>-0.020848</td>\n      <td>0.011939</td>\n      <td>...</td>\n      <td>-0.76673</td>\n      <td>-0.720674</td>\n      <td>-0.8163</td>\n      <td>-0.57604</td>\n      <td>-0.4961</td>\n      <td>-0.763402</td>\n      <td>0.998672</td>\n      <td>1.0</td>\n      <td>0.999616</td>\n      <td>0.997821</td>\n    </tr>\n    <tr>\n      <th>287</th>\n      <td>0.987632</td>\n      <td>-0.053901</td>\n      <td>-0.041411</td>\n      <td>-0.02447</td>\n      <td>-0.125522</td>\n      <td>0.13917</td>\n      <td>0.063274</td>\n      <td>0.095206</td>\n      <td>-0.022511</td>\n      <td>0.011341</td>\n      <td>...</td>\n      <td>-0.764251</td>\n      <td>-0.72166</td>\n      <td>-0.81356</td>\n      <td>-0.581117</td>\n      <td>-0.503278</td>\n      <td>-0.766307</td>\n      <td>0.998006</td>\n      <td>0.999616</td>\n      <td>1.0</td>\n      <td>0.99682</td>\n    </tr>\n    <tr>\n      <th>285</th>\n      <td>0.991627</td>\n      <td>-0.054478</td>\n      <td>-0.034546</td>\n      <td>-0.023382</td>\n      <td>-0.126305</td>\n      <td>0.140323</td>\n      <td>0.063844</td>\n      <td>0.09416</td>\n      <td>-0.017749</td>\n      <td>0.011218</td>\n      <td>...</td>\n      <td>-0.77315</td>\n      <td>-0.731435</td>\n      <td>-0.823251</td>\n      <td>-0.584398</td>\n      <td>-0.49493</td>\n      <td>-0.76131</td>\n      <td>0.999399</td>\n      <td>0.997821</td>\n      <td>0.99682</td>\n      <td>1.0</td>\n    </tr>\n  </tbody>\n</table>\n<p>249 rows × 249 columns</p>\n</div>"
     },
     "execution_count": 100,
     "metadata": {},
     "output_type": "execute_result"
    }
   ],
   "source": [
    "dataset_similarity"
   ]
  },
  {
   "cell_type": "markdown",
   "metadata": {
    "collapsed": false,
    "pycharm": {
     "name": "#%% md\n"
    }
   },
   "source": [
    "Prediction"
   ]
  },
  {
   "cell_type": "code",
   "execution_count": 101,
   "metadata": {
    "pycharm": {
     "name": "#%%\n"
    }
   },
   "outputs": [],
   "source": [
    "def predict(rating_matrix, similarity_matrix):\n",
    "    \"\"\"\n",
    "    根据评分矩阵和相似度矩阵预测评分。\n",
    "\n",
    "    参数：\n",
    "    rating_matrix (pd.DataFrame)：评分矩阵，包含NaN值\n",
    "    similarity_matrix (numpy.array)：相似度矩阵\n",
    "\n",
    "    返回：\n",
    "    pd.DataFrame：预测评分矩阵\n",
    "    \"\"\"\n",
    "\n",
    "    # 获取评分矩阵的均值（忽略NaN值）\n",
    "    mean_rating = rating_matrix.mean(axis=1).values\n",
    "\n",
    "    # 将评分矩阵中的NaN值替换为0\n",
    "    rating_matrix_nan_to_zero = rating_matrix.fillna(0).values\n",
    "\n",
    "    # 减去均值，得到归一化的评分矩阵\n",
    "    normalized_rating_matrix = rating_matrix_nan_to_zero - mean_rating[:, np.newaxis]\n",
    "\n",
    "    # 计算预测评分\n",
    "    predicted_ratings = mean_rating[:, np.newaxis] + np.dot(similarity_matrix, normalized_rating_matrix) / np.abs(similarity_matrix).sum(axis=1)[:, np.newaxis]\n",
    "\n",
    "    # 将预测评分数组转换为DataFrame\n",
    "    predicted_ratings_df = pd.DataFrame(predicted_ratings, index=rating_matrix.index, columns=rating_matrix.columns)\n",
    "\n",
    "    return predicted_ratings_df"
   ]
  },
  {
   "cell_type": "code",
   "execution_count": 102,
   "metadata": {
    "pycharm": {
     "name": "#%%\n"
    }
   },
   "outputs": [],
   "source": [
    "def predict_ratings(rating_matrix, user_similarity_matrix,k):\n",
    "    \"\"\"\n",
    "    输入：\n",
    "    rating_matrix - 评分矩阵，DataFrame格式，其中NaN表示未评分\n",
    "    user_similarity_matrix - 用户相似度矩阵，DataFrame格式\n",
    "    k - 最近邻的数量，默认为5\n",
    "\n",
    "    输出：\n",
    "    prediction_matrix - 预测矩阵，DataFrame格式\n",
    "    \"\"\"\n",
    "\n",
    "    # 初始化预测矩阵\n",
    "    prediction_matrix = rating_matrix.copy()\n",
    "\n",
    "    # 对于评分矩阵中的每个NaN值，使用K最近邻的方法预测评分\n",
    "    for i in rating_matrix.index:\n",
    "        for j in rating_matrix.columns:\n",
    "            if np.isnan(rating_matrix.loc[i][j]):\n",
    "                # 获取第i个用户的相似度值，并在相似度矩阵中找到K个最相似的用户\n",
    "                similarity_values = user_similarity_matrix.loc[i].sort_values(ascending=False)[1:k+1]\n",
    "\n",
    "                # 计算加权平均评分\n",
    "                weighted_sum = 0\n",
    "                similarity_sum = 0\n",
    "                for index, value in similarity_values.items():\n",
    "                    user_rating = rating_matrix.loc[index][j]\n",
    "                    if not np.isnan(user_rating):\n",
    "                        weighted_sum += value * user_rating\n",
    "                        similarity_sum += value\n",
    "\n",
    "                # 如果存在至少一个相似用户对该物品进行了评分，则计算预测评分\n",
    "                if similarity_sum != 0:\n",
    "                    prediction_matrix.loc[i][j] = weighted_sum / similarity_sum\n",
    "                else:\n",
    "                    # 如果没有相似用户评分，则使用当前商品的平均评分作为预测值\n",
    "                    prediction_matrix.loc[i][j] = rating_matrix[j].mean()\n",
    "\n",
    "    return prediction_matrix"
   ]
  },
  {
   "cell_type": "code",
   "execution_count": 103,
   "metadata": {
    "collapsed": false,
    "pycharm": {
     "name": "#%%\n"
    }
   },
   "outputs": [
    {
     "name": "stderr",
     "output_type": "stream",
     "text": [
      "c:\\users\\byy\\appdata\\local\\programs\\python\\python37\\lib\\site-packages\\ipykernel_launcher.py:23: FutureWarning: Support for multi-dimensional indexing (e.g. `obj[:, None]`) is deprecated and will be removed in a future version.  Convert to a numpy array before indexing instead.\n"
     ]
    }
   ],
   "source": [
    "model_prediction_train = predict(data_model_train_matrix,dataset_similarity)"
   ]
  },
  {
   "cell_type": "code",
   "execution_count": 104,
   "metadata": {
    "collapsed": false,
    "pycharm": {
     "name": "#%%\n"
    }
   },
   "outputs": [],
   "source": [
    "model_prediction_train = pd.DataFrame(model_prediction_train,index=datasets_train,columns=models).sort_index().sort_index(axis=1)"
   ]
  },
  {
   "cell_type": "code",
   "execution_count": 105,
   "metadata": {
    "collapsed": false,
    "pycharm": {
     "name": "#%%\n"
    }
   },
   "outputs": [],
   "source": [
    "model_prediction_test = pd.DataFrame(index=datasets_test,columns=model_test)"
   ]
  },
  {
   "cell_type": "code",
   "execution_count": 106,
   "metadata": {
    "collapsed": false,
    "pycharm": {
     "name": "#%%\n"
    }
   },
   "outputs": [],
   "source": [
    "end_time_train = time.time()"
   ]
  },
  {
   "cell_type": "code",
   "execution_count": 107,
   "metadata": {
    "collapsed": false,
    "pycharm": {
     "name": "#%%\n"
    }
   },
   "outputs": [
    {
     "data": {
      "text/plain": "75.74504041671753"
     },
     "execution_count": 107,
     "metadata": {},
     "output_type": "execute_result"
    }
   ],
   "source": [
    "Training_time = end_time_train - start_time_train\n",
    "Training_time"
   ]
  },
  {
   "cell_type": "markdown",
   "metadata": {
    "collapsed": false,
    "pycharm": {
     "name": "#%% md\n"
    }
   },
   "source": [
    "Metadata Based"
   ]
  },
  {
   "cell_type": "code",
   "execution_count": 133,
   "metadata": {
    "collapsed": false,
    "pycharm": {
     "name": "#%%\n"
    }
   },
   "outputs": [],
   "source": [
    "def find_sim_index(index):\n",
    "    row1 = meta_dataset_similarity.loc[index]\n",
    "    row1_max_index = row1[row1 == row1.max()].index[0]\n",
    "    return row1_max_index"
   ]
  },
  {
   "cell_type": "code",
   "execution_count": 146,
   "metadata": {
    "collapsed": false,
    "pycharm": {
     "name": "#%%\n"
    }
   },
   "outputs": [],
   "source": [
    "def Find_Top_k(i,sim_matrix):\n",
    "    row = sim_matrix.loc[i]\n",
    "    row = row.sort_values(ascending=False)\n",
    "    index_row = row.index\n",
    "    index_row = index_row.values.tolist()\n",
    "    return index_row"
   ]
  },
  {
   "cell_type": "code",
   "execution_count": 147,
   "metadata": {
    "collapsed": false,
    "pycharm": {
     "name": "#%%\n"
    }
   },
   "outputs": [],
   "source": [
    "start_time = time.time()"
   ]
  },
  {
   "cell_type": "code",
   "execution_count": 148,
   "outputs": [
    {
     "data": {
      "text/plain": "          0         1         2         3         4         5         6    \\\n0    1.000000 -0.185879 -0.185879 -0.185879 -0.185879 -0.185879 -0.185879   \n1   -0.185879  1.000000  1.000000  1.000000  1.000000  1.000000  1.000000   \n2   -0.185879  1.000000  1.000000  1.000000  1.000000  1.000000  1.000000   \n3   -0.185879  1.000000  1.000000  1.000000  1.000000  1.000000  1.000000   \n4   -0.185879  1.000000  1.000000  1.000000  1.000000  1.000000  1.000000   \n..        ...       ...       ...       ...       ...       ...       ...   \n284 -0.247496 -0.156554 -0.156554 -0.156554 -0.156554 -0.156554 -0.156554   \n285  0.633129  0.045438  0.045438  0.045438  0.045438  0.045438  0.045438   \n286  0.633129  0.045438  0.045438  0.045438  0.045438  0.045438  0.045438   \n287  0.633129  0.045438  0.045438  0.045438  0.045438  0.045438  0.045438   \n288  0.633129  0.045438  0.045438  0.045438  0.045438  0.045438  0.045438   \n\n          7         8         9    ...       279       280       281  \\\n0   -0.185879 -0.185879 -0.185879  ... -0.248303 -0.342076 -0.342076   \n1    1.000000  1.000000  1.000000  ... -0.413583 -0.302929 -0.302929   \n2    1.000000  1.000000  1.000000  ... -0.413583 -0.302929 -0.302929   \n3    1.000000  1.000000  1.000000  ... -0.413583 -0.302929 -0.302929   \n4    1.000000  1.000000  1.000000  ... -0.413583 -0.302929 -0.302929   \n..        ...       ...       ...  ...       ...       ...       ...   \n284 -0.156554 -0.156554 -0.156554  ...  0.700951  0.846408  0.846408   \n285  0.045438  0.045438  0.045438  ... -0.039051  0.066057  0.066057   \n286  0.045438  0.045438  0.045438  ... -0.039051  0.066057  0.066057   \n287  0.045438  0.045438  0.045438  ... -0.039051  0.066057  0.066057   \n288  0.045438  0.045438  0.045438  ... -0.039051  0.066057  0.066057   \n\n          282       283       284       285       286       287       288  \n0   -0.342076 -0.247496 -0.247496  0.633129  0.633129  0.633129  0.633129  \n1   -0.302929 -0.156554 -0.156554  0.045438  0.045438  0.045438  0.045438  \n2   -0.302929 -0.156554 -0.156554  0.045438  0.045438  0.045438  0.045438  \n3   -0.302929 -0.156554 -0.156554  0.045438  0.045438  0.045438  0.045438  \n4   -0.302929 -0.156554 -0.156554  0.045438  0.045438  0.045438  0.045438  \n..        ...       ...       ...       ...       ...       ...       ...  \n284  0.846408  1.000000  1.000000  0.455987  0.455987  0.455987  0.455987  \n285  0.066057  0.455987  0.455987  1.000000  1.000000  1.000000  1.000000  \n286  0.066057  0.455987  0.455987  1.000000  1.000000  1.000000  1.000000  \n287  0.066057  0.455987  0.455987  1.000000  1.000000  1.000000  1.000000  \n288  0.066057  0.455987  0.455987  1.000000  1.000000  1.000000  1.000000  \n\n[289 rows x 289 columns]",
      "text/html": "<div>\n<style scoped>\n    .dataframe tbody tr th:only-of-type {\n        vertical-align: middle;\n    }\n\n    .dataframe tbody tr th {\n        vertical-align: top;\n    }\n\n    .dataframe thead th {\n        text-align: right;\n    }\n</style>\n<table border=\"1\" class=\"dataframe\">\n  <thead>\n    <tr style=\"text-align: right;\">\n      <th></th>\n      <th>0</th>\n      <th>1</th>\n      <th>2</th>\n      <th>3</th>\n      <th>4</th>\n      <th>5</th>\n      <th>6</th>\n      <th>7</th>\n      <th>8</th>\n      <th>9</th>\n      <th>...</th>\n      <th>279</th>\n      <th>280</th>\n      <th>281</th>\n      <th>282</th>\n      <th>283</th>\n      <th>284</th>\n      <th>285</th>\n      <th>286</th>\n      <th>287</th>\n      <th>288</th>\n    </tr>\n  </thead>\n  <tbody>\n    <tr>\n      <th>0</th>\n      <td>1.000000</td>\n      <td>-0.185879</td>\n      <td>-0.185879</td>\n      <td>-0.185879</td>\n      <td>-0.185879</td>\n      <td>-0.185879</td>\n      <td>-0.185879</td>\n      <td>-0.185879</td>\n      <td>-0.185879</td>\n      <td>-0.185879</td>\n      <td>...</td>\n      <td>-0.248303</td>\n      <td>-0.342076</td>\n      <td>-0.342076</td>\n      <td>-0.342076</td>\n      <td>-0.247496</td>\n      <td>-0.247496</td>\n      <td>0.633129</td>\n      <td>0.633129</td>\n      <td>0.633129</td>\n      <td>0.633129</td>\n    </tr>\n    <tr>\n      <th>1</th>\n      <td>-0.185879</td>\n      <td>1.000000</td>\n      <td>1.000000</td>\n      <td>1.000000</td>\n      <td>1.000000</td>\n      <td>1.000000</td>\n      <td>1.000000</td>\n      <td>1.000000</td>\n      <td>1.000000</td>\n      <td>1.000000</td>\n      <td>...</td>\n      <td>-0.413583</td>\n      <td>-0.302929</td>\n      <td>-0.302929</td>\n      <td>-0.302929</td>\n      <td>-0.156554</td>\n      <td>-0.156554</td>\n      <td>0.045438</td>\n      <td>0.045438</td>\n      <td>0.045438</td>\n      <td>0.045438</td>\n    </tr>\n    <tr>\n      <th>2</th>\n      <td>-0.185879</td>\n      <td>1.000000</td>\n      <td>1.000000</td>\n      <td>1.000000</td>\n      <td>1.000000</td>\n      <td>1.000000</td>\n      <td>1.000000</td>\n      <td>1.000000</td>\n      <td>1.000000</td>\n      <td>1.000000</td>\n      <td>...</td>\n      <td>-0.413583</td>\n      <td>-0.302929</td>\n      <td>-0.302929</td>\n      <td>-0.302929</td>\n      <td>-0.156554</td>\n      <td>-0.156554</td>\n      <td>0.045438</td>\n      <td>0.045438</td>\n      <td>0.045438</td>\n      <td>0.045438</td>\n    </tr>\n    <tr>\n      <th>3</th>\n      <td>-0.185879</td>\n      <td>1.000000</td>\n      <td>1.000000</td>\n      <td>1.000000</td>\n      <td>1.000000</td>\n      <td>1.000000</td>\n      <td>1.000000</td>\n      <td>1.000000</td>\n      <td>1.000000</td>\n      <td>1.000000</td>\n      <td>...</td>\n      <td>-0.413583</td>\n      <td>-0.302929</td>\n      <td>-0.302929</td>\n      <td>-0.302929</td>\n      <td>-0.156554</td>\n      <td>-0.156554</td>\n      <td>0.045438</td>\n      <td>0.045438</td>\n      <td>0.045438</td>\n      <td>0.045438</td>\n    </tr>\n    <tr>\n      <th>4</th>\n      <td>-0.185879</td>\n      <td>1.000000</td>\n      <td>1.000000</td>\n      <td>1.000000</td>\n      <td>1.000000</td>\n      <td>1.000000</td>\n      <td>1.000000</td>\n      <td>1.000000</td>\n      <td>1.000000</td>\n      <td>1.000000</td>\n      <td>...</td>\n      <td>-0.413583</td>\n      <td>-0.302929</td>\n      <td>-0.302929</td>\n      <td>-0.302929</td>\n      <td>-0.156554</td>\n      <td>-0.156554</td>\n      <td>0.045438</td>\n      <td>0.045438</td>\n      <td>0.045438</td>\n      <td>0.045438</td>\n    </tr>\n    <tr>\n      <th>...</th>\n      <td>...</td>\n      <td>...</td>\n      <td>...</td>\n      <td>...</td>\n      <td>...</td>\n      <td>...</td>\n      <td>...</td>\n      <td>...</td>\n      <td>...</td>\n      <td>...</td>\n      <td>...</td>\n      <td>...</td>\n      <td>...</td>\n      <td>...</td>\n      <td>...</td>\n      <td>...</td>\n      <td>...</td>\n      <td>...</td>\n      <td>...</td>\n      <td>...</td>\n      <td>...</td>\n    </tr>\n    <tr>\n      <th>284</th>\n      <td>-0.247496</td>\n      <td>-0.156554</td>\n      <td>-0.156554</td>\n      <td>-0.156554</td>\n      <td>-0.156554</td>\n      <td>-0.156554</td>\n      <td>-0.156554</td>\n      <td>-0.156554</td>\n      <td>-0.156554</td>\n      <td>-0.156554</td>\n      <td>...</td>\n      <td>0.700951</td>\n      <td>0.846408</td>\n      <td>0.846408</td>\n      <td>0.846408</td>\n      <td>1.000000</td>\n      <td>1.000000</td>\n      <td>0.455987</td>\n      <td>0.455987</td>\n      <td>0.455987</td>\n      <td>0.455987</td>\n    </tr>\n    <tr>\n      <th>285</th>\n      <td>0.633129</td>\n      <td>0.045438</td>\n      <td>0.045438</td>\n      <td>0.045438</td>\n      <td>0.045438</td>\n      <td>0.045438</td>\n      <td>0.045438</td>\n      <td>0.045438</td>\n      <td>0.045438</td>\n      <td>0.045438</td>\n      <td>...</td>\n      <td>-0.039051</td>\n      <td>0.066057</td>\n      <td>0.066057</td>\n      <td>0.066057</td>\n      <td>0.455987</td>\n      <td>0.455987</td>\n      <td>1.000000</td>\n      <td>1.000000</td>\n      <td>1.000000</td>\n      <td>1.000000</td>\n    </tr>\n    <tr>\n      <th>286</th>\n      <td>0.633129</td>\n      <td>0.045438</td>\n      <td>0.045438</td>\n      <td>0.045438</td>\n      <td>0.045438</td>\n      <td>0.045438</td>\n      <td>0.045438</td>\n      <td>0.045438</td>\n      <td>0.045438</td>\n      <td>0.045438</td>\n      <td>...</td>\n      <td>-0.039051</td>\n      <td>0.066057</td>\n      <td>0.066057</td>\n      <td>0.066057</td>\n      <td>0.455987</td>\n      <td>0.455987</td>\n      <td>1.000000</td>\n      <td>1.000000</td>\n      <td>1.000000</td>\n      <td>1.000000</td>\n    </tr>\n    <tr>\n      <th>287</th>\n      <td>0.633129</td>\n      <td>0.045438</td>\n      <td>0.045438</td>\n      <td>0.045438</td>\n      <td>0.045438</td>\n      <td>0.045438</td>\n      <td>0.045438</td>\n      <td>0.045438</td>\n      <td>0.045438</td>\n      <td>0.045438</td>\n      <td>...</td>\n      <td>-0.039051</td>\n      <td>0.066057</td>\n      <td>0.066057</td>\n      <td>0.066057</td>\n      <td>0.455987</td>\n      <td>0.455987</td>\n      <td>1.000000</td>\n      <td>1.000000</td>\n      <td>1.000000</td>\n      <td>1.000000</td>\n    </tr>\n    <tr>\n      <th>288</th>\n      <td>0.633129</td>\n      <td>0.045438</td>\n      <td>0.045438</td>\n      <td>0.045438</td>\n      <td>0.045438</td>\n      <td>0.045438</td>\n      <td>0.045438</td>\n      <td>0.045438</td>\n      <td>0.045438</td>\n      <td>0.045438</td>\n      <td>...</td>\n      <td>-0.039051</td>\n      <td>0.066057</td>\n      <td>0.066057</td>\n      <td>0.066057</td>\n      <td>0.455987</td>\n      <td>0.455987</td>\n      <td>1.000000</td>\n      <td>1.000000</td>\n      <td>1.000000</td>\n      <td>1.000000</td>\n    </tr>\n  </tbody>\n</table>\n<p>289 rows × 289 columns</p>\n</div>"
     },
     "execution_count": 148,
     "metadata": {},
     "output_type": "execute_result"
    }
   ],
   "source": [
    "meta_dataset_similarity"
   ],
   "metadata": {
    "collapsed": false,
    "pycharm": {
     "name": "#%%\n"
    }
   }
  },
  {
   "cell_type": "code",
   "execution_count": 149,
   "metadata": {
    "collapsed": false,
    "pycharm": {
     "name": "#%%\n"
    }
   },
   "outputs": [],
   "source": [
    "for dataset in datasets_test:\n",
    "    for model in model_test:\n",
    "        dataset_sim_list = Find_Top_k(dataset,meta_dataset_similarity)[1:]\n",
    "        # 仅保留存在于 model_prediction_train 的索引\n",
    "        valid_indices = [idx for idx in dataset_sim_list if idx in model_prediction_train.index][:15]\n",
    "        model_prediction_test.loc[dataset][model] = model_prediction_train.loc[valid_indices][model].mean()"
   ]
  },
  {
   "cell_type": "code",
   "execution_count": 150,
   "metadata": {
    "collapsed": false,
    "pycharm": {
     "name": "#%%\n"
    }
   },
   "outputs": [
    {
     "data": {
      "text/plain": "[271, 270, 269, 281, 280, 266, 265, 264, 263, 262, 255, 256, 268, 276, 279]"
     },
     "execution_count": 150,
     "metadata": {},
     "output_type": "execute_result"
    }
   ],
   "source": [
    "valid_indices"
   ]
  },
  {
   "cell_type": "code",
   "execution_count": 151,
   "metadata": {
    "collapsed": false,
    "pycharm": {
     "name": "#%%\n"
    }
   },
   "outputs": [],
   "source": [
    "end_time = time.time()"
   ]
  },
  {
   "cell_type": "code",
   "execution_count": 152,
   "metadata": {
    "collapsed": false,
    "pycharm": {
     "name": "#%%\n"
    }
   },
   "outputs": [
    {
     "data": {
      "text/plain": "9.618462800979614"
     },
     "execution_count": 152,
     "metadata": {},
     "output_type": "execute_result"
    }
   ],
   "source": [
    "end_time - start_time"
   ]
  },
  {
   "cell_type": "code",
   "execution_count": 153,
   "metadata": {
    "collapsed": false,
    "pycharm": {
     "name": "#%%\n"
    }
   },
   "outputs": [],
   "source": [
    "for i in datasets_test:\n",
    "    for j in model_test:\n",
    "        if data_model_test_matrix.loc[i][j] == 0:\n",
    "            model_prediction_test.loc[i][j] = None"
   ]
  },
  {
   "cell_type": "code",
   "execution_count": 154,
   "metadata": {
    "collapsed": false,
    "pycharm": {
     "name": "#%%\n"
    }
   },
   "outputs": [],
   "source": [
    "result = pd.DataFrame(columns={\"dataset\",\"model\",\"f1_score\",\"groundtruth_f1_score\"})"
   ]
  },
  {
   "cell_type": "code",
   "execution_count": 155,
   "metadata": {
    "collapsed": false,
    "pycharm": {
     "name": "#%%\n"
    }
   },
   "outputs": [],
   "source": [
    "for i in datasets_test:\n",
    "    for j in model_test:\n",
    "        if model_prediction_test.loc[i][j] is not None:\n",
    "            f1_score = model_prediction_test.loc[i][j]\n",
    "            groundtruth_f1_score = data_model_test_matrix.loc[i][j]\n",
    "            result = result.append([{'dataset':i,'model':j,'f1_score':f1_score,'groundtruth_f1_score':groundtruth_f1_score}],ignore_index=True)"
   ]
  },
  {
   "cell_type": "code",
   "execution_count": 156,
   "metadata": {
    "collapsed": false,
    "pycharm": {
     "name": "#%%\n"
    }
   },
   "outputs": [
    {
     "data": {
      "text/plain": "     model  f1_score  groundtruth_f1_score dataset\n0      463  0.377049              0.300000      93\n1      465  0.372282              0.300000      93\n2      363  0.545290              0.909091      93\n3      367  0.573518              0.303030      93\n4      369  0.561251              0.303030      93\n...    ...       ...                   ...     ...\n8207   307  0.427334              0.908689     283\n8208   317  0.347039              0.882246     283\n8209   315  0.346212              0.885276     283\n8210   303  0.376006              0.751981     283\n8211   305  0.375644              0.752451     283\n\n[8212 rows x 4 columns]",
      "text/html": "<div>\n<style scoped>\n    .dataframe tbody tr th:only-of-type {\n        vertical-align: middle;\n    }\n\n    .dataframe tbody tr th {\n        vertical-align: top;\n    }\n\n    .dataframe thead th {\n        text-align: right;\n    }\n</style>\n<table border=\"1\" class=\"dataframe\">\n  <thead>\n    <tr style=\"text-align: right;\">\n      <th></th>\n      <th>model</th>\n      <th>f1_score</th>\n      <th>groundtruth_f1_score</th>\n      <th>dataset</th>\n    </tr>\n  </thead>\n  <tbody>\n    <tr>\n      <th>0</th>\n      <td>463</td>\n      <td>0.377049</td>\n      <td>0.300000</td>\n      <td>93</td>\n    </tr>\n    <tr>\n      <th>1</th>\n      <td>465</td>\n      <td>0.372282</td>\n      <td>0.300000</td>\n      <td>93</td>\n    </tr>\n    <tr>\n      <th>2</th>\n      <td>363</td>\n      <td>0.545290</td>\n      <td>0.909091</td>\n      <td>93</td>\n    </tr>\n    <tr>\n      <th>3</th>\n      <td>367</td>\n      <td>0.573518</td>\n      <td>0.303030</td>\n      <td>93</td>\n    </tr>\n    <tr>\n      <th>4</th>\n      <td>369</td>\n      <td>0.561251</td>\n      <td>0.303030</td>\n      <td>93</td>\n    </tr>\n    <tr>\n      <th>...</th>\n      <td>...</td>\n      <td>...</td>\n      <td>...</td>\n      <td>...</td>\n    </tr>\n    <tr>\n      <th>8207</th>\n      <td>307</td>\n      <td>0.427334</td>\n      <td>0.908689</td>\n      <td>283</td>\n    </tr>\n    <tr>\n      <th>8208</th>\n      <td>317</td>\n      <td>0.347039</td>\n      <td>0.882246</td>\n      <td>283</td>\n    </tr>\n    <tr>\n      <th>8209</th>\n      <td>315</td>\n      <td>0.346212</td>\n      <td>0.885276</td>\n      <td>283</td>\n    </tr>\n    <tr>\n      <th>8210</th>\n      <td>303</td>\n      <td>0.376006</td>\n      <td>0.751981</td>\n      <td>283</td>\n    </tr>\n    <tr>\n      <th>8211</th>\n      <td>305</td>\n      <td>0.375644</td>\n      <td>0.752451</td>\n      <td>283</td>\n    </tr>\n  </tbody>\n</table>\n<p>8212 rows × 4 columns</p>\n</div>"
     },
     "execution_count": 156,
     "metadata": {},
     "output_type": "execute_result"
    }
   ],
   "source": [
    "result"
   ]
  },
  {
   "cell_type": "code",
   "execution_count": 157,
   "metadata": {
    "collapsed": false,
    "pycharm": {
     "name": "#%%\n"
    }
   },
   "outputs": [],
   "source": [
    "result.to_csv(\"../Peak_Finding/Output/Rating_only/Full_Rating_only@15.csv\",index=False)"
   ]
  },
  {
   "cell_type": "code",
   "execution_count": 157,
   "metadata": {
    "collapsed": false,
    "pycharm": {
     "name": "#%%\n"
    }
   },
   "outputs": [],
   "source": []
  },
  {
   "cell_type": "code",
   "execution_count": 157,
   "metadata": {
    "pycharm": {
     "name": "#%%\n"
    }
   },
   "outputs": [],
   "source": []
  },
  {
   "cell_type": "code",
   "execution_count": 157,
   "metadata": {
    "collapsed": false,
    "pycharm": {
     "name": "#%%\n"
    }
   },
   "outputs": [],
   "source": []
  },
  {
   "cell_type": "code",
   "execution_count": 157,
   "metadata": {
    "collapsed": false,
    "pycharm": {
     "name": "#%%\n"
    }
   },
   "outputs": [],
   "source": []
  }
 ],
 "metadata": {
  "kernelspec": {
   "display_name": "Python 3",
   "language": "python",
   "name": "python3"
  },
  "language_info": {
   "codemirror_mode": {
    "name": "ipython",
    "version": 3
   },
   "file_extension": ".py",
   "mimetype": "text/x-python",
   "name": "python",
   "nbconvert_exporter": "python",
   "pygments_lexer": "ipython3",
   "version": "3.7.9"
  },
  "vscode": {
   "interpreter": {
    "hash": "23fcb16ef9ae263cc1ee2ef7013048b59283f261690a66bd73349f654cd13bd4"
   }
  }
 },
 "nbformat": 4,
 "nbformat_minor": 0
}