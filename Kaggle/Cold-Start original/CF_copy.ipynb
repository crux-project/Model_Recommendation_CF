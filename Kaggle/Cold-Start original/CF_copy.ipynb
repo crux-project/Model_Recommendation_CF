{
 "cells": [
  {
   "cell_type": "code",
   "execution_count": 49,
   "metadata": {
    "collapsed": true,
    "pycharm": {
     "name": "#%%\n"
    }
   },
   "outputs": [],
   "source": [
    "import numpy as np\n",
    "import pandas as pd\n",
    "from sklearn.metrics.pairwise import cosine_similarity"
   ]
  },
  {
   "cell_type": "markdown",
   "source": [
    "Data loading"
   ],
   "metadata": {
    "collapsed": false,
    "pycharm": {
     "name": "#%% md\n"
    }
   }
  },
  {
   "cell_type": "code",
   "execution_count": 50,
   "outputs": [],
   "source": [
    "ratings = pd.read_csv(\"rate.csv\",low_memory=False)\n",
    "ratings_train = pd.read_csv(\"../Data_preprocess/Kaggle/ratios/edge_80.csv\",low_memory=False)\n",
    "ratings_test = pd.read_csv(\"rate_test.csv\",low_memory=False)"
   ],
   "metadata": {
    "collapsed": false,
    "pycharm": {
     "name": "#%%\n"
    }
   }
  },
  {
   "cell_type": "code",
   "execution_count": 51,
   "outputs": [],
   "source": [
    "datasets_train = ratings_train.dataset_id.unique()\n",
    "model_train = ratings_train.model_id.unique()\n",
    "datasets_test = ratings_test.dataset_id.unique()\n",
    "model_test = ratings_test.model_id.unique()\n",
    "models = pd.read_csv(\"models.csv\",low_memory=False).model_id.unique()"
   ],
   "metadata": {
    "collapsed": false,
    "pycharm": {
     "name": "#%%\n"
    }
   }
  },
  {
   "cell_type": "markdown",
   "source": [
    "Rating Matrix"
   ],
   "metadata": {
    "collapsed": false,
    "pycharm": {
     "name": "#%% md\n"
    }
   }
  },
  {
   "cell_type": "code",
   "execution_count": 52,
   "outputs": [],
   "source": [
    "data_model_train_matrix = pd.DataFrame(index=datasets_train,columns=models)\n",
    "data_model_test_matrix = pd.DataFrame(index=datasets_test,columns=models)"
   ],
   "metadata": {
    "collapsed": false,
    "pycharm": {
     "name": "#%%\n"
    }
   }
  },
  {
   "cell_type": "code",
   "execution_count": 53,
   "outputs": [],
   "source": [
    "for row in ratings_train.itertuples():\n",
    "    data_model_train_matrix.loc[row[1]][row[2]] = row[3]\n",
    "data_model_train_matrix = data_model_train_matrix.fillna(0)"
   ],
   "metadata": {
    "collapsed": false,
    "pycharm": {
     "name": "#%%\n"
    }
   }
  },
  {
   "cell_type": "code",
   "execution_count": 54,
   "outputs": [],
   "source": [
    "for row in ratings_test.itertuples():\n",
    "    data_model_test_matrix.loc[row[1]][row[2]] = row[3]\n",
    "data_model_test_matrix = data_model_test_matrix.fillna(0)"
   ],
   "metadata": {
    "collapsed": false,
    "pycharm": {
     "name": "#%%\n"
    }
   }
  },
  {
   "cell_type": "markdown",
   "source": [
    "Dataset Similarity Matrix"
   ],
   "metadata": {
    "collapsed": false,
    "pycharm": {
     "name": "#%% md\n"
    }
   }
  },
  {
   "cell_type": "code",
   "execution_count": 58,
   "outputs": [],
   "source": [
    "def similarity(user1, user2):\n",
    "    # 获取两个用户共同评分的物品\n",
    "    cols = data_model_train_matrix.columns[user1.values.nonzero()[0]]\n",
    "    common_items = np.intersect1d(cols,data_model_train_matrix.columns[user2.values.nonzero()[0]]).tolist()\n",
    "    # 如果没有共同评分的物品，则相似度为0\n",
    "    if len(common_items) == 0:\n",
    "        return 0\n",
    "    # 计算两个用户共同评分物品的评分差的平方和\n",
    "    diff = 0\n",
    "    for common_item in common_items:\n",
    "        diff += user1[common_item] - user2[common_item]\n",
    "    square_diff = np.sum(diff**2)\n",
    "    # 计算相似度\n",
    "    sim = 1 / (1 + np.sqrt(square_diff))\n",
    "    return sim"
   ],
   "metadata": {
    "collapsed": false,
    "pycharm": {
     "name": "#%%\n"
    }
   }
  },
  {
   "cell_type": "code",
   "execution_count": 60,
   "outputs": [],
   "source": [
    "user_similarities = pd.DataFrame(index=datasets_train,columns=datasets_train)\n",
    "for i in datasets_train:\n",
    "    for j in datasets_train:\n",
    "        user_similarities.loc[i][j] = similarity(data_model_train_matrix.loc[i], data_model_train_matrix.loc[j])\n",
    "        user_similarities.loc[j][i] = user_similarities.loc[i][j]"
   ],
   "metadata": {
    "collapsed": false,
    "pycharm": {
     "name": "#%%\n"
    }
   }
  },
  {
   "cell_type": "code",
   "execution_count": 62,
   "outputs": [
    {
     "data": {
      "text/plain": "     48      50   57   33   8  56 12 37 51 23  ... 25        58        3   \\\n48  1.0       0    0    0    0  0  0  0  0  0  ...  0         0         0   \n50    0     1.0    0    0    0  0  0  0  0  0  ...  0         0         0   \n57    0       0  1.0    0    0  0  0  0  0  0  ...  0         0         0   \n33    0       0    0  1.0    0  0  0  0  0  0  ...  0         0  0.419508   \n8     0       0    0    0  1.0  0  0  0  0  0  ...  0         0         0   \n..  ...     ...  ...  ...  ... .. .. .. .. ..  ... ..       ...       ...   \n59    0       0    0    0    0  0  0  0  0  0  ...  0         0         0   \n42    0       0    0    0    0  0  0  0  0  0  ...  0         0         0   \n44    0       0    0    0    0  0  0  0  0  0  ...  0  0.891634         0   \n46    0       0    0    0    0  0  0  0  0  0  ...  0         0         0   \n41    0  0.5056    0    0    0  0  0  0  0  0  ...  0         0         0   \n\n          66       24   59   42   44   46      41  \n48         0        0    0    0    0    0       0  \n50  0.565563        0    0    0    0    0  0.5056  \n57         0  0.15517    0    0    0    0       0  \n33         0        0    0    0    0    0       0  \n8          0        0    0    0    0    0       0  \n..       ...      ...  ...  ...  ...  ...     ...  \n59         0        0  1.0    0    0    0       0  \n42         0        0    0  1.0    0    0       0  \n44         0        0    0    0  1.0    0       0  \n46         0        0    0    0    0  1.0       0  \n41  0.994444        0    0    0    0    0     1.0  \n\n[62 rows x 62 columns]",
      "text/html": "<div>\n<style scoped>\n    .dataframe tbody tr th:only-of-type {\n        vertical-align: middle;\n    }\n\n    .dataframe tbody tr th {\n        vertical-align: top;\n    }\n\n    .dataframe thead th {\n        text-align: right;\n    }\n</style>\n<table border=\"1\" class=\"dataframe\">\n  <thead>\n    <tr style=\"text-align: right;\">\n      <th></th>\n      <th>48</th>\n      <th>50</th>\n      <th>57</th>\n      <th>33</th>\n      <th>8</th>\n      <th>56</th>\n      <th>12</th>\n      <th>37</th>\n      <th>51</th>\n      <th>23</th>\n      <th>...</th>\n      <th>25</th>\n      <th>58</th>\n      <th>3</th>\n      <th>66</th>\n      <th>24</th>\n      <th>59</th>\n      <th>42</th>\n      <th>44</th>\n      <th>46</th>\n      <th>41</th>\n    </tr>\n  </thead>\n  <tbody>\n    <tr>\n      <th>48</th>\n      <td>1.0</td>\n      <td>0</td>\n      <td>0</td>\n      <td>0</td>\n      <td>0</td>\n      <td>0</td>\n      <td>0</td>\n      <td>0</td>\n      <td>0</td>\n      <td>0</td>\n      <td>...</td>\n      <td>0</td>\n      <td>0</td>\n      <td>0</td>\n      <td>0</td>\n      <td>0</td>\n      <td>0</td>\n      <td>0</td>\n      <td>0</td>\n      <td>0</td>\n      <td>0</td>\n    </tr>\n    <tr>\n      <th>50</th>\n      <td>0</td>\n      <td>1.0</td>\n      <td>0</td>\n      <td>0</td>\n      <td>0</td>\n      <td>0</td>\n      <td>0</td>\n      <td>0</td>\n      <td>0</td>\n      <td>0</td>\n      <td>...</td>\n      <td>0</td>\n      <td>0</td>\n      <td>0</td>\n      <td>0.565563</td>\n      <td>0</td>\n      <td>0</td>\n      <td>0</td>\n      <td>0</td>\n      <td>0</td>\n      <td>0.5056</td>\n    </tr>\n    <tr>\n      <th>57</th>\n      <td>0</td>\n      <td>0</td>\n      <td>1.0</td>\n      <td>0</td>\n      <td>0</td>\n      <td>0</td>\n      <td>0</td>\n      <td>0</td>\n      <td>0</td>\n      <td>0</td>\n      <td>...</td>\n      <td>0</td>\n      <td>0</td>\n      <td>0</td>\n      <td>0</td>\n      <td>0.15517</td>\n      <td>0</td>\n      <td>0</td>\n      <td>0</td>\n      <td>0</td>\n      <td>0</td>\n    </tr>\n    <tr>\n      <th>33</th>\n      <td>0</td>\n      <td>0</td>\n      <td>0</td>\n      <td>1.0</td>\n      <td>0</td>\n      <td>0</td>\n      <td>0</td>\n      <td>0</td>\n      <td>0</td>\n      <td>0</td>\n      <td>...</td>\n      <td>0</td>\n      <td>0</td>\n      <td>0.419508</td>\n      <td>0</td>\n      <td>0</td>\n      <td>0</td>\n      <td>0</td>\n      <td>0</td>\n      <td>0</td>\n      <td>0</td>\n    </tr>\n    <tr>\n      <th>8</th>\n      <td>0</td>\n      <td>0</td>\n      <td>0</td>\n      <td>0</td>\n      <td>1.0</td>\n      <td>0</td>\n      <td>0</td>\n      <td>0</td>\n      <td>0</td>\n      <td>0</td>\n      <td>...</td>\n      <td>0</td>\n      <td>0</td>\n      <td>0</td>\n      <td>0</td>\n      <td>0</td>\n      <td>0</td>\n      <td>0</td>\n      <td>0</td>\n      <td>0</td>\n      <td>0</td>\n    </tr>\n    <tr>\n      <th>...</th>\n      <td>...</td>\n      <td>...</td>\n      <td>...</td>\n      <td>...</td>\n      <td>...</td>\n      <td>...</td>\n      <td>...</td>\n      <td>...</td>\n      <td>...</td>\n      <td>...</td>\n      <td>...</td>\n      <td>...</td>\n      <td>...</td>\n      <td>...</td>\n      <td>...</td>\n      <td>...</td>\n      <td>...</td>\n      <td>...</td>\n      <td>...</td>\n      <td>...</td>\n      <td>...</td>\n    </tr>\n    <tr>\n      <th>59</th>\n      <td>0</td>\n      <td>0</td>\n      <td>0</td>\n      <td>0</td>\n      <td>0</td>\n      <td>0</td>\n      <td>0</td>\n      <td>0</td>\n      <td>0</td>\n      <td>0</td>\n      <td>...</td>\n      <td>0</td>\n      <td>0</td>\n      <td>0</td>\n      <td>0</td>\n      <td>0</td>\n      <td>1.0</td>\n      <td>0</td>\n      <td>0</td>\n      <td>0</td>\n      <td>0</td>\n    </tr>\n    <tr>\n      <th>42</th>\n      <td>0</td>\n      <td>0</td>\n      <td>0</td>\n      <td>0</td>\n      <td>0</td>\n      <td>0</td>\n      <td>0</td>\n      <td>0</td>\n      <td>0</td>\n      <td>0</td>\n      <td>...</td>\n      <td>0</td>\n      <td>0</td>\n      <td>0</td>\n      <td>0</td>\n      <td>0</td>\n      <td>0</td>\n      <td>1.0</td>\n      <td>0</td>\n      <td>0</td>\n      <td>0</td>\n    </tr>\n    <tr>\n      <th>44</th>\n      <td>0</td>\n      <td>0</td>\n      <td>0</td>\n      <td>0</td>\n      <td>0</td>\n      <td>0</td>\n      <td>0</td>\n      <td>0</td>\n      <td>0</td>\n      <td>0</td>\n      <td>...</td>\n      <td>0</td>\n      <td>0.891634</td>\n      <td>0</td>\n      <td>0</td>\n      <td>0</td>\n      <td>0</td>\n      <td>0</td>\n      <td>1.0</td>\n      <td>0</td>\n      <td>0</td>\n    </tr>\n    <tr>\n      <th>46</th>\n      <td>0</td>\n      <td>0</td>\n      <td>0</td>\n      <td>0</td>\n      <td>0</td>\n      <td>0</td>\n      <td>0</td>\n      <td>0</td>\n      <td>0</td>\n      <td>0</td>\n      <td>...</td>\n      <td>0</td>\n      <td>0</td>\n      <td>0</td>\n      <td>0</td>\n      <td>0</td>\n      <td>0</td>\n      <td>0</td>\n      <td>0</td>\n      <td>1.0</td>\n      <td>0</td>\n    </tr>\n    <tr>\n      <th>41</th>\n      <td>0</td>\n      <td>0.5056</td>\n      <td>0</td>\n      <td>0</td>\n      <td>0</td>\n      <td>0</td>\n      <td>0</td>\n      <td>0</td>\n      <td>0</td>\n      <td>0</td>\n      <td>...</td>\n      <td>0</td>\n      <td>0</td>\n      <td>0</td>\n      <td>0.994444</td>\n      <td>0</td>\n      <td>0</td>\n      <td>0</td>\n      <td>0</td>\n      <td>0</td>\n      <td>1.0</td>\n    </tr>\n  </tbody>\n</table>\n<p>62 rows × 62 columns</p>\n</div>"
     },
     "execution_count": 62,
     "metadata": {},
     "output_type": "execute_result"
    }
   ],
   "source": [
    "user_similarities"
   ],
   "metadata": {
    "collapsed": false,
    "pycharm": {
     "name": "#%%\n"
    }
   }
  },
  {
   "cell_type": "code",
   "execution_count": 63,
   "outputs": [],
   "source": [
    "# dataset_similarity = cosine_similarity(data_model_train_matrix)\n",
    "# model_similarity = cosine_similarity(data_model_train_matrix.T)\n",
    "#\n",
    "# dataset_similarity_csv = pd.DataFrame(dataset_similarity,index=datasets,columns=datasets)"
   ],
   "metadata": {
    "collapsed": false,
    "pycharm": {
     "name": "#%%\n"
    }
   }
  },
  {
   "cell_type": "markdown",
   "source": [
    "Prediction"
   ],
   "metadata": {
    "collapsed": false,
    "pycharm": {
     "name": "#%% md\n"
    }
   }
  },
  {
   "cell_type": "code",
   "execution_count": 64,
   "outputs": [],
   "source": [
    "def predict(ratings, similarity):\n",
    "        mean_user_rating = ratings.mean(axis=1)\n",
    "        ratings_diff = ratings - np.array(mean_user_rating)[:,np.newaxis]\n",
    "        pred = np.array(mean_user_rating)[:,np.newaxis] + np.dot(similarity,ratings_diff) / np.array([np.abs(similarity).sum(axis = 1)]).T\n",
    "        return pred"
   ],
   "metadata": {
    "collapsed": false,
    "pycharm": {
     "name": "#%%\n"
    }
   }
  },
  {
   "cell_type": "code",
   "execution_count": 65,
   "outputs": [],
   "source": [
    "user_prediction = predict(data_model_train_matrix,user_similarities)\n",
    "model_prediction_csv = pd.DataFrame(user_prediction,index=datasets_train,columns=models).sort_index().sort_index(axis=1)\n",
    "# model_prediction_csv.to_csv('model_prediction_csv',sep=\"\\t\")"
   ],
   "metadata": {
    "collapsed": false,
    "pycharm": {
     "name": "#%%\n"
    }
   }
  },
  {
   "cell_type": "code",
   "execution_count": 66,
   "outputs": [
    {
     "data": {
      "text/plain": "        72        73        74        75        76        77        78    \\\n0   0.767445  0.792423  0.725187  0.900871    0.8595  0.877312  0.708945   \n2   0.000937  0.000937  0.000937  0.000937  0.000937  0.000937  0.000937   \n3   0.000148  0.000148  0.000148  0.000148  0.000148  0.000148  0.000148   \n4  -0.000452 -0.000452 -0.000452 -0.000452 -0.000452 -0.000452 -0.000452   \n5  -0.000688 -0.000688 -0.000688 -0.000688 -0.000688 -0.000688 -0.000688   \n..       ...       ...       ...       ...       ...       ...       ...   \n66 -0.000279 -0.000279 -0.000279 -0.000279 -0.000279 -0.000279 -0.000279   \n68  0.138431  0.352461  0.333684  0.490662  0.276993  0.398343  0.059459   \n69  0.000175  0.000175  0.000175  0.000175  0.000175  0.000175  0.000175   \n70 -0.000396 -0.000396 -0.000396 -0.000396 -0.000396 -0.000396 -0.000396   \n71 -0.000272 -0.000272 -0.000272 -0.000272 -0.000272 -0.000272 -0.000272   \n\n        79        80        81    ...      1862      1863      1864      1865  \\\n0   0.757578  0.871463  0.739112  ...  0.001378  0.001378  0.001378  0.001378   \n2   0.000937  0.000937  0.000937  ...  0.000937  0.000937  0.000937  0.000937   \n3   0.000148  0.000148  0.000148  ...  0.077809  0.083958  0.080668  0.109437   \n4  -0.000452 -0.000452 -0.000452  ... -0.000452 -0.000452 -0.000452 -0.000452   \n5  -0.000688 -0.000688 -0.000688  ... -0.000688 -0.000688 -0.000688 -0.000688   \n..       ...       ...       ...  ...       ...       ...       ...       ...   \n66 -0.000279 -0.000279 -0.000279  ... -0.000279 -0.000279 -0.000279 -0.000279   \n68  0.348159  0.287982  0.224719  ... -0.000795 -0.000795 -0.000795 -0.000795   \n69  0.000175  0.000175  0.000175  ...  0.000175  0.000175  0.000175  0.000175   \n70 -0.000396 -0.000396 -0.000396  ... -0.000396 -0.000396 -0.000396 -0.000396   \n71 -0.000272 -0.000272 -0.000272  ...  0.137996  0.149644  0.147641  0.079931   \n\n        1866      1867      1868      1869      1870      1871  \n0   0.001378  0.001378  0.001378  0.001378  0.001378  0.001378  \n2   0.000937  0.000937  0.000937  0.000937  0.000937  0.000937  \n3   0.121942  0.151469  0.056524  0.128739  0.205597  0.125543  \n4  -0.000452 -0.000452 -0.000452 -0.000452 -0.000452 -0.000452  \n5  -0.000688 -0.000688 -0.000688 -0.000688 -0.000688 -0.000688  \n..       ...       ...       ...       ...       ...       ...  \n66 -0.000279 -0.000279 -0.000279 -0.000279 -0.000279 -0.000279  \n68 -0.000795 -0.000795 -0.000795 -0.000795 -0.000795 -0.000795  \n69  0.000175  0.000175  0.000175  0.000175  0.000175  0.000175  \n70 -0.000396 -0.000396 -0.000396 -0.000396 -0.000396 -0.000396  \n71   0.09823  0.161134  0.087864  0.269459  0.296565  0.100806  \n\n[62 rows x 1800 columns]",
      "text/html": "<div>\n<style scoped>\n    .dataframe tbody tr th:only-of-type {\n        vertical-align: middle;\n    }\n\n    .dataframe tbody tr th {\n        vertical-align: top;\n    }\n\n    .dataframe thead th {\n        text-align: right;\n    }\n</style>\n<table border=\"1\" class=\"dataframe\">\n  <thead>\n    <tr style=\"text-align: right;\">\n      <th></th>\n      <th>72</th>\n      <th>73</th>\n      <th>74</th>\n      <th>75</th>\n      <th>76</th>\n      <th>77</th>\n      <th>78</th>\n      <th>79</th>\n      <th>80</th>\n      <th>81</th>\n      <th>...</th>\n      <th>1862</th>\n      <th>1863</th>\n      <th>1864</th>\n      <th>1865</th>\n      <th>1866</th>\n      <th>1867</th>\n      <th>1868</th>\n      <th>1869</th>\n      <th>1870</th>\n      <th>1871</th>\n    </tr>\n  </thead>\n  <tbody>\n    <tr>\n      <th>0</th>\n      <td>0.767445</td>\n      <td>0.792423</td>\n      <td>0.725187</td>\n      <td>0.900871</td>\n      <td>0.8595</td>\n      <td>0.877312</td>\n      <td>0.708945</td>\n      <td>0.757578</td>\n      <td>0.871463</td>\n      <td>0.739112</td>\n      <td>...</td>\n      <td>0.001378</td>\n      <td>0.001378</td>\n      <td>0.001378</td>\n      <td>0.001378</td>\n      <td>0.001378</td>\n      <td>0.001378</td>\n      <td>0.001378</td>\n      <td>0.001378</td>\n      <td>0.001378</td>\n      <td>0.001378</td>\n    </tr>\n    <tr>\n      <th>2</th>\n      <td>0.000937</td>\n      <td>0.000937</td>\n      <td>0.000937</td>\n      <td>0.000937</td>\n      <td>0.000937</td>\n      <td>0.000937</td>\n      <td>0.000937</td>\n      <td>0.000937</td>\n      <td>0.000937</td>\n      <td>0.000937</td>\n      <td>...</td>\n      <td>0.000937</td>\n      <td>0.000937</td>\n      <td>0.000937</td>\n      <td>0.000937</td>\n      <td>0.000937</td>\n      <td>0.000937</td>\n      <td>0.000937</td>\n      <td>0.000937</td>\n      <td>0.000937</td>\n      <td>0.000937</td>\n    </tr>\n    <tr>\n      <th>3</th>\n      <td>0.000148</td>\n      <td>0.000148</td>\n      <td>0.000148</td>\n      <td>0.000148</td>\n      <td>0.000148</td>\n      <td>0.000148</td>\n      <td>0.000148</td>\n      <td>0.000148</td>\n      <td>0.000148</td>\n      <td>0.000148</td>\n      <td>...</td>\n      <td>0.077809</td>\n      <td>0.083958</td>\n      <td>0.080668</td>\n      <td>0.109437</td>\n      <td>0.121942</td>\n      <td>0.151469</td>\n      <td>0.056524</td>\n      <td>0.128739</td>\n      <td>0.205597</td>\n      <td>0.125543</td>\n    </tr>\n    <tr>\n      <th>4</th>\n      <td>-0.000452</td>\n      <td>-0.000452</td>\n      <td>-0.000452</td>\n      <td>-0.000452</td>\n      <td>-0.000452</td>\n      <td>-0.000452</td>\n      <td>-0.000452</td>\n      <td>-0.000452</td>\n      <td>-0.000452</td>\n      <td>-0.000452</td>\n      <td>...</td>\n      <td>-0.000452</td>\n      <td>-0.000452</td>\n      <td>-0.000452</td>\n      <td>-0.000452</td>\n      <td>-0.000452</td>\n      <td>-0.000452</td>\n      <td>-0.000452</td>\n      <td>-0.000452</td>\n      <td>-0.000452</td>\n      <td>-0.000452</td>\n    </tr>\n    <tr>\n      <th>5</th>\n      <td>-0.000688</td>\n      <td>-0.000688</td>\n      <td>-0.000688</td>\n      <td>-0.000688</td>\n      <td>-0.000688</td>\n      <td>-0.000688</td>\n      <td>-0.000688</td>\n      <td>-0.000688</td>\n      <td>-0.000688</td>\n      <td>-0.000688</td>\n      <td>...</td>\n      <td>-0.000688</td>\n      <td>-0.000688</td>\n      <td>-0.000688</td>\n      <td>-0.000688</td>\n      <td>-0.000688</td>\n      <td>-0.000688</td>\n      <td>-0.000688</td>\n      <td>-0.000688</td>\n      <td>-0.000688</td>\n      <td>-0.000688</td>\n    </tr>\n    <tr>\n      <th>...</th>\n      <td>...</td>\n      <td>...</td>\n      <td>...</td>\n      <td>...</td>\n      <td>...</td>\n      <td>...</td>\n      <td>...</td>\n      <td>...</td>\n      <td>...</td>\n      <td>...</td>\n      <td>...</td>\n      <td>...</td>\n      <td>...</td>\n      <td>...</td>\n      <td>...</td>\n      <td>...</td>\n      <td>...</td>\n      <td>...</td>\n      <td>...</td>\n      <td>...</td>\n      <td>...</td>\n    </tr>\n    <tr>\n      <th>66</th>\n      <td>-0.000279</td>\n      <td>-0.000279</td>\n      <td>-0.000279</td>\n      <td>-0.000279</td>\n      <td>-0.000279</td>\n      <td>-0.000279</td>\n      <td>-0.000279</td>\n      <td>-0.000279</td>\n      <td>-0.000279</td>\n      <td>-0.000279</td>\n      <td>...</td>\n      <td>-0.000279</td>\n      <td>-0.000279</td>\n      <td>-0.000279</td>\n      <td>-0.000279</td>\n      <td>-0.000279</td>\n      <td>-0.000279</td>\n      <td>-0.000279</td>\n      <td>-0.000279</td>\n      <td>-0.000279</td>\n      <td>-0.000279</td>\n    </tr>\n    <tr>\n      <th>68</th>\n      <td>0.138431</td>\n      <td>0.352461</td>\n      <td>0.333684</td>\n      <td>0.490662</td>\n      <td>0.276993</td>\n      <td>0.398343</td>\n      <td>0.059459</td>\n      <td>0.348159</td>\n      <td>0.287982</td>\n      <td>0.224719</td>\n      <td>...</td>\n      <td>-0.000795</td>\n      <td>-0.000795</td>\n      <td>-0.000795</td>\n      <td>-0.000795</td>\n      <td>-0.000795</td>\n      <td>-0.000795</td>\n      <td>-0.000795</td>\n      <td>-0.000795</td>\n      <td>-0.000795</td>\n      <td>-0.000795</td>\n    </tr>\n    <tr>\n      <th>69</th>\n      <td>0.000175</td>\n      <td>0.000175</td>\n      <td>0.000175</td>\n      <td>0.000175</td>\n      <td>0.000175</td>\n      <td>0.000175</td>\n      <td>0.000175</td>\n      <td>0.000175</td>\n      <td>0.000175</td>\n      <td>0.000175</td>\n      <td>...</td>\n      <td>0.000175</td>\n      <td>0.000175</td>\n      <td>0.000175</td>\n      <td>0.000175</td>\n      <td>0.000175</td>\n      <td>0.000175</td>\n      <td>0.000175</td>\n      <td>0.000175</td>\n      <td>0.000175</td>\n      <td>0.000175</td>\n    </tr>\n    <tr>\n      <th>70</th>\n      <td>-0.000396</td>\n      <td>-0.000396</td>\n      <td>-0.000396</td>\n      <td>-0.000396</td>\n      <td>-0.000396</td>\n      <td>-0.000396</td>\n      <td>-0.000396</td>\n      <td>-0.000396</td>\n      <td>-0.000396</td>\n      <td>-0.000396</td>\n      <td>...</td>\n      <td>-0.000396</td>\n      <td>-0.000396</td>\n      <td>-0.000396</td>\n      <td>-0.000396</td>\n      <td>-0.000396</td>\n      <td>-0.000396</td>\n      <td>-0.000396</td>\n      <td>-0.000396</td>\n      <td>-0.000396</td>\n      <td>-0.000396</td>\n    </tr>\n    <tr>\n      <th>71</th>\n      <td>-0.000272</td>\n      <td>-0.000272</td>\n      <td>-0.000272</td>\n      <td>-0.000272</td>\n      <td>-0.000272</td>\n      <td>-0.000272</td>\n      <td>-0.000272</td>\n      <td>-0.000272</td>\n      <td>-0.000272</td>\n      <td>-0.000272</td>\n      <td>...</td>\n      <td>0.137996</td>\n      <td>0.149644</td>\n      <td>0.147641</td>\n      <td>0.079931</td>\n      <td>0.09823</td>\n      <td>0.161134</td>\n      <td>0.087864</td>\n      <td>0.269459</td>\n      <td>0.296565</td>\n      <td>0.100806</td>\n    </tr>\n  </tbody>\n</table>\n<p>62 rows × 1800 columns</p>\n</div>"
     },
     "execution_count": 66,
     "metadata": {},
     "output_type": "execute_result"
    }
   ],
   "source": [
    "model_prediction_csv"
   ],
   "metadata": {
    "collapsed": false,
    "pycharm": {
     "name": "#%%\n"
    }
   }
  },
  {
   "cell_type": "markdown",
   "source": [
    "Validation"
   ],
   "metadata": {
    "collapsed": false,
    "pycharm": {
     "name": "#%% md\n"
    }
   }
  },
  {
   "cell_type": "code",
   "execution_count": 68,
   "outputs": [],
   "source": [
    "from sklearn.metrics import mean_squared_error\n",
    "from math import sqrt"
   ],
   "metadata": {
    "collapsed": false,
    "pycharm": {
     "name": "#%%\n"
    }
   }
  },
  {
   "cell_type": "code",
   "execution_count": 69,
   "outputs": [],
   "source": [
    "def rmse(prediction, ground_truth):\n",
    "    prediction = prediction.to_numpy()[ground_truth.nonzero()].flatten()\n",
    "    ground_truth = ground_truth[ground_truth.nonzero()].flatten()\n",
    "    return sqrt(mean_squared_error(prediction,ground_truth))"
   ],
   "metadata": {
    "collapsed": false,
    "pycharm": {
     "name": "#%%\n"
    }
   }
  },
  {
   "cell_type": "markdown",
   "source": [
    "Metadata Based"
   ],
   "metadata": {
    "collapsed": false,
    "pycharm": {
     "name": "#%% md\n"
    }
   }
  },
  {
   "cell_type": "code",
   "execution_count": 74,
   "outputs": [
    {
     "data": {
      "text/plain": "          v1        v2        v3        v4        v5        v6        v7  \\\n0   0.454312  0.241966 -0.178474  0.078718 -0.343706  0.150178  0.103396   \n1   0.527839  0.284245 -0.201757  0.116918 -0.394861  0.168884  0.137184   \n2   0.421102  0.234788 -0.172241  0.081514 -0.348054  0.138399  0.100450   \n3   0.358012  0.198786 -0.129784  0.068405 -0.275457  0.119678  0.093582   \n4   0.298305  0.167896 -0.120117  0.052906 -0.242469  0.107290  0.072812   \n..       ...       ...       ...       ...       ...       ...       ...   \n67  0.446627  0.241174 -0.179276  0.092747 -0.355247  0.140657  0.110482   \n68  0.411207  0.244925 -0.156990  0.084651 -0.319750  0.147412  0.104277   \n69  0.495822  0.270633 -0.181879  0.100016 -0.387360  0.150677  0.108678   \n70  0.406016  0.214886 -0.155250  0.082475 -0.315015  0.126135  0.087693   \n71  0.177364  0.075348 -0.091034  0.006257 -0.083623  0.051864  0.039216   \n\n          v8  \n0  -0.474233  \n1  -0.536491  \n2  -0.447096  \n3  -0.378495  \n4  -0.322821  \n..       ...  \n67 -0.472832  \n68 -0.440762  \n69 -0.507951  \n70 -0.414519  \n71 -0.090296  \n\n[72 rows x 8 columns]",
      "text/html": "<div>\n<style scoped>\n    .dataframe tbody tr th:only-of-type {\n        vertical-align: middle;\n    }\n\n    .dataframe tbody tr th {\n        vertical-align: top;\n    }\n\n    .dataframe thead th {\n        text-align: right;\n    }\n</style>\n<table border=\"1\" class=\"dataframe\">\n  <thead>\n    <tr style=\"text-align: right;\">\n      <th></th>\n      <th>v1</th>\n      <th>v2</th>\n      <th>v3</th>\n      <th>v4</th>\n      <th>v5</th>\n      <th>v6</th>\n      <th>v7</th>\n      <th>v8</th>\n    </tr>\n  </thead>\n  <tbody>\n    <tr>\n      <th>0</th>\n      <td>0.454312</td>\n      <td>0.241966</td>\n      <td>-0.178474</td>\n      <td>0.078718</td>\n      <td>-0.343706</td>\n      <td>0.150178</td>\n      <td>0.103396</td>\n      <td>-0.474233</td>\n    </tr>\n    <tr>\n      <th>1</th>\n      <td>0.527839</td>\n      <td>0.284245</td>\n      <td>-0.201757</td>\n      <td>0.116918</td>\n      <td>-0.394861</td>\n      <td>0.168884</td>\n      <td>0.137184</td>\n      <td>-0.536491</td>\n    </tr>\n    <tr>\n      <th>2</th>\n      <td>0.421102</td>\n      <td>0.234788</td>\n      <td>-0.172241</td>\n      <td>0.081514</td>\n      <td>-0.348054</td>\n      <td>0.138399</td>\n      <td>0.100450</td>\n      <td>-0.447096</td>\n    </tr>\n    <tr>\n      <th>3</th>\n      <td>0.358012</td>\n      <td>0.198786</td>\n      <td>-0.129784</td>\n      <td>0.068405</td>\n      <td>-0.275457</td>\n      <td>0.119678</td>\n      <td>0.093582</td>\n      <td>-0.378495</td>\n    </tr>\n    <tr>\n      <th>4</th>\n      <td>0.298305</td>\n      <td>0.167896</td>\n      <td>-0.120117</td>\n      <td>0.052906</td>\n      <td>-0.242469</td>\n      <td>0.107290</td>\n      <td>0.072812</td>\n      <td>-0.322821</td>\n    </tr>\n    <tr>\n      <th>...</th>\n      <td>...</td>\n      <td>...</td>\n      <td>...</td>\n      <td>...</td>\n      <td>...</td>\n      <td>...</td>\n      <td>...</td>\n      <td>...</td>\n    </tr>\n    <tr>\n      <th>67</th>\n      <td>0.446627</td>\n      <td>0.241174</td>\n      <td>-0.179276</td>\n      <td>0.092747</td>\n      <td>-0.355247</td>\n      <td>0.140657</td>\n      <td>0.110482</td>\n      <td>-0.472832</td>\n    </tr>\n    <tr>\n      <th>68</th>\n      <td>0.411207</td>\n      <td>0.244925</td>\n      <td>-0.156990</td>\n      <td>0.084651</td>\n      <td>-0.319750</td>\n      <td>0.147412</td>\n      <td>0.104277</td>\n      <td>-0.440762</td>\n    </tr>\n    <tr>\n      <th>69</th>\n      <td>0.495822</td>\n      <td>0.270633</td>\n      <td>-0.181879</td>\n      <td>0.100016</td>\n      <td>-0.387360</td>\n      <td>0.150677</td>\n      <td>0.108678</td>\n      <td>-0.507951</td>\n    </tr>\n    <tr>\n      <th>70</th>\n      <td>0.406016</td>\n      <td>0.214886</td>\n      <td>-0.155250</td>\n      <td>0.082475</td>\n      <td>-0.315015</td>\n      <td>0.126135</td>\n      <td>0.087693</td>\n      <td>-0.414519</td>\n    </tr>\n    <tr>\n      <th>71</th>\n      <td>0.177364</td>\n      <td>0.075348</td>\n      <td>-0.091034</td>\n      <td>0.006257</td>\n      <td>-0.083623</td>\n      <td>0.051864</td>\n      <td>0.039216</td>\n      <td>-0.090296</td>\n    </tr>\n  </tbody>\n</table>\n<p>72 rows × 8 columns</p>\n</div>"
     },
     "execution_count": 74,
     "metadata": {},
     "output_type": "execute_result"
    }
   ],
   "source": [
    "meta_datasets = pd.read_csv(\"datasets_v.csv\",low_memory=False)\n",
    "datasets = meta_datasets.data_id.unique()\n",
    "meta_datasets = meta_datasets.loc[:,('v1','v2','v3','v4','v5','v6','v7','v8')]\n",
    "meta_datasets"
   ],
   "metadata": {
    "collapsed": false,
    "pycharm": {
     "name": "#%%\n"
    }
   }
  },
  {
   "cell_type": "code",
   "execution_count": 75,
   "outputs": [
    {
     "data": {
      "text/plain": "[[0.454311557,\n  0.241965768,\n  -0.178474429,\n  0.078717657,\n  -0.343706069,\n  0.150177872,\n  0.103396425,\n  -0.474233454],\n [0.527839024,\n  0.284245372,\n  -0.201756938,\n  0.116918329,\n  -0.394860626,\n  0.16888419,\n  0.137184327,\n  -0.536490508],\n [0.421102265,\n  0.234787548,\n  -0.172240752,\n  0.081513668,\n  -0.348053636,\n  0.138399188,\n  0.100449697,\n  -0.447095778],\n [0.358011712,\n  0.198785837,\n  -0.12978356,\n  0.068405273,\n  -0.275457302,\n  0.119678099,\n  0.09358213,\n  -0.378495172],\n [0.298304723,\n  0.167896053,\n  -0.120116891,\n  0.052905728,\n  -0.242468698,\n  0.1072904,\n  0.072812415,\n  -0.322821359],\n [0.348415455,\n  0.188208281,\n  -0.133945905,\n  0.068413448,\n  -0.268896279,\n  0.101534269,\n  0.093553875,\n  -0.365702429],\n [0.459701074,\n  0.243700217,\n  -0.18333345,\n  0.10144472,\n  -0.376414413,\n  0.156660285,\n  0.118015787,\n  -0.487984053],\n [0.498960363,\n  0.288728784,\n  -0.205670869,\n  0.130357762,\n  -0.373291447,\n  0.151090336,\n  0.125688079,\n  -0.495753856],\n [0.405267065,\n  0.211853299,\n  -0.164335849,\n  0.084551307,\n  -0.324846528,\n  0.121614676,\n  0.102911084,\n  -0.419407938],\n [0.395870198,\n  0.220205852,\n  -0.154101177,\n  0.083575369,\n  -0.322030274,\n  0.12602677,\n  0.099969604,\n  -0.415272603],\n [0.402935085,\n  0.217561836,\n  -0.15133232,\n  0.076936368,\n  -0.320931612,\n  0.132940277,\n  0.104668632,\n  -0.420332396],\n [0.39443621,\n  0.216079741,\n  -0.147617339,\n  0.085240336,\n  -0.322029277,\n  0.129201486,\n  0.083814769,\n  -0.423617207],\n [0.70088885,\n  0.380889323,\n  -0.266942918,\n  0.20015616,\n  -0.457927823,\n  0.203649336,\n  0.169822184,\n  -0.645773537],\n [0.365616481,\n  0.194614753,\n  -0.142967098,\n  0.066935492,\n  -0.287682881,\n  0.108872675,\n  0.097333464,\n  -0.378124463],\n [0.562455975,\n  0.301119855,\n  -0.224093055,\n  0.158408896,\n  -0.375769645,\n  0.163393819,\n  0.145721473,\n  -0.530706922],\n [0.433839629,\n  0.228309078,\n  -0.157602781,\n  0.094308927,\n  -0.327687215,\n  0.152259886,\n  0.113822303,\n  -0.443201544],\n [0.42416381,\n  0.269882748,\n  -0.195344639,\n  0.095110363,\n  -0.334207563,\n  0.118371454,\n  0.138708651,\n  -0.476233033],\n [0.469124958,\n  0.299929344,\n  -0.226988537,\n  0.110615691,\n  -0.365813108,\n  0.118201385,\n  0.153947322,\n  -0.537275692],\n [0.39348727,\n  0.203128987,\n  -0.138631181,\n  0.088261147,\n  -0.316496717,\n  0.118170501,\n  0.079830067,\n  -0.415045869],\n [0.321794942,\n  0.169766348,\n  -0.123495464,\n  0.066181469,\n  -0.252965914,\n  0.102785741,\n  0.081706939,\n  -0.334780703],\n [0.359505324,\n  0.188227784,\n  -0.114961093,\n  0.05488195,\n  -0.288958731,\n  0.106069137,\n  0.143516083,\n  -0.424256788],\n [0.427388295,\n  0.270146188,\n  -0.20200108,\n  0.101491133,\n  -0.349063869,\n  0.123469684,\n  0.145463508,\n  -0.489665566],\n [0.448504387,\n  0.234140992,\n  -0.17657491,\n  0.098779595,\n  -0.350322029,\n  0.143078691,\n  0.111528933,\n  -0.460504827],\n [0.44390222,\n  0.2297227,\n  -0.175274588,\n  0.095732539,\n  -0.352384881,\n  0.140754004,\n  0.104644049,\n  -0.456862438],\n [0.42048958,\n  0.212759213,\n  -0.140523645,\n  0.093977837,\n  -0.322686141,\n  0.119575902,\n  0.108658343,\n  -0.418108736],\n [0.420101954,\n  0.242143762,\n  -0.168429857,\n  0.093313589,\n  -0.336887155,\n  0.137396713,\n  0.098143246,\n  -0.436163178],\n [0.414671678,\n  0.226166366,\n  -0.160725914,\n  0.073459815,\n  -0.321460919,\n  0.128043384,\n  0.100991786,\n  -0.415904179],\n [0.475135206,\n  0.263576428,\n  -0.169199667,\n  0.098119867,\n  -0.351346647,\n  0.155596141,\n  0.106824152,\n  -0.483407688],\n [0.409778128,\n  0.229804815,\n  -0.166519287,\n  0.086053054,\n  -0.335256989,\n  0.136482724,\n  0.103569901,\n  -0.434166293],\n [0.540199599,\n  0.241475206,\n  -0.178039039,\n  0.133671193,\n  -0.373947694,\n  0.137131103,\n  0.102263674,\n  -0.49228651],\n [0.421275924,\n  0.190661034,\n  -0.139021596,\n  0.12017751,\n  -0.318077244,\n  0.116492947,\n  0.064503521,\n  -0.378765543],\n [0.42105363,\n  0.222894428,\n  -0.147788189,\n  0.113619243,\n  -0.325042534,\n  0.141631596,\n  0.104345569,\n  -0.435398621],\n [0.406034692,\n  0.229006599,\n  -0.181660888,\n  0.08462772,\n  -0.331152163,\n  0.140338176,\n  0.113769385,\n  -0.432692816],\n [0.383604774,\n  0.203078527,\n  -0.12905855,\n  0.067008237,\n  -0.285163857,\n  0.119361519,\n  0.075346816,\n  -0.381876785],\n [0.449313265,\n  0.234452408,\n  -0.171941431,\n  0.103390883,\n  -0.36285371,\n  0.137711855,\n  0.112047951,\n  -0.465543478],\n [0.452086636,\n  0.22470758,\n  -0.119694451,\n  0.057357123,\n  -0.358432267,\n  0.133421913,\n  0.161039016,\n  -0.513673795],\n [0.364711136,\n  0.195092978,\n  -0.141269429,\n  0.060274506,\n  -0.287655302,\n  0.114189444,\n  0.093757124,\n  -0.376833702],\n [0.410682137,\n  0.204118476,\n  -0.176582296,\n  0.074175357,\n  -0.326093662,\n  0.130012692,\n  0.117154481,\n  -0.450058778],\n [0.478241193,\n  0.262968312,\n  -0.177215093,\n  0.099215465,\n  -0.357522969,\n  0.136041712,\n  0.096913571,\n  -0.47737872],\n [0.35431232,\n  0.185158944,\n  -0.144353233,\n  0.069359055,\n  -0.283269376,\n  0.114169243,\n  0.090308267,\n  -0.373035993],\n [0.392144405,\n  0.216360528,\n  -0.170986437,\n  0.082721659,\n  -0.30534633,\n  0.126756491,\n  0.108193771,\n  -0.416123725],\n [0.40775516,\n  0.220585544,\n  -0.169378335,\n  0.088207208,\n  -0.325924631,\n  0.135432741,\n  0.116007517,\n  -0.423467973],\n [0.630891457,\n  0.270696804,\n  -0.289439179,\n  0.086955898,\n  -0.487887055,\n  0.216843675,\n  0.199731586,\n  -0.702533598],\n [0.447837814,\n  0.23684076,\n  -0.17598698,\n  0.076585683,\n  -0.347028993,\n  0.149908453,\n  0.116929447,\n  -0.446183089],\n [0.37046814,\n  0.206386889,\n  -0.154466571,\n  0.07982235,\n  -0.287936433,\n  0.112924193,\n  0.095390869,\n  -0.390312197],\n [0.423693833,\n  0.229558989,\n  -0.163075402,\n  0.075433534,\n  -0.334893364,\n  0.134737764,\n  0.11766823,\n  -0.428625009],\n [0.420025973,\n  0.223956658,\n  -0.157765744,\n  0.079251761,\n  -0.332066843,\n  0.138248484,\n  0.108508882,\n  -0.437470946],\n [0.447526439,\n  0.237338208,\n  -0.182421354,\n  0.090307063,\n  -0.358890701,\n  0.149711007,\n  0.101588909,\n  -0.457187753],\n [0.379017528,\n  0.210190339,\n  -0.151549066,\n  0.073502267,\n  -0.297944203,\n  0.114065913,\n  0.097568371,\n  -0.399972086],\n [0.402904803,\n  0.222211492,\n  -0.160949369,\n  0.084216157,\n  -0.330161353,\n  0.142126476,\n  0.106092423,\n  -0.434060617],\n [0.456227249,\n  0.25598396,\n  -0.179555764,\n  0.08933059,\n  -0.364234546,\n  0.142033641,\n  0.119617689,\n  -0.444781025],\n [0.44751491,\n  0.254169954,\n  -0.196639988,\n  0.198683554,\n  -0.193209957,\n  0.109007657,\n  0.139417554,\n  -0.370237422],\n [0.380771123,\n  0.232731247,\n  -0.171300603,\n  0.083563105,\n  -0.309591447,\n  0.106218013,\n  0.119096891,\n  -0.429117284],\n [0.562037865,\n  0.293531267,\n  -0.20704276,\n  0.098801696,\n  -0.428010127,\n  0.15621256,\n  0.119539816,\n  -0.560262875],\n [0.356362307,\n  0.173633005,\n  -0.159354428,\n  0.062791134,\n  -0.279993937,\n  0.112471311,\n  0.104713575,\n  -0.389971772],\n [0.446951462,\n  0.245832401,\n  -0.17263386,\n  0.086807331,\n  -0.35795238,\n  0.143998801,\n  0.106476801,\n  -0.460245759],\n [0.421180101,\n  0.210046114,\n  -0.160329822,\n  0.078334,\n  -0.320568411,\n  0.134969276,\n  0.103879818,\n  -0.42769862],\n [0.368472703,\n  0.208556294,\n  -0.144777914,\n  0.068679734,\n  -0.287706397,\n  0.112614821,\n  0.096376595,\n  -0.390453561],\n [0.431228526,\n  0.240545255,\n  -0.170742402,\n  0.08945851,\n  -0.345327133,\n  0.143264483,\n  0.112539073,\n  -0.461435404],\n [0.472990332,\n  0.2587726,\n  -0.18203745,\n  0.089071984,\n  -0.344701551,\n  0.124115409,\n  0.110338156,\n  -0.476572328],\n [0.429423792,\n  0.229258229,\n  -0.165249321,\n  0.086353346,\n  -0.348108306,\n  0.133471919,\n  0.11044037,\n  -0.4610103],\n [0.376966597,\n  0.20903801,\n  -0.157352819,\n  0.081108913,\n  -0.295070366,\n  0.120271726,\n  0.099011706,\n  -0.395274183],\n [0.457815786,\n  0.249283262,\n  -0.183917951,\n  0.119144472,\n  -0.326742971,\n  0.139835592,\n  0.133643864,\n  -0.461037542],\n [0.388236964,\n  0.210455539,\n  -0.15510687,\n  0.06992319,\n  -0.317892111,\n  0.121782276,\n  0.110624599,\n  -0.410244879],\n [0.460732576,\n  0.24996161,\n  -0.174232161,\n  0.103727784,\n  -0.365795466,\n  0.137149349,\n  0.122731238,\n  -0.479861241],\n [0.422213059,\n  0.229021565,\n  -0.161372071,\n  0.089667934,\n  -0.330444144,\n  0.138854518,\n  0.111112703,\n  -0.449381303],\n [0.562393415,\n  0.320523018,\n  -0.203728378,\n  0.108926088,\n  -0.461229685,\n  0.172805698,\n  0.148719891,\n  -0.580331389],\n [0.446627488,\n  0.241174479,\n  -0.179276218,\n  0.09274744,\n  -0.355247066,\n  0.140657027,\n  0.110482032,\n  -0.472831558],\n [0.411206667,\n  0.244925381,\n  -0.156990472,\n  0.084651102,\n  -0.319749609,\n  0.147411749,\n  0.104276503,\n  -0.440762135],\n [0.495822038,\n  0.270632593,\n  -0.181879158,\n  0.100016147,\n  -0.38735973,\n  0.150676511,\n  0.108677765,\n  -0.507950731],\n [0.406016101,\n  0.214885724,\n  -0.155250382,\n  0.082475181,\n  -0.315015303,\n  0.126134811,\n  0.087693127,\n  -0.414518777],\n [0.177364379,\n  0.075347841,\n  -0.091034323,\n  0.006256871,\n  -0.083623119,\n  0.051863533,\n  0.039215613,\n  -0.090295866]]"
     },
     "execution_count": 75,
     "metadata": {},
     "output_type": "execute_result"
    }
   ],
   "source": [
    "array = meta_datasets.values.tolist()\n",
    "array"
   ],
   "metadata": {
    "collapsed": false,
    "pycharm": {
     "name": "#%%\n"
    }
   }
  },
  {
   "cell_type": "code",
   "execution_count": 76,
   "outputs": [
    {
     "data": {
      "text/plain": "array([[1.        , 0.81649658],\n       [0.81649658, 1.        ]])"
     },
     "execution_count": 76,
     "metadata": {},
     "output_type": "execute_result"
    }
   ],
   "source": [
    "cosine_sim_1 = cosine_similarity([[0,1,-1,0],[1,1,-1,0]])\n",
    "cosine_sim_2 = cosine_similarity([[0,1,-1,0],[1,-1,0,-1]])\n",
    "cosine_sim_1"
   ],
   "metadata": {
    "collapsed": false,
    "pycharm": {
     "name": "#%%\n"
    }
   }
  },
  {
   "cell_type": "code",
   "execution_count": 77,
   "outputs": [
    {
     "data": {
      "text/plain": "          0         1         2         3         4         5         6   \\\n0   1.000000  0.999340  0.999456  0.999575  0.999625  0.999396  0.999243   \n1   0.999340  1.000000  0.999077  0.999566  0.998910  0.999598  0.999372   \n2   0.999456  0.999077  1.000000  0.999289  0.999741  0.999340  0.999700   \n3   0.999575  0.999566  0.999289  1.000000  0.999517  0.999611  0.999329   \n4   0.999625  0.998910  0.999741  0.999517  1.000000  0.999077  0.999478   \n..       ...       ...       ...       ...       ...       ...       ...   \n67  0.999608  0.999579  0.999807  0.999538  0.999532  0.999761  0.999806   \n68  0.999271  0.999309  0.999147  0.999702  0.999482  0.999029  0.999009   \n69  0.999481  0.999431  0.999569  0.999474  0.999214  0.999483  0.999351   \n70  0.999642  0.999504  0.999624  0.999356  0.999278  0.999441  0.999515   \n71  0.948047  0.948487  0.944207  0.943553  0.943514  0.944974  0.942782   \n\n          7         8         9   ...        62        63        64        65  \\\n0   0.997841  0.999250  0.999323  ...  0.997632  0.999130  0.999007  0.999539   \n1   0.999247  0.999423  0.999505  ...  0.999322  0.999076  0.999649  0.999737   \n2   0.998044  0.999652  0.999843  ...  0.997227  0.999587  0.999390  0.999515   \n3   0.998057  0.999114  0.999539  ...  0.998123  0.999335  0.999438  0.999833   \n4   0.997369  0.999099  0.999491  ...  0.996876  0.999359  0.998899  0.999494   \n..       ...       ...       ...  ...       ...       ...       ...       ...   \n67  0.998538  0.999865  0.999877  ...  0.998236  0.999621  0.999757  0.999848   \n68  0.998374  0.998567  0.999303  ...  0.997998  0.998751  0.998966  0.999500   \n69  0.998503  0.999489  0.999736  ...  0.997748  0.999103  0.999577  0.999528   \n70  0.998538  0.999645  0.999690  ...  0.997892  0.999110  0.999507  0.999552   \n71  0.950478  0.946296  0.943668  ...  0.949808  0.944855  0.943180  0.943011   \n\n          66        67        68        69        70        71  \n0   0.998801  0.999608  0.999271  0.999481  0.999642  0.948047  \n1   0.999076  0.999579  0.999309  0.999431  0.999504  0.948487  \n2   0.999457  0.999807  0.999147  0.999569  0.999624  0.944207  \n3   0.999392  0.999538  0.999702  0.999474  0.999356  0.943553  \n4   0.999082  0.999532  0.999482  0.999214  0.999278  0.943514  \n..       ...       ...       ...       ...       ...       ...  \n67  0.999370  1.000000  0.999210  0.999676  0.999773  0.944395  \n68  0.999027  0.999210  1.000000  0.999157  0.999015  0.943228  \n69  0.999523  0.999676  0.999157  1.000000  0.999910  0.944969  \n70  0.999232  0.999773  0.999015  0.999910  1.000000  0.946840  \n71  0.943247  0.944395  0.943228  0.944969  0.946840  1.000000  \n\n[72 rows x 72 columns]",
      "text/html": "<div>\n<style scoped>\n    .dataframe tbody tr th:only-of-type {\n        vertical-align: middle;\n    }\n\n    .dataframe tbody tr th {\n        vertical-align: top;\n    }\n\n    .dataframe thead th {\n        text-align: right;\n    }\n</style>\n<table border=\"1\" class=\"dataframe\">\n  <thead>\n    <tr style=\"text-align: right;\">\n      <th></th>\n      <th>0</th>\n      <th>1</th>\n      <th>2</th>\n      <th>3</th>\n      <th>4</th>\n      <th>5</th>\n      <th>6</th>\n      <th>7</th>\n      <th>8</th>\n      <th>9</th>\n      <th>...</th>\n      <th>62</th>\n      <th>63</th>\n      <th>64</th>\n      <th>65</th>\n      <th>66</th>\n      <th>67</th>\n      <th>68</th>\n      <th>69</th>\n      <th>70</th>\n      <th>71</th>\n    </tr>\n  </thead>\n  <tbody>\n    <tr>\n      <th>0</th>\n      <td>1.000000</td>\n      <td>0.999340</td>\n      <td>0.999456</td>\n      <td>0.999575</td>\n      <td>0.999625</td>\n      <td>0.999396</td>\n      <td>0.999243</td>\n      <td>0.997841</td>\n      <td>0.999250</td>\n      <td>0.999323</td>\n      <td>...</td>\n      <td>0.997632</td>\n      <td>0.999130</td>\n      <td>0.999007</td>\n      <td>0.999539</td>\n      <td>0.998801</td>\n      <td>0.999608</td>\n      <td>0.999271</td>\n      <td>0.999481</td>\n      <td>0.999642</td>\n      <td>0.948047</td>\n    </tr>\n    <tr>\n      <th>1</th>\n      <td>0.999340</td>\n      <td>1.000000</td>\n      <td>0.999077</td>\n      <td>0.999566</td>\n      <td>0.998910</td>\n      <td>0.999598</td>\n      <td>0.999372</td>\n      <td>0.999247</td>\n      <td>0.999423</td>\n      <td>0.999505</td>\n      <td>...</td>\n      <td>0.999322</td>\n      <td>0.999076</td>\n      <td>0.999649</td>\n      <td>0.999737</td>\n      <td>0.999076</td>\n      <td>0.999579</td>\n      <td>0.999309</td>\n      <td>0.999431</td>\n      <td>0.999504</td>\n      <td>0.948487</td>\n    </tr>\n    <tr>\n      <th>2</th>\n      <td>0.999456</td>\n      <td>0.999077</td>\n      <td>1.000000</td>\n      <td>0.999289</td>\n      <td>0.999741</td>\n      <td>0.999340</td>\n      <td>0.999700</td>\n      <td>0.998044</td>\n      <td>0.999652</td>\n      <td>0.999843</td>\n      <td>...</td>\n      <td>0.997227</td>\n      <td>0.999587</td>\n      <td>0.999390</td>\n      <td>0.999515</td>\n      <td>0.999457</td>\n      <td>0.999807</td>\n      <td>0.999147</td>\n      <td>0.999569</td>\n      <td>0.999624</td>\n      <td>0.944207</td>\n    </tr>\n    <tr>\n      <th>3</th>\n      <td>0.999575</td>\n      <td>0.999566</td>\n      <td>0.999289</td>\n      <td>1.000000</td>\n      <td>0.999517</td>\n      <td>0.999611</td>\n      <td>0.999329</td>\n      <td>0.998057</td>\n      <td>0.999114</td>\n      <td>0.999539</td>\n      <td>...</td>\n      <td>0.998123</td>\n      <td>0.999335</td>\n      <td>0.999438</td>\n      <td>0.999833</td>\n      <td>0.999392</td>\n      <td>0.999538</td>\n      <td>0.999702</td>\n      <td>0.999474</td>\n      <td>0.999356</td>\n      <td>0.943553</td>\n    </tr>\n    <tr>\n      <th>4</th>\n      <td>0.999625</td>\n      <td>0.998910</td>\n      <td>0.999741</td>\n      <td>0.999517</td>\n      <td>1.000000</td>\n      <td>0.999077</td>\n      <td>0.999478</td>\n      <td>0.997369</td>\n      <td>0.999099</td>\n      <td>0.999491</td>\n      <td>...</td>\n      <td>0.996876</td>\n      <td>0.999359</td>\n      <td>0.998899</td>\n      <td>0.999494</td>\n      <td>0.999082</td>\n      <td>0.999532</td>\n      <td>0.999482</td>\n      <td>0.999214</td>\n      <td>0.999278</td>\n      <td>0.943514</td>\n    </tr>\n    <tr>\n      <th>...</th>\n      <td>...</td>\n      <td>...</td>\n      <td>...</td>\n      <td>...</td>\n      <td>...</td>\n      <td>...</td>\n      <td>...</td>\n      <td>...</td>\n      <td>...</td>\n      <td>...</td>\n      <td>...</td>\n      <td>...</td>\n      <td>...</td>\n      <td>...</td>\n      <td>...</td>\n      <td>...</td>\n      <td>...</td>\n      <td>...</td>\n      <td>...</td>\n      <td>...</td>\n      <td>...</td>\n    </tr>\n    <tr>\n      <th>67</th>\n      <td>0.999608</td>\n      <td>0.999579</td>\n      <td>0.999807</td>\n      <td>0.999538</td>\n      <td>0.999532</td>\n      <td>0.999761</td>\n      <td>0.999806</td>\n      <td>0.998538</td>\n      <td>0.999865</td>\n      <td>0.999877</td>\n      <td>...</td>\n      <td>0.998236</td>\n      <td>0.999621</td>\n      <td>0.999757</td>\n      <td>0.999848</td>\n      <td>0.999370</td>\n      <td>1.000000</td>\n      <td>0.999210</td>\n      <td>0.999676</td>\n      <td>0.999773</td>\n      <td>0.944395</td>\n    </tr>\n    <tr>\n      <th>68</th>\n      <td>0.999271</td>\n      <td>0.999309</td>\n      <td>0.999147</td>\n      <td>0.999702</td>\n      <td>0.999482</td>\n      <td>0.999029</td>\n      <td>0.999009</td>\n      <td>0.998374</td>\n      <td>0.998567</td>\n      <td>0.999303</td>\n      <td>...</td>\n      <td>0.997998</td>\n      <td>0.998751</td>\n      <td>0.998966</td>\n      <td>0.999500</td>\n      <td>0.999027</td>\n      <td>0.999210</td>\n      <td>1.000000</td>\n      <td>0.999157</td>\n      <td>0.999015</td>\n      <td>0.943228</td>\n    </tr>\n    <tr>\n      <th>69</th>\n      <td>0.999481</td>\n      <td>0.999431</td>\n      <td>0.999569</td>\n      <td>0.999474</td>\n      <td>0.999214</td>\n      <td>0.999483</td>\n      <td>0.999351</td>\n      <td>0.998503</td>\n      <td>0.999489</td>\n      <td>0.999736</td>\n      <td>...</td>\n      <td>0.997748</td>\n      <td>0.999103</td>\n      <td>0.999577</td>\n      <td>0.999528</td>\n      <td>0.999523</td>\n      <td>0.999676</td>\n      <td>0.999157</td>\n      <td>1.000000</td>\n      <td>0.999910</td>\n      <td>0.944969</td>\n    </tr>\n    <tr>\n      <th>70</th>\n      <td>0.999642</td>\n      <td>0.999504</td>\n      <td>0.999624</td>\n      <td>0.999356</td>\n      <td>0.999278</td>\n      <td>0.999441</td>\n      <td>0.999515</td>\n      <td>0.998538</td>\n      <td>0.999645</td>\n      <td>0.999690</td>\n      <td>...</td>\n      <td>0.997892</td>\n      <td>0.999110</td>\n      <td>0.999507</td>\n      <td>0.999552</td>\n      <td>0.999232</td>\n      <td>0.999773</td>\n      <td>0.999015</td>\n      <td>0.999910</td>\n      <td>1.000000</td>\n      <td>0.946840</td>\n    </tr>\n    <tr>\n      <th>71</th>\n      <td>0.948047</td>\n      <td>0.948487</td>\n      <td>0.944207</td>\n      <td>0.943553</td>\n      <td>0.943514</td>\n      <td>0.944974</td>\n      <td>0.942782</td>\n      <td>0.950478</td>\n      <td>0.946296</td>\n      <td>0.943668</td>\n      <td>...</td>\n      <td>0.949808</td>\n      <td>0.944855</td>\n      <td>0.943180</td>\n      <td>0.943011</td>\n      <td>0.943247</td>\n      <td>0.944395</td>\n      <td>0.943228</td>\n      <td>0.944969</td>\n      <td>0.946840</td>\n      <td>1.000000</td>\n    </tr>\n  </tbody>\n</table>\n<p>72 rows × 72 columns</p>\n</div>"
     },
     "execution_count": 77,
     "metadata": {},
     "output_type": "execute_result"
    }
   ],
   "source": [
    "meta_dataset_similarity = cosine_similarity(array)\n",
    "\n",
    "meta_dataset_similarity = pd.DataFrame(meta_dataset_similarity)\n",
    "meta_dataset_similarity"
   ],
   "metadata": {
    "collapsed": false,
    "pycharm": {
     "name": "#%%\n"
    }
   }
  },
  {
   "cell_type": "code",
   "execution_count": 78,
   "outputs": [],
   "source": [
    "i, j = 0, 0\n",
    "while i < len(datasets):\n",
    "    while j < len(datasets):\n",
    "        meta_dataset_similarity[i][j] = None\n",
    "        i += 1\n",
    "        j += 1\n"
   ],
   "metadata": {
    "collapsed": false,
    "pycharm": {
     "name": "#%%\n"
    }
   }
  },
  {
   "cell_type": "code",
   "execution_count": 79,
   "outputs": [
    {
     "data": {
      "text/plain": "          0         1         2         3         4         5         6   \\\n0        NaN  0.999340  0.999456  0.999575  0.999625  0.999396  0.999243   \n1   0.999340       NaN  0.999077  0.999566  0.998910  0.999598  0.999372   \n2   0.999456  0.999077       NaN  0.999289  0.999741  0.999340  0.999700   \n3   0.999575  0.999566  0.999289       NaN  0.999517  0.999611  0.999329   \n4   0.999625  0.998910  0.999741  0.999517       NaN  0.999077  0.999478   \n..       ...       ...       ...       ...       ...       ...       ...   \n67  0.999608  0.999579  0.999807  0.999538  0.999532  0.999761  0.999806   \n68  0.999271  0.999309  0.999147  0.999702  0.999482  0.999029  0.999009   \n69  0.999481  0.999431  0.999569  0.999474  0.999214  0.999483  0.999351   \n70  0.999642  0.999504  0.999624  0.999356  0.999278  0.999441  0.999515   \n71  0.948047  0.948487  0.944207  0.943553  0.943514  0.944974  0.942782   \n\n          7         8         9   ...        62        63        64        65  \\\n0   0.997841  0.999250  0.999323  ...  0.997632  0.999130  0.999007  0.999539   \n1   0.999247  0.999423  0.999505  ...  0.999322  0.999076  0.999649  0.999737   \n2   0.998044  0.999652  0.999843  ...  0.997227  0.999587  0.999390  0.999515   \n3   0.998057  0.999114  0.999539  ...  0.998123  0.999335  0.999438  0.999833   \n4   0.997369  0.999099  0.999491  ...  0.996876  0.999359  0.998899  0.999494   \n..       ...       ...       ...  ...       ...       ...       ...       ...   \n67  0.998538  0.999865  0.999877  ...  0.998236  0.999621  0.999757  0.999848   \n68  0.998374  0.998567  0.999303  ...  0.997998  0.998751  0.998966  0.999500   \n69  0.998503  0.999489  0.999736  ...  0.997748  0.999103  0.999577  0.999528   \n70  0.998538  0.999645  0.999690  ...  0.997892  0.999110  0.999507  0.999552   \n71  0.950478  0.946296  0.943668  ...  0.949808  0.944855  0.943180  0.943011   \n\n          66        67        68        69        70        71  \n0   0.998801  0.999608  0.999271  0.999481  0.999642  0.948047  \n1   0.999076  0.999579  0.999309  0.999431  0.999504  0.948487  \n2   0.999457  0.999807  0.999147  0.999569  0.999624  0.944207  \n3   0.999392  0.999538  0.999702  0.999474  0.999356  0.943553  \n4   0.999082  0.999532  0.999482  0.999214  0.999278  0.943514  \n..       ...       ...       ...       ...       ...       ...  \n67  0.999370       NaN  0.999210  0.999676  0.999773  0.944395  \n68  0.999027  0.999210       NaN  0.999157  0.999015  0.943228  \n69  0.999523  0.999676  0.999157       NaN  0.999910  0.944969  \n70  0.999232  0.999773  0.999015  0.999910       NaN  0.946840  \n71  0.943247  0.944395  0.943228  0.944969  0.946840       NaN  \n\n[72 rows x 72 columns]",
      "text/html": "<div>\n<style scoped>\n    .dataframe tbody tr th:only-of-type {\n        vertical-align: middle;\n    }\n\n    .dataframe tbody tr th {\n        vertical-align: top;\n    }\n\n    .dataframe thead th {\n        text-align: right;\n    }\n</style>\n<table border=\"1\" class=\"dataframe\">\n  <thead>\n    <tr style=\"text-align: right;\">\n      <th></th>\n      <th>0</th>\n      <th>1</th>\n      <th>2</th>\n      <th>3</th>\n      <th>4</th>\n      <th>5</th>\n      <th>6</th>\n      <th>7</th>\n      <th>8</th>\n      <th>9</th>\n      <th>...</th>\n      <th>62</th>\n      <th>63</th>\n      <th>64</th>\n      <th>65</th>\n      <th>66</th>\n      <th>67</th>\n      <th>68</th>\n      <th>69</th>\n      <th>70</th>\n      <th>71</th>\n    </tr>\n  </thead>\n  <tbody>\n    <tr>\n      <th>0</th>\n      <td>NaN</td>\n      <td>0.999340</td>\n      <td>0.999456</td>\n      <td>0.999575</td>\n      <td>0.999625</td>\n      <td>0.999396</td>\n      <td>0.999243</td>\n      <td>0.997841</td>\n      <td>0.999250</td>\n      <td>0.999323</td>\n      <td>...</td>\n      <td>0.997632</td>\n      <td>0.999130</td>\n      <td>0.999007</td>\n      <td>0.999539</td>\n      <td>0.998801</td>\n      <td>0.999608</td>\n      <td>0.999271</td>\n      <td>0.999481</td>\n      <td>0.999642</td>\n      <td>0.948047</td>\n    </tr>\n    <tr>\n      <th>1</th>\n      <td>0.999340</td>\n      <td>NaN</td>\n      <td>0.999077</td>\n      <td>0.999566</td>\n      <td>0.998910</td>\n      <td>0.999598</td>\n      <td>0.999372</td>\n      <td>0.999247</td>\n      <td>0.999423</td>\n      <td>0.999505</td>\n      <td>...</td>\n      <td>0.999322</td>\n      <td>0.999076</td>\n      <td>0.999649</td>\n      <td>0.999737</td>\n      <td>0.999076</td>\n      <td>0.999579</td>\n      <td>0.999309</td>\n      <td>0.999431</td>\n      <td>0.999504</td>\n      <td>0.948487</td>\n    </tr>\n    <tr>\n      <th>2</th>\n      <td>0.999456</td>\n      <td>0.999077</td>\n      <td>NaN</td>\n      <td>0.999289</td>\n      <td>0.999741</td>\n      <td>0.999340</td>\n      <td>0.999700</td>\n      <td>0.998044</td>\n      <td>0.999652</td>\n      <td>0.999843</td>\n      <td>...</td>\n      <td>0.997227</td>\n      <td>0.999587</td>\n      <td>0.999390</td>\n      <td>0.999515</td>\n      <td>0.999457</td>\n      <td>0.999807</td>\n      <td>0.999147</td>\n      <td>0.999569</td>\n      <td>0.999624</td>\n      <td>0.944207</td>\n    </tr>\n    <tr>\n      <th>3</th>\n      <td>0.999575</td>\n      <td>0.999566</td>\n      <td>0.999289</td>\n      <td>NaN</td>\n      <td>0.999517</td>\n      <td>0.999611</td>\n      <td>0.999329</td>\n      <td>0.998057</td>\n      <td>0.999114</td>\n      <td>0.999539</td>\n      <td>...</td>\n      <td>0.998123</td>\n      <td>0.999335</td>\n      <td>0.999438</td>\n      <td>0.999833</td>\n      <td>0.999392</td>\n      <td>0.999538</td>\n      <td>0.999702</td>\n      <td>0.999474</td>\n      <td>0.999356</td>\n      <td>0.943553</td>\n    </tr>\n    <tr>\n      <th>4</th>\n      <td>0.999625</td>\n      <td>0.998910</td>\n      <td>0.999741</td>\n      <td>0.999517</td>\n      <td>NaN</td>\n      <td>0.999077</td>\n      <td>0.999478</td>\n      <td>0.997369</td>\n      <td>0.999099</td>\n      <td>0.999491</td>\n      <td>...</td>\n      <td>0.996876</td>\n      <td>0.999359</td>\n      <td>0.998899</td>\n      <td>0.999494</td>\n      <td>0.999082</td>\n      <td>0.999532</td>\n      <td>0.999482</td>\n      <td>0.999214</td>\n      <td>0.999278</td>\n      <td>0.943514</td>\n    </tr>\n    <tr>\n      <th>...</th>\n      <td>...</td>\n      <td>...</td>\n      <td>...</td>\n      <td>...</td>\n      <td>...</td>\n      <td>...</td>\n      <td>...</td>\n      <td>...</td>\n      <td>...</td>\n      <td>...</td>\n      <td>...</td>\n      <td>...</td>\n      <td>...</td>\n      <td>...</td>\n      <td>...</td>\n      <td>...</td>\n      <td>...</td>\n      <td>...</td>\n      <td>...</td>\n      <td>...</td>\n      <td>...</td>\n    </tr>\n    <tr>\n      <th>67</th>\n      <td>0.999608</td>\n      <td>0.999579</td>\n      <td>0.999807</td>\n      <td>0.999538</td>\n      <td>0.999532</td>\n      <td>0.999761</td>\n      <td>0.999806</td>\n      <td>0.998538</td>\n      <td>0.999865</td>\n      <td>0.999877</td>\n      <td>...</td>\n      <td>0.998236</td>\n      <td>0.999621</td>\n      <td>0.999757</td>\n      <td>0.999848</td>\n      <td>0.999370</td>\n      <td>NaN</td>\n      <td>0.999210</td>\n      <td>0.999676</td>\n      <td>0.999773</td>\n      <td>0.944395</td>\n    </tr>\n    <tr>\n      <th>68</th>\n      <td>0.999271</td>\n      <td>0.999309</td>\n      <td>0.999147</td>\n      <td>0.999702</td>\n      <td>0.999482</td>\n      <td>0.999029</td>\n      <td>0.999009</td>\n      <td>0.998374</td>\n      <td>0.998567</td>\n      <td>0.999303</td>\n      <td>...</td>\n      <td>0.997998</td>\n      <td>0.998751</td>\n      <td>0.998966</td>\n      <td>0.999500</td>\n      <td>0.999027</td>\n      <td>0.999210</td>\n      <td>NaN</td>\n      <td>0.999157</td>\n      <td>0.999015</td>\n      <td>0.943228</td>\n    </tr>\n    <tr>\n      <th>69</th>\n      <td>0.999481</td>\n      <td>0.999431</td>\n      <td>0.999569</td>\n      <td>0.999474</td>\n      <td>0.999214</td>\n      <td>0.999483</td>\n      <td>0.999351</td>\n      <td>0.998503</td>\n      <td>0.999489</td>\n      <td>0.999736</td>\n      <td>...</td>\n      <td>0.997748</td>\n      <td>0.999103</td>\n      <td>0.999577</td>\n      <td>0.999528</td>\n      <td>0.999523</td>\n      <td>0.999676</td>\n      <td>0.999157</td>\n      <td>NaN</td>\n      <td>0.999910</td>\n      <td>0.944969</td>\n    </tr>\n    <tr>\n      <th>70</th>\n      <td>0.999642</td>\n      <td>0.999504</td>\n      <td>0.999624</td>\n      <td>0.999356</td>\n      <td>0.999278</td>\n      <td>0.999441</td>\n      <td>0.999515</td>\n      <td>0.998538</td>\n      <td>0.999645</td>\n      <td>0.999690</td>\n      <td>...</td>\n      <td>0.997892</td>\n      <td>0.999110</td>\n      <td>0.999507</td>\n      <td>0.999552</td>\n      <td>0.999232</td>\n      <td>0.999773</td>\n      <td>0.999015</td>\n      <td>0.999910</td>\n      <td>NaN</td>\n      <td>0.946840</td>\n    </tr>\n    <tr>\n      <th>71</th>\n      <td>0.948047</td>\n      <td>0.948487</td>\n      <td>0.944207</td>\n      <td>0.943553</td>\n      <td>0.943514</td>\n      <td>0.944974</td>\n      <td>0.942782</td>\n      <td>0.950478</td>\n      <td>0.946296</td>\n      <td>0.943668</td>\n      <td>...</td>\n      <td>0.949808</td>\n      <td>0.944855</td>\n      <td>0.943180</td>\n      <td>0.943011</td>\n      <td>0.943247</td>\n      <td>0.944395</td>\n      <td>0.943228</td>\n      <td>0.944969</td>\n      <td>0.946840</td>\n      <td>NaN</td>\n    </tr>\n  </tbody>\n</table>\n<p>72 rows × 72 columns</p>\n</div>"
     },
     "execution_count": 79,
     "metadata": {},
     "output_type": "execute_result"
    }
   ],
   "source": [
    "meta_dataset_similarity"
   ],
   "metadata": {
    "collapsed": false,
    "pycharm": {
     "name": "#%%\n"
    }
   }
  },
  {
   "cell_type": "code",
   "execution_count": 80,
   "outputs": [
    {
     "data": {
      "text/plain": "0     0.999670\n1     0.999773\n2     0.999916\n3     0.999833\n4     0.999770\n        ...   \n67    0.999920\n68    0.999702\n69    0.999910\n70    0.999910\n71    0.955370\nLength: 72, dtype: float64"
     },
     "execution_count": 80,
     "metadata": {},
     "output_type": "execute_result"
    }
   ],
   "source": [
    "maxs = meta_dataset_similarity.max(axis=0)\n",
    "maxs"
   ],
   "metadata": {
    "collapsed": false,
    "pycharm": {
     "name": "#%%\n"
    }
   }
  },
  {
   "cell_type": "code",
   "execution_count": 81,
   "outputs": [],
   "source": [
    "def find_sim_index(index):\n",
    "    row1 = meta_dataset_similarity.loc[index]\n",
    "    row1_max_index = row1[row1 == row1.max()].index[0]\n",
    "    return row1_max_index"
   ],
   "metadata": {
    "collapsed": false,
    "pycharm": {
     "name": "#%%\n"
    }
   }
  },
  {
   "cell_type": "code",
   "execution_count": null,
   "outputs": [],
   "source": [
    "model_prediction_csv"
   ],
   "metadata": {
    "collapsed": false,
    "pycharm": {
     "name": "#%%\n"
    }
   }
  },
  {
   "cell_type": "code",
   "execution_count": 84,
   "outputs": [
    {
     "name": "stdout",
     "output_type": "stream",
     "text": [
      "pass\n"
     ]
    },
    {
     "ename": "KeyError",
     "evalue": "1",
     "output_type": "error",
     "traceback": [
      "\u001B[1;31m---------------------------------------------------------------------------\u001B[0m",
      "\u001B[1;31mKeyError\u001B[0m                                  Traceback (most recent call last)",
      "\u001B[1;32m~\\Model_Recommendation\\venv\\lib\\site-packages\\pandas\\core\\indexes\\base.py\u001B[0m in \u001B[0;36mget_loc\u001B[1;34m(self, key, method, tolerance)\u001B[0m\n\u001B[0;32m   3360\u001B[0m             \u001B[1;32mtry\u001B[0m\u001B[1;33m:\u001B[0m\u001B[1;33m\u001B[0m\u001B[1;33m\u001B[0m\u001B[0m\n\u001B[1;32m-> 3361\u001B[1;33m                 \u001B[1;32mreturn\u001B[0m \u001B[0mself\u001B[0m\u001B[1;33m.\u001B[0m\u001B[0m_engine\u001B[0m\u001B[1;33m.\u001B[0m\u001B[0mget_loc\u001B[0m\u001B[1;33m(\u001B[0m\u001B[0mcasted_key\u001B[0m\u001B[1;33m)\u001B[0m\u001B[1;33m\u001B[0m\u001B[1;33m\u001B[0m\u001B[0m\n\u001B[0m\u001B[0;32m   3362\u001B[0m             \u001B[1;32mexcept\u001B[0m \u001B[0mKeyError\u001B[0m \u001B[1;32mas\u001B[0m \u001B[0merr\u001B[0m\u001B[1;33m:\u001B[0m\u001B[1;33m\u001B[0m\u001B[1;33m\u001B[0m\u001B[0m\n",
      "\u001B[1;32m~\\Model_Recommendation\\venv\\lib\\site-packages\\pandas\\_libs\\index.pyx\u001B[0m in \u001B[0;36mpandas._libs.index.IndexEngine.get_loc\u001B[1;34m()\u001B[0m\n",
      "\u001B[1;32m~\\Model_Recommendation\\venv\\lib\\site-packages\\pandas\\_libs\\index.pyx\u001B[0m in \u001B[0;36mpandas._libs.index.IndexEngine.get_loc\u001B[1;34m()\u001B[0m\n",
      "\u001B[1;32mpandas\\_libs\\hashtable_class_helper.pxi\u001B[0m in \u001B[0;36mpandas._libs.hashtable.Int64HashTable.get_item\u001B[1;34m()\u001B[0m\n",
      "\u001B[1;32mpandas\\_libs\\hashtable_class_helper.pxi\u001B[0m in \u001B[0;36mpandas._libs.hashtable.Int64HashTable.get_item\u001B[1;34m()\u001B[0m\n",
      "\u001B[1;31mKeyError\u001B[0m: 1",
      "\nThe above exception was the direct cause of the following exception:\n",
      "\u001B[1;31mKeyError\u001B[0m                                  Traceback (most recent call last)",
      "\u001B[1;32m~\\AppData\\Local\\Temp\\ipykernel_11320\\535561902.py\u001B[0m in \u001B[0;36m<module>\u001B[1;34m\u001B[0m\n\u001B[0;32m      1\u001B[0m \u001B[1;32mfor\u001B[0m \u001B[0mi\u001B[0m \u001B[1;32min\u001B[0m \u001B[0mrange\u001B[0m\u001B[1;33m(\u001B[0m\u001B[0mlen\u001B[0m\u001B[1;33m(\u001B[0m\u001B[0mdatasets\u001B[0m\u001B[1;33m)\u001B[0m\u001B[1;33m)\u001B[0m\u001B[1;33m:\u001B[0m\u001B[1;33m\u001B[0m\u001B[1;33m\u001B[0m\u001B[0m\n\u001B[1;32m----> 2\u001B[1;33m     \u001B[1;32mif\u001B[0m \u001B[0mmodel_prediction_csv\u001B[0m\u001B[1;33m.\u001B[0m\u001B[0mloc\u001B[0m\u001B[1;33m[\u001B[0m\u001B[0mi\u001B[0m\u001B[1;33m]\u001B[0m\u001B[1;33m.\u001B[0m\u001B[0misnull\u001B[0m\u001B[1;33m(\u001B[0m\u001B[1;33m)\u001B[0m\u001B[1;33m.\u001B[0m\u001B[0many\u001B[0m\u001B[1;33m(\u001B[0m\u001B[1;33m)\u001B[0m\u001B[1;33m:\u001B[0m\u001B[1;33m\u001B[0m\u001B[1;33m\u001B[0m\u001B[0m\n\u001B[0m\u001B[0;32m      3\u001B[0m         \u001B[0mmax_index\u001B[0m \u001B[1;33m=\u001B[0m \u001B[0mfind_sim_index\u001B[0m\u001B[1;33m(\u001B[0m\u001B[0mi\u001B[0m\u001B[1;33m)\u001B[0m\u001B[1;33m\u001B[0m\u001B[1;33m\u001B[0m\u001B[0m\n\u001B[0;32m      4\u001B[0m         \u001B[0mprint\u001B[0m\u001B[1;33m(\u001B[0m\u001B[0mmodel_prediction_csv\u001B[0m\u001B[1;33m.\u001B[0m\u001B[0mloc\u001B[0m\u001B[1;33m[\u001B[0m\u001B[0mi\u001B[0m\u001B[1;33m]\u001B[0m\u001B[1;33m)\u001B[0m\u001B[1;33m\u001B[0m\u001B[1;33m\u001B[0m\u001B[0m\n\u001B[0;32m      5\u001B[0m         \u001B[0mmodel_prediction_csv\u001B[0m\u001B[1;33m.\u001B[0m\u001B[0mloc\u001B[0m\u001B[1;33m[\u001B[0m\u001B[0mi\u001B[0m\u001B[1;33m]\u001B[0m \u001B[1;33m=\u001B[0m \u001B[0mmodel_prediction_csv\u001B[0m\u001B[1;33m.\u001B[0m\u001B[0mloc\u001B[0m\u001B[1;33m[\u001B[0m\u001B[0mmax_index\u001B[0m\u001B[1;33m]\u001B[0m\u001B[1;33m\u001B[0m\u001B[1;33m\u001B[0m\u001B[0m\n",
      "\u001B[1;32m~\\Model_Recommendation\\venv\\lib\\site-packages\\pandas\\core\\indexing.py\u001B[0m in \u001B[0;36m__getitem__\u001B[1;34m(self, key)\u001B[0m\n\u001B[0;32m    929\u001B[0m \u001B[1;33m\u001B[0m\u001B[0m\n\u001B[0;32m    930\u001B[0m             \u001B[0mmaybe_callable\u001B[0m \u001B[1;33m=\u001B[0m \u001B[0mcom\u001B[0m\u001B[1;33m.\u001B[0m\u001B[0mapply_if_callable\u001B[0m\u001B[1;33m(\u001B[0m\u001B[0mkey\u001B[0m\u001B[1;33m,\u001B[0m \u001B[0mself\u001B[0m\u001B[1;33m.\u001B[0m\u001B[0mobj\u001B[0m\u001B[1;33m)\u001B[0m\u001B[1;33m\u001B[0m\u001B[1;33m\u001B[0m\u001B[0m\n\u001B[1;32m--> 931\u001B[1;33m             \u001B[1;32mreturn\u001B[0m \u001B[0mself\u001B[0m\u001B[1;33m.\u001B[0m\u001B[0m_getitem_axis\u001B[0m\u001B[1;33m(\u001B[0m\u001B[0mmaybe_callable\u001B[0m\u001B[1;33m,\u001B[0m \u001B[0maxis\u001B[0m\u001B[1;33m=\u001B[0m\u001B[0maxis\u001B[0m\u001B[1;33m)\u001B[0m\u001B[1;33m\u001B[0m\u001B[1;33m\u001B[0m\u001B[0m\n\u001B[0m\u001B[0;32m    932\u001B[0m \u001B[1;33m\u001B[0m\u001B[0m\n\u001B[0;32m    933\u001B[0m     \u001B[1;32mdef\u001B[0m \u001B[0m_is_scalar_access\u001B[0m\u001B[1;33m(\u001B[0m\u001B[0mself\u001B[0m\u001B[1;33m,\u001B[0m \u001B[0mkey\u001B[0m\u001B[1;33m:\u001B[0m \u001B[0mtuple\u001B[0m\u001B[1;33m)\u001B[0m\u001B[1;33m:\u001B[0m\u001B[1;33m\u001B[0m\u001B[1;33m\u001B[0m\u001B[0m\n",
      "\u001B[1;32m~\\Model_Recommendation\\venv\\lib\\site-packages\\pandas\\core\\indexing.py\u001B[0m in \u001B[0;36m_getitem_axis\u001B[1;34m(self, key, axis)\u001B[0m\n\u001B[0;32m   1162\u001B[0m         \u001B[1;31m# fall thru to straight lookup\u001B[0m\u001B[1;33m\u001B[0m\u001B[1;33m\u001B[0m\u001B[1;33m\u001B[0m\u001B[0m\n\u001B[0;32m   1163\u001B[0m         \u001B[0mself\u001B[0m\u001B[1;33m.\u001B[0m\u001B[0m_validate_key\u001B[0m\u001B[1;33m(\u001B[0m\u001B[0mkey\u001B[0m\u001B[1;33m,\u001B[0m \u001B[0maxis\u001B[0m\u001B[1;33m)\u001B[0m\u001B[1;33m\u001B[0m\u001B[1;33m\u001B[0m\u001B[0m\n\u001B[1;32m-> 1164\u001B[1;33m         \u001B[1;32mreturn\u001B[0m \u001B[0mself\u001B[0m\u001B[1;33m.\u001B[0m\u001B[0m_get_label\u001B[0m\u001B[1;33m(\u001B[0m\u001B[0mkey\u001B[0m\u001B[1;33m,\u001B[0m \u001B[0maxis\u001B[0m\u001B[1;33m=\u001B[0m\u001B[0maxis\u001B[0m\u001B[1;33m)\u001B[0m\u001B[1;33m\u001B[0m\u001B[1;33m\u001B[0m\u001B[0m\n\u001B[0m\u001B[0;32m   1165\u001B[0m \u001B[1;33m\u001B[0m\u001B[0m\n\u001B[0;32m   1166\u001B[0m     \u001B[1;32mdef\u001B[0m \u001B[0m_get_slice_axis\u001B[0m\u001B[1;33m(\u001B[0m\u001B[0mself\u001B[0m\u001B[1;33m,\u001B[0m \u001B[0mslice_obj\u001B[0m\u001B[1;33m:\u001B[0m \u001B[0mslice\u001B[0m\u001B[1;33m,\u001B[0m \u001B[0maxis\u001B[0m\u001B[1;33m:\u001B[0m \u001B[0mint\u001B[0m\u001B[1;33m)\u001B[0m\u001B[1;33m:\u001B[0m\u001B[1;33m\u001B[0m\u001B[1;33m\u001B[0m\u001B[0m\n",
      "\u001B[1;32m~\\Model_Recommendation\\venv\\lib\\site-packages\\pandas\\core\\indexing.py\u001B[0m in \u001B[0;36m_get_label\u001B[1;34m(self, label, axis)\u001B[0m\n\u001B[0;32m   1111\u001B[0m     \u001B[1;32mdef\u001B[0m \u001B[0m_get_label\u001B[0m\u001B[1;33m(\u001B[0m\u001B[0mself\u001B[0m\u001B[1;33m,\u001B[0m \u001B[0mlabel\u001B[0m\u001B[1;33m,\u001B[0m \u001B[0maxis\u001B[0m\u001B[1;33m:\u001B[0m \u001B[0mint\u001B[0m\u001B[1;33m)\u001B[0m\u001B[1;33m:\u001B[0m\u001B[1;33m\u001B[0m\u001B[1;33m\u001B[0m\u001B[0m\n\u001B[0;32m   1112\u001B[0m         \u001B[1;31m# GH#5667 this will fail if the label is not present in the axis.\u001B[0m\u001B[1;33m\u001B[0m\u001B[1;33m\u001B[0m\u001B[1;33m\u001B[0m\u001B[0m\n\u001B[1;32m-> 1113\u001B[1;33m         \u001B[1;32mreturn\u001B[0m \u001B[0mself\u001B[0m\u001B[1;33m.\u001B[0m\u001B[0mobj\u001B[0m\u001B[1;33m.\u001B[0m\u001B[0mxs\u001B[0m\u001B[1;33m(\u001B[0m\u001B[0mlabel\u001B[0m\u001B[1;33m,\u001B[0m \u001B[0maxis\u001B[0m\u001B[1;33m=\u001B[0m\u001B[0maxis\u001B[0m\u001B[1;33m)\u001B[0m\u001B[1;33m\u001B[0m\u001B[1;33m\u001B[0m\u001B[0m\n\u001B[0m\u001B[0;32m   1114\u001B[0m \u001B[1;33m\u001B[0m\u001B[0m\n\u001B[0;32m   1115\u001B[0m     \u001B[1;32mdef\u001B[0m \u001B[0m_handle_lowerdim_multi_index_axis0\u001B[0m\u001B[1;33m(\u001B[0m\u001B[0mself\u001B[0m\u001B[1;33m,\u001B[0m \u001B[0mtup\u001B[0m\u001B[1;33m:\u001B[0m \u001B[0mtuple\u001B[0m\u001B[1;33m)\u001B[0m\u001B[1;33m:\u001B[0m\u001B[1;33m\u001B[0m\u001B[1;33m\u001B[0m\u001B[0m\n",
      "\u001B[1;32m~\\Model_Recommendation\\venv\\lib\\site-packages\\pandas\\core\\generic.py\u001B[0m in \u001B[0;36mxs\u001B[1;34m(self, key, axis, level, drop_level)\u001B[0m\n\u001B[0;32m   3774\u001B[0m                 \u001B[1;32mraise\u001B[0m \u001B[0mTypeError\u001B[0m\u001B[1;33m(\u001B[0m\u001B[1;34mf\"Expected label or tuple of labels, got {key}\"\u001B[0m\u001B[1;33m)\u001B[0m \u001B[1;32mfrom\u001B[0m \u001B[0me\u001B[0m\u001B[1;33m\u001B[0m\u001B[1;33m\u001B[0m\u001B[0m\n\u001B[0;32m   3775\u001B[0m         \u001B[1;32melse\u001B[0m\u001B[1;33m:\u001B[0m\u001B[1;33m\u001B[0m\u001B[1;33m\u001B[0m\u001B[0m\n\u001B[1;32m-> 3776\u001B[1;33m             \u001B[0mloc\u001B[0m \u001B[1;33m=\u001B[0m \u001B[0mindex\u001B[0m\u001B[1;33m.\u001B[0m\u001B[0mget_loc\u001B[0m\u001B[1;33m(\u001B[0m\u001B[0mkey\u001B[0m\u001B[1;33m)\u001B[0m\u001B[1;33m\u001B[0m\u001B[1;33m\u001B[0m\u001B[0m\n\u001B[0m\u001B[0;32m   3777\u001B[0m \u001B[1;33m\u001B[0m\u001B[0m\n\u001B[0;32m   3778\u001B[0m             \u001B[1;32mif\u001B[0m \u001B[0misinstance\u001B[0m\u001B[1;33m(\u001B[0m\u001B[0mloc\u001B[0m\u001B[1;33m,\u001B[0m \u001B[0mnp\u001B[0m\u001B[1;33m.\u001B[0m\u001B[0mndarray\u001B[0m\u001B[1;33m)\u001B[0m\u001B[1;33m:\u001B[0m\u001B[1;33m\u001B[0m\u001B[1;33m\u001B[0m\u001B[0m\n",
      "\u001B[1;32m~\\Model_Recommendation\\venv\\lib\\site-packages\\pandas\\core\\indexes\\base.py\u001B[0m in \u001B[0;36mget_loc\u001B[1;34m(self, key, method, tolerance)\u001B[0m\n\u001B[0;32m   3361\u001B[0m                 \u001B[1;32mreturn\u001B[0m \u001B[0mself\u001B[0m\u001B[1;33m.\u001B[0m\u001B[0m_engine\u001B[0m\u001B[1;33m.\u001B[0m\u001B[0mget_loc\u001B[0m\u001B[1;33m(\u001B[0m\u001B[0mcasted_key\u001B[0m\u001B[1;33m)\u001B[0m\u001B[1;33m\u001B[0m\u001B[1;33m\u001B[0m\u001B[0m\n\u001B[0;32m   3362\u001B[0m             \u001B[1;32mexcept\u001B[0m \u001B[0mKeyError\u001B[0m \u001B[1;32mas\u001B[0m \u001B[0merr\u001B[0m\u001B[1;33m:\u001B[0m\u001B[1;33m\u001B[0m\u001B[1;33m\u001B[0m\u001B[0m\n\u001B[1;32m-> 3363\u001B[1;33m                 \u001B[1;32mraise\u001B[0m \u001B[0mKeyError\u001B[0m\u001B[1;33m(\u001B[0m\u001B[0mkey\u001B[0m\u001B[1;33m)\u001B[0m \u001B[1;32mfrom\u001B[0m \u001B[0merr\u001B[0m\u001B[1;33m\u001B[0m\u001B[1;33m\u001B[0m\u001B[0m\n\u001B[0m\u001B[0;32m   3364\u001B[0m \u001B[1;33m\u001B[0m\u001B[0m\n\u001B[0;32m   3365\u001B[0m         \u001B[1;32mif\u001B[0m \u001B[0mis_scalar\u001B[0m\u001B[1;33m(\u001B[0m\u001B[0mkey\u001B[0m\u001B[1;33m)\u001B[0m \u001B[1;32mand\u001B[0m \u001B[0misna\u001B[0m\u001B[1;33m(\u001B[0m\u001B[0mkey\u001B[0m\u001B[1;33m)\u001B[0m \u001B[1;32mand\u001B[0m \u001B[1;32mnot\u001B[0m \u001B[0mself\u001B[0m\u001B[1;33m.\u001B[0m\u001B[0mhasnans\u001B[0m\u001B[1;33m:\u001B[0m\u001B[1;33m\u001B[0m\u001B[1;33m\u001B[0m\u001B[0m\n",
      "\u001B[1;31mKeyError\u001B[0m: 1"
     ]
    }
   ],
   "source": [
    "for i in range(len(datasets)):\n",
    "    if model_prediction_csv.loc[i].isnull().any():\n",
    "        max_index = find_sim_index(i)\n",
    "        print(model_prediction_csv.loc[i])\n",
    "        model_prediction_csv.loc[i] = model_prediction_csv.loc[max_index]\n",
    "        print(model_prediction_csv.loc[i])\n",
    "    else:\n",
    "        print(\"pass\")"
   ],
   "metadata": {
    "collapsed": false,
    "pycharm": {
     "name": "#%%\n"
    }
   }
  },
  {
   "cell_type": "code",
   "execution_count": null,
   "outputs": [],
   "source": [
    "max_index = find_sim_index(1)\n",
    "max_index"
   ],
   "metadata": {
    "collapsed": false,
    "pycharm": {
     "name": "#%%\n"
    }
   }
  },
  {
   "cell_type": "code",
   "execution_count": null,
   "outputs": [],
   "source": [
    "model_prediction_csv.loc[67][225]"
   ],
   "metadata": {
    "collapsed": false,
    "pycharm": {
     "name": "#%%\n"
    }
   }
  },
  {
   "cell_type": "code",
   "execution_count": null,
   "outputs": [],
   "source": [
    "data_model_test_numpy = np.array(data_model_test_matrix)"
   ],
   "metadata": {
    "collapsed": false,
    "pycharm": {
     "name": "#%%\n"
    }
   }
  },
  {
   "cell_type": "code",
   "execution_count": null,
   "outputs": [],
   "source": [
    "# str(rmse(model_prediction_csv,data_model_test_numpy))"
   ],
   "metadata": {
    "collapsed": false,
    "pycharm": {
     "name": "#%%\n"
    }
   }
  },
  {
   "cell_type": "code",
   "execution_count": null,
   "outputs": [],
   "source": [
    "# from sklearn.metrics import ndcg_score\n",
    "# ndcg_score(model_prediction_csv,data_model_test_numpy)"
   ],
   "metadata": {
    "collapsed": false,
    "pycharm": {
     "name": "#%%\n"
    }
   }
  },
  {
   "cell_type": "code",
   "execution_count": null,
   "outputs": [],
   "source": [
    "data_model_test_matrix = data_model_test_matrix[(data_model_test_matrix.T !=0).any()]\n",
    "data_model_test_matrix = data_model_test_matrix.loc[[1,10,15,17,32,35,47,61,62,67]]\n",
    "data_model_test_matrix"
   ],
   "metadata": {
    "collapsed": false,
    "pycharm": {
     "name": "#%%\n"
    }
   }
  },
  {
   "cell_type": "code",
   "execution_count": null,
   "outputs": [],
   "source": [
    "index_list = data_model_test_matrix.index.to_list()\n",
    "index_list"
   ],
   "metadata": {
    "collapsed": false,
    "pycharm": {
     "name": "#%%\n"
    }
   }
  },
  {
   "cell_type": "code",
   "execution_count": null,
   "outputs": [],
   "source": [
    "model_ranking_groundtruth = pd.DataFrame(index=range(len(datasets)),columns=range(len(models)))\n",
    "model_ranking_groundtruth"
   ],
   "metadata": {
    "collapsed": false,
    "pycharm": {
     "name": "#%%\n"
    }
   }
  },
  {
   "cell_type": "code",
   "execution_count": null,
   "outputs": [],
   "source": [
    "for i in index_list:\n",
    "    for j in range(len(models)):\n",
    "        # index = index_list[i]\n",
    "        row = data_model_test_matrix.loc[i]\n",
    "        row = row.sort_values(ascending=False)\n",
    "        index_row = row.index\n",
    "        index_row = pd.DataFrame(index_row).T\n",
    "        model_ranking_groundtruth.loc[i][j] = index_row.loc[0][j]\n",
    "model_ranking_groundtruth\n",
    "\n",
    "model_ranking_groundtruth = model_ranking_groundtruth[~model_ranking_groundtruth.isna().any(axis=1)]"
   ],
   "metadata": {
    "collapsed": false,
    "pycharm": {
     "name": "#%%\n"
    }
   }
  },
  {
   "cell_type": "code",
   "execution_count": null,
   "outputs": [],
   "source": [
    "model_ranking_groundtruth"
   ],
   "metadata": {
    "collapsed": false,
    "pycharm": {
     "name": "#%%\n"
    }
   }
  },
  {
   "cell_type": "code",
   "execution_count": null,
   "outputs": [],
   "source": [
    "row = model_prediction_csv.loc[1]\n",
    "row = row.sort_values(ascending=False)\n",
    "row = row.head(70).index\n",
    "row = pd.DataFrame(row).T\n",
    "# row.loc[0][1]\n",
    "row"
   ],
   "metadata": {
    "collapsed": false,
    "pycharm": {
     "name": "#%%\n"
    }
   }
  },
  {
   "cell_type": "code",
   "execution_count": null,
   "outputs": [],
   "source": [
    "model_ranking_prediction = pd.DataFrame(index=range(len(datasets)),columns=range(len(models)))\n",
    "model_ranking_prediction"
   ],
   "metadata": {
    "collapsed": false,
    "pycharm": {
     "name": "#%%\n"
    }
   }
  },
  {
   "cell_type": "code",
   "execution_count": null,
   "outputs": [],
   "source": [
    "for i in range(len(datasets)):\n",
    "    for j in range(len(models)):\n",
    "        row = model_prediction_csv.loc[i]\n",
    "        row = row.sort_values(ascending=False)\n",
    "        row = row.index\n",
    "        row = pd.DataFrame(row).T\n",
    "        model_ranking_prediction.loc[i][j] = row.loc[0][j]\n",
    "model_ranking_prediction"
   ],
   "metadata": {
    "collapsed": false,
    "pycharm": {
     "name": "#%%\n"
    }
   }
  },
  {
   "cell_type": "code",
   "execution_count": null,
   "outputs": [],
   "source": [
    "model_ranking_prediction.to_csv(\"model_ranking_prediction\",sep='\\t')"
   ],
   "metadata": {
    "collapsed": false,
    "pycharm": {
     "name": "#%%\n"
    }
   }
  },
  {
   "cell_type": "code",
   "execution_count": null,
   "outputs": [],
   "source": [
    "model_ranking_prediction = model_ranking_prediction.loc[[1,10,15,17,32,35,47,61,62,67]]\n",
    "model_ranking_prediction"
   ],
   "metadata": {
    "collapsed": false,
    "pycharm": {
     "name": "#%%\n"
    }
   }
  },
  {
   "cell_type": "code",
   "execution_count": null,
   "outputs": [],
   "source": [
    "model_ranking_groundtruth"
   ],
   "metadata": {
    "collapsed": false,
    "pycharm": {
     "name": "#%%\n"
    }
   }
  },
  {
   "cell_type": "code",
   "execution_count": null,
   "outputs": [],
   "source": [
    "model_ranking_prediction = model_ranking_prediction.values.tolist()"
   ],
   "metadata": {
    "collapsed": false,
    "pycharm": {
     "name": "#%%\n"
    }
   }
  },
  {
   "cell_type": "code",
   "execution_count": null,
   "outputs": [],
   "source": [
    "data_model_test_matrix"
   ],
   "metadata": {
    "collapsed": false,
    "pycharm": {
     "name": "#%%\n"
    }
   }
  },
  {
   "cell_type": "code",
   "execution_count": null,
   "outputs": [],
   "source": [
    "data_model_test_matrix.loc[1][1023]"
   ],
   "metadata": {
    "collapsed": false,
    "pycharm": {
     "name": "#%%\n"
    }
   }
  },
  {
   "cell_type": "code",
   "execution_count": null,
   "outputs": [],
   "source": [
    "len(model_ranking_prediction[0])"
   ],
   "metadata": {
    "collapsed": false,
    "pycharm": {
     "name": "#%%\n"
    }
   }
  },
  {
   "cell_type": "code",
   "execution_count": null,
   "outputs": [],
   "source": [
    "for i in range(len(model_ranking_prediction)):\n",
    "    for j in range(len(model_ranking_prediction[i])):\n",
    "        if data_model_test_matrix.loc[index_list[i]][model_ranking_prediction[i][j]]  == 0:\n",
    "            model_ranking_prediction[i][j] = None\n",
    "            print(\"删除了\")\n",
    "        # else:\n",
    "        #     print(\"没事\")\n",
    "model_ranking_prediction"
   ],
   "metadata": {
    "collapsed": false,
    "pycharm": {
     "name": "#%%\n"
    }
   }
  },
  {
   "cell_type": "code",
   "execution_count": null,
   "outputs": [],
   "source": [
    "# for i in range(len(model_ranking_prediction)):\n",
    "#     for j in range(len(model_ranking_prediction[i])):\n",
    "#         if model_ranking_prediction[i][j] not in model_ranking_groundtruth.values.tolist()[i]:\n",
    "#             model_ranking_prediction[i][j] = None\n",
    "#             print(\"删除了\")\n",
    "#         # else:\n",
    "#         #     print(\"没事\")\n",
    "# model_ranking_prediction = model_ranking_prediction"
   ],
   "metadata": {
    "collapsed": false,
    "pycharm": {
     "name": "#%%\n"
    }
   }
  },
  {
   "cell_type": "code",
   "execution_count": null,
   "outputs": [],
   "source": [
    "res = []\n",
    "for i in range(len(model_ranking_prediction)):\n",
    "    res.append(list(filter(None,model_ranking_prediction[i])))\n",
    "res = pd.DataFrame(res,index=[1,10,15,17,32,35,47,61,62,67])"
   ],
   "metadata": {
    "collapsed": false,
    "pycharm": {
     "name": "#%%\n"
    }
   }
  },
  {
   "cell_type": "code",
   "execution_count": null,
   "outputs": [],
   "source": [
    "res = res.fillna(\"None\")"
   ],
   "metadata": {
    "collapsed": false,
    "pycharm": {
     "name": "#%%\n"
    }
   }
  },
  {
   "cell_type": "code",
   "execution_count": null,
   "outputs": [],
   "source": [
    "res"
   ],
   "metadata": {
    "collapsed": false,
    "pycharm": {
     "name": "#%%\n"
    }
   }
  },
  {
   "cell_type": "code",
   "execution_count": null,
   "outputs": [],
   "source": [
    "model_ranking_groundtruth"
   ],
   "metadata": {
    "collapsed": false,
    "pycharm": {
     "name": "#%%\n"
    }
   }
  },
  {
   "cell_type": "code",
   "execution_count": null,
   "outputs": [],
   "source": [
    "model_ranking_prediction = pd.DataFrame(model_ranking_prediction)\n",
    "model_ranking_prediction"
   ],
   "metadata": {
    "collapsed": false,
    "pycharm": {
     "name": "#%%\n"
    }
   }
  },
  {
   "cell_type": "code",
   "execution_count": null,
   "outputs": [],
   "source": [
    "data_model_test_matrix.loc[32][889]\n",
    "model_prediction_csv.loc[32][777]"
   ],
   "metadata": {
    "collapsed": false,
    "pycharm": {
     "name": "#%%\n"
    }
   }
  },
  {
   "cell_type": "code",
   "execution_count": null,
   "outputs": [],
   "source": [
    "new_result = pd.DataFrame(columns={\"dataset\",\"model\",\"predict_balance_accuracy\",\"groundtruth_balance_accuracy\"})\n",
    "new_result"
   ],
   "metadata": {
    "collapsed": false,
    "pycharm": {
     "name": "#%%\n"
    }
   }
  },
  {
   "cell_type": "code",
   "execution_count": null,
   "outputs": [],
   "source": [
    "data_model_test_matrix"
   ],
   "metadata": {
    "collapsed": false,
    "pycharm": {
     "name": "#%%\n"
    }
   }
  },
  {
   "cell_type": "code",
   "execution_count": null,
   "outputs": [],
   "source": [
    "res.loc[:,:19]"
   ],
   "metadata": {
    "collapsed": false,
    "pycharm": {
     "name": "#%%\n"
    }
   }
  },
  {
   "cell_type": "code",
   "execution_count": null,
   "outputs": [],
   "source": [
    "for i in range(10):\n",
    "    dataset_id = index_list[i]\n",
    "    for j in range(250):\n",
    "        if res.loc[dataset_id][j] == \"None\":\n",
    "            break\n",
    "        model_id = res.loc[dataset_id][j]\n",
    "        predict_balance_accuracy = model_prediction_csv.loc[dataset_id][model_id]\n",
    "        groundtruth_balance_accuracy = data_model_test_matrix.loc[dataset_id][model_id]\n",
    "        new_result = new_result.append([{'dataset':dataset_id,'model':model_id,'predict_balance_accuracy':predict_balance_accuracy,'groundtruth_balance_accuracy':groundtruth_balance_accuracy}],ignore_index=True)\n",
    "#\n",
    "# for row in top_20.itertuples():\n",
    "#     new_result[row[2]][row[1]] = row[3]\n",
    "# data_model_test_matrix = data_model_test_matrix.fillna(0)"
   ],
   "metadata": {
    "collapsed": false,
    "pycharm": {
     "name": "#%%\n"
    }
   }
  },
  {
   "cell_type": "code",
   "execution_count": null,
   "outputs": [],
   "source": [
    "new_result"
   ],
   "metadata": {
    "collapsed": false,
    "pycharm": {
     "name": "#%%\n"
    }
   }
  },
  {
   "cell_type": "code",
   "execution_count": null,
   "outputs": [],
   "source": [
    "new_result.to_csv(\"../Data_preprocess/Kaggle/CF_ratios_result/r80.csv\")"
   ],
   "metadata": {
    "collapsed": false,
    "pycharm": {
     "name": "#%%\n"
    }
   }
  },
  {
   "cell_type": "code",
   "execution_count": null,
   "outputs": [],
   "source": [],
   "metadata": {
    "collapsed": false,
    "pycharm": {
     "name": "#%%\n"
    }
   }
  }
 ],
 "metadata": {
  "kernelspec": {
   "display_name": "Python 3",
   "language": "python",
   "name": "python3"
  },
  "language_info": {
   "codemirror_mode": {
    "name": "ipython",
    "version": 2
   },
   "file_extension": ".py",
   "mimetype": "text/x-python",
   "name": "python",
   "nbconvert_exporter": "python",
   "pygments_lexer": "ipython2",
   "version": "2.7.6"
  }
 },
 "nbformat": 4,
 "nbformat_minor": 0
}