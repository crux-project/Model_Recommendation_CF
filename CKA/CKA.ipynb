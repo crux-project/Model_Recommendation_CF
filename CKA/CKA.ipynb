{
 "cells": [
  {
   "cell_type": "code",
   "execution_count": 17,
   "outputs": [],
   "source": [
    "import numpy as np\n",
    "import pandas as pd\n",
    "\n",
    "\n",
    "def gram_linear(x):\n",
    "  \"\"\"Compute Gram (kernel) matrix for a linear kernel.\n",
    "\n",
    "  Args:\n",
    "    x: A num_examples x num_features matrix of features.\n",
    "\n",
    "  Returns:\n",
    "    A num_examples x num_examples Gram matrix of examples.\n",
    "  \"\"\"\n",
    "  return x.dot(x.T)\n",
    "\n",
    "\n",
    "def gram_rbf(x, threshold=1.0):\n",
    "  \"\"\"Compute Gram (kernel) matrix for an RBF kernel.\n",
    "\n",
    "  Args:\n",
    "    x: A num_examples x num_features matrix of features.\n",
    "    threshold: Fraction of median Euclidean distance to use as RBF kernel\n",
    "      bandwidth. (This is the heuristic we use in the paper. There are other\n",
    "      possible ways to set the bandwidth; we didn't try them.)\n",
    "\n",
    "  Returns:\n",
    "    A num_examples x num_examples Gram matrix of examples.\n",
    "  \"\"\"\n",
    "  dot_products = x.dot(x.T)\n",
    "  sq_norms = np.diag(dot_products)\n",
    "  sq_distances = -2 * dot_products + sq_norms[:, None] + sq_norms[None, :]\n",
    "  sq_median_distance = np.median(sq_distances)\n",
    "  return np.exp(-sq_distances / (2 * threshold ** 2 * sq_median_distance))\n",
    "\n",
    "\n",
    "def center_gram(gram, unbiased=False):\n",
    "  \"\"\"Center a symmetric Gram matrix.\n",
    "\n",
    "  This is equvialent to centering the (possibly infinite-dimensional) features\n",
    "  induced by the kernel before computing the Gram matrix.\n",
    "\n",
    "  Args:\n",
    "    gram: A num_examples x num_examples symmetric matrix.\n",
    "    unbiased: Whether to adjust the Gram matrix in order to compute an unbiased\n",
    "      estimate of HSIC. Note that this estimator may be negative.\n",
    "\n",
    "  Returns:\n",
    "    A symmetric matrix with centered columns and rows.\n",
    "  \"\"\"\n",
    "  if not np.allclose(gram, gram.T):\n",
    "    raise ValueError('Input must be a symmetric matrix.')\n",
    "  gram = gram.copy()\n",
    "\n",
    "  if unbiased:\n",
    "    # This formulation of the U-statistic, from Szekely, G. J., & Rizzo, M.\n",
    "    # L. (2014). Partial distance correlation with methods for dissimilarities.\n",
    "    # The Annals of Statistics, 42(6), 2382-2412, seems to be more numerically\n",
    "    # stable than the alternative from Song et al. (2007).\n",
    "    n = gram.shape[0]\n",
    "    np.fill_diagonal(gram, 0)\n",
    "    means = np.sum(gram, 0, dtype=np.float64) / (n - 2)\n",
    "    means -= np.sum(means) / (2 * (n - 1))\n",
    "    gram -= means[:, None]\n",
    "    gram -= means[None, :]\n",
    "    np.fill_diagonal(gram, 0)\n",
    "  else:\n",
    "    means = np.mean(gram, 0, dtype=np.float64)\n",
    "    means -= np.mean(means) / 2\n",
    "    gram -= means[:, None]\n",
    "    gram -= means[None, :]\n",
    "\n",
    "  return gram\n",
    "\n",
    "\n",
    "def cka(gram_x, gram_y, debiased=False):\n",
    "  \"\"\"Compute CKA.\n",
    "\n",
    "  Args:\n",
    "    gram_x: A num_examples x num_examples Gram matrix.\n",
    "    gram_y: A num_examples x num_examples Gram matrix.\n",
    "    debiased: Use unbiased estimator of HSIC. CKA may still be biased.\n",
    "\n",
    "  Returns:\n",
    "    The value of CKA between X and Y.\n",
    "  \"\"\"\n",
    "  gram_x = center_gram(gram_x, unbiased=debiased)\n",
    "  gram_y = center_gram(gram_y, unbiased=debiased)\n",
    "\n",
    "  # Note: To obtain HSIC, this should be divided by (n-1)**2 (biased variant) or\n",
    "  # n*(n-3) (unbiased variant), but this cancels for CKA.\n",
    "  scaled_hsic = gram_x.ravel().dot(gram_y.ravel())\n",
    "\n",
    "  normalization_x = np.linalg.norm(gram_x)\n",
    "  normalization_y = np.linalg.norm(gram_y)\n",
    "  return scaled_hsic / (normalization_x * normalization_y)\n",
    "\n",
    "\n",
    "def _debiased_dot_product_similarity_helper(\n",
    "    xty, sum_squared_rows_x, sum_squared_rows_y, squared_norm_x, squared_norm_y,\n",
    "    n):\n",
    "  \"\"\"Helper for computing debiased dot product similarity (i.e. linear HSIC).\"\"\"\n",
    "  # This formula can be derived by manipulating the unbiased estimator from\n",
    "  # Song et al. (2007).\n",
    "  return (\n",
    "      xty - n / (n - 2.) * sum_squared_rows_x.dot(sum_squared_rows_y)\n",
    "      + squared_norm_x * squared_norm_y / ((n - 1) * (n - 2)))\n",
    "\n",
    "\n",
    "def feature_space_linear_cka(features_x, features_y, debiased=False):\n",
    "  \"\"\"Compute CKA with a linear kernel, in feature space.\n",
    "\n",
    "  This is typically faster than computing the Gram matrix when there are fewer\n",
    "  features than examples.\n",
    "\n",
    "  Args:\n",
    "    features_x: A num_examples x num_features matrix of features.\n",
    "    features_y: A num_examples x num_features matrix of features.\n",
    "    debiased: Use unbiased estimator of dot product similarity. CKA may still be\n",
    "      biased. Note that this estimator may be negative.\n",
    "\n",
    "  Returns:\n",
    "    The value of CKA between X and Y.\n",
    "  \"\"\"\n",
    "  features_x = features_x - np.mean(features_x, 0, keepdims=True)\n",
    "  features_y = features_y - np.mean(features_y, 0, keepdims=True)\n",
    "\n",
    "  dot_product_similarity = np.linalg.norm(features_x.T.dot(features_y)) ** 2\n",
    "  normalization_x = np.linalg.norm(features_x.T.dot(features_x))\n",
    "  normalization_y = np.linalg.norm(features_y.T.dot(features_y))\n",
    "\n",
    "  if debiased:\n",
    "    n = features_x.shape[0]\n",
    "    # Equivalent to np.sum(features_x ** 2, 1) but avoids an intermediate array.\n",
    "    sum_squared_rows_x = np.einsum('ij,ij->i', features_x, features_x)\n",
    "    sum_squared_rows_y = np.einsum('ij,ij->i', features_y, features_y)\n",
    "    squared_norm_x = np.sum(sum_squared_rows_x)\n",
    "    squared_norm_y = np.sum(sum_squared_rows_y)\n",
    "\n",
    "    dot_product_similarity = _debiased_dot_product_similarity_helper(\n",
    "        dot_product_similarity, sum_squared_rows_x, sum_squared_rows_y,\n",
    "        squared_norm_x, squared_norm_y, n)\n",
    "    normalization_x = np.sqrt(_debiased_dot_product_similarity_helper(\n",
    "        normalization_x ** 2, sum_squared_rows_x, sum_squared_rows_x,\n",
    "        squared_norm_x, squared_norm_x, n))\n",
    "    normalization_y = np.sqrt(_debiased_dot_product_similarity_helper(\n",
    "        normalization_y ** 2, sum_squared_rows_y, sum_squared_rows_y,\n",
    "        squared_norm_y, squared_norm_y, n))\n",
    "\n",
    "  return dot_product_similarity / (normalization_x * normalization_y)"
   ],
   "metadata": {
    "collapsed": false,
    "pycharm": {
     "name": "#%%\n"
    }
   }
  },
  {
   "cell_type": "code",
   "execution_count": 18,
   "outputs": [],
   "source": [
    "models_csv = pd.read_csv(\"../Kaggle/Cold-Start original/Data/models_num.csv\",low_memory=False)"
   ],
   "metadata": {
    "collapsed": false,
    "pycharm": {
     "name": "#%%\n"
    }
   }
  },
  {
   "cell_type": "code",
   "execution_count": 19,
   "outputs": [],
   "source": [
    "models = models_csv.model_id.unique()"
   ],
   "metadata": {
    "collapsed": false,
    "pycharm": {
     "name": "#%%\n"
    }
   }
  },
  {
   "cell_type": "code",
   "execution_count": 20,
   "outputs": [],
   "source": [
    "meta_models_similarity = pd.DataFrame(index=models,columns=models)\n",
    "meta_models = models_csv.loc[:,(\"training_data\",\"base_model\",\"gpu_type\",\"para_num\",\"size(MB)\",\"depth\",\"flops\")]\n"
   ],
   "metadata": {
    "collapsed": false,
    "pycharm": {
     "name": "#%%\n"
    }
   }
  },
  {
   "cell_type": "code",
   "execution_count": 21,
   "outputs": [
    {
     "data": {
      "text/plain": "      training_data  base_model  gpu_type  para_num  size(MB)  depth    flops\n0                 0           0         1   7302474     27.86    304   529724\n1                 0           1         1  13071690     49.86    424   857404\n2                 0           2         1  18816330     71.78    504   988476\n3                 0           3         1   4380077     16.71    158  1925299\n4                 0           4         1   6905745     26.34    222  2893071\n...             ...         ...       ...       ...       ...    ...      ...\n1795             71          20         0  24114826     91.99    161  1054012\n1796             71          21         0  24091914     91.90    137  1054012\n1797             71          22         0  14848586     56.64     15   267580\n1798             71          23         0  20158282     76.90     18   267580\n1799             71          24         0  21388594     81.59    119  1054012\n\n[1800 rows x 7 columns]",
      "text/html": "<div>\n<style scoped>\n    .dataframe tbody tr th:only-of-type {\n        vertical-align: middle;\n    }\n\n    .dataframe tbody tr th {\n        vertical-align: top;\n    }\n\n    .dataframe thead th {\n        text-align: right;\n    }\n</style>\n<table border=\"1\" class=\"dataframe\">\n  <thead>\n    <tr style=\"text-align: right;\">\n      <th></th>\n      <th>training_data</th>\n      <th>base_model</th>\n      <th>gpu_type</th>\n      <th>para_num</th>\n      <th>size(MB)</th>\n      <th>depth</th>\n      <th>flops</th>\n    </tr>\n  </thead>\n  <tbody>\n    <tr>\n      <th>0</th>\n      <td>0</td>\n      <td>0</td>\n      <td>1</td>\n      <td>7302474</td>\n      <td>27.86</td>\n      <td>304</td>\n      <td>529724</td>\n    </tr>\n    <tr>\n      <th>1</th>\n      <td>0</td>\n      <td>1</td>\n      <td>1</td>\n      <td>13071690</td>\n      <td>49.86</td>\n      <td>424</td>\n      <td>857404</td>\n    </tr>\n    <tr>\n      <th>2</th>\n      <td>0</td>\n      <td>2</td>\n      <td>1</td>\n      <td>18816330</td>\n      <td>71.78</td>\n      <td>504</td>\n      <td>988476</td>\n    </tr>\n    <tr>\n      <th>3</th>\n      <td>0</td>\n      <td>3</td>\n      <td>1</td>\n      <td>4380077</td>\n      <td>16.71</td>\n      <td>158</td>\n      <td>1925299</td>\n    </tr>\n    <tr>\n      <th>4</th>\n      <td>0</td>\n      <td>4</td>\n      <td>1</td>\n      <td>6905745</td>\n      <td>26.34</td>\n      <td>222</td>\n      <td>2893071</td>\n    </tr>\n    <tr>\n      <th>...</th>\n      <td>...</td>\n      <td>...</td>\n      <td>...</td>\n      <td>...</td>\n      <td>...</td>\n      <td>...</td>\n      <td>...</td>\n    </tr>\n    <tr>\n      <th>1795</th>\n      <td>71</td>\n      <td>20</td>\n      <td>0</td>\n      <td>24114826</td>\n      <td>91.99</td>\n      <td>161</td>\n      <td>1054012</td>\n    </tr>\n    <tr>\n      <th>1796</th>\n      <td>71</td>\n      <td>21</td>\n      <td>0</td>\n      <td>24091914</td>\n      <td>91.90</td>\n      <td>137</td>\n      <td>1054012</td>\n    </tr>\n    <tr>\n      <th>1797</th>\n      <td>71</td>\n      <td>22</td>\n      <td>0</td>\n      <td>14848586</td>\n      <td>56.64</td>\n      <td>15</td>\n      <td>267580</td>\n    </tr>\n    <tr>\n      <th>1798</th>\n      <td>71</td>\n      <td>23</td>\n      <td>0</td>\n      <td>20158282</td>\n      <td>76.90</td>\n      <td>18</td>\n      <td>267580</td>\n    </tr>\n    <tr>\n      <th>1799</th>\n      <td>71</td>\n      <td>24</td>\n      <td>0</td>\n      <td>21388594</td>\n      <td>81.59</td>\n      <td>119</td>\n      <td>1054012</td>\n    </tr>\n  </tbody>\n</table>\n<p>1800 rows × 7 columns</p>\n</div>"
     },
     "execution_count": 21,
     "metadata": {},
     "output_type": "execute_result"
    }
   ],
   "source": [
    "meta_models"
   ],
   "metadata": {
    "collapsed": false,
    "pycharm": {
     "name": "#%%\n"
    }
   }
  },
  {
   "cell_type": "code",
   "execution_count": 22,
   "outputs": [
    {
     "ename": "ValueError",
     "evalue": "the 'dtype' parameter is not supported in the pandas implementation of mean()",
     "output_type": "error",
     "traceback": [
      "\u001B[1;31m---------------------------------------------------------------------------\u001B[0m",
      "\u001B[1;31mValueError\u001B[0m                                Traceback (most recent call last)",
      "\u001B[1;32m~\\AppData\\Local\\Temp\\ipykernel_15472\\1609529969.py\u001B[0m in \u001B[0;36m<module>\u001B[1;34m\u001B[0m\n\u001B[1;32m----> 1\u001B[1;33m \u001B[0mcka\u001B[0m\u001B[1;33m(\u001B[0m\u001B[0mmeta_models\u001B[0m\u001B[1;33m.\u001B[0m\u001B[0mloc\u001B[0m\u001B[1;33m[\u001B[0m\u001B[1;36m0\u001B[0m\u001B[1;33m]\u001B[0m\u001B[1;33m,\u001B[0m \u001B[0mmeta_models\u001B[0m\u001B[1;33m.\u001B[0m\u001B[0mloc\u001B[0m\u001B[1;33m[\u001B[0m\u001B[1;36m1\u001B[0m\u001B[1;33m]\u001B[0m\u001B[1;33m,\u001B[0m \u001B[0mdebiased\u001B[0m\u001B[1;33m=\u001B[0m\u001B[1;32mFalse\u001B[0m\u001B[1;33m)\u001B[0m\u001B[1;33m\u001B[0m\u001B[1;33m\u001B[0m\u001B[0m\n\u001B[0m",
      "\u001B[1;32m~\\AppData\\Local\\Temp\\ipykernel_15472\\425847667.py\u001B[0m in \u001B[0;36mcka\u001B[1;34m(gram_x, gram_y, debiased)\u001B[0m\n\u001B[0;32m     84\u001B[0m     \u001B[0mThe\u001B[0m \u001B[0mvalue\u001B[0m \u001B[0mof\u001B[0m \u001B[0mCKA\u001B[0m \u001B[0mbetween\u001B[0m \u001B[0mX\u001B[0m \u001B[1;32mand\u001B[0m \u001B[0mY\u001B[0m\u001B[1;33m.\u001B[0m\u001B[1;33m\u001B[0m\u001B[1;33m\u001B[0m\u001B[0m\n\u001B[0;32m     85\u001B[0m   \"\"\"\n\u001B[1;32m---> 86\u001B[1;33m   \u001B[0mgram_x\u001B[0m \u001B[1;33m=\u001B[0m \u001B[0mcenter_gram\u001B[0m\u001B[1;33m(\u001B[0m\u001B[0mgram_x\u001B[0m\u001B[1;33m,\u001B[0m \u001B[0munbiased\u001B[0m\u001B[1;33m=\u001B[0m\u001B[0mdebiased\u001B[0m\u001B[1;33m)\u001B[0m\u001B[1;33m\u001B[0m\u001B[1;33m\u001B[0m\u001B[0m\n\u001B[0m\u001B[0;32m     87\u001B[0m   \u001B[0mgram_y\u001B[0m \u001B[1;33m=\u001B[0m \u001B[0mcenter_gram\u001B[0m\u001B[1;33m(\u001B[0m\u001B[0mgram_y\u001B[0m\u001B[1;33m,\u001B[0m \u001B[0munbiased\u001B[0m\u001B[1;33m=\u001B[0m\u001B[0mdebiased\u001B[0m\u001B[1;33m)\u001B[0m\u001B[1;33m\u001B[0m\u001B[1;33m\u001B[0m\u001B[0m\n\u001B[0;32m     88\u001B[0m \u001B[1;33m\u001B[0m\u001B[0m\n",
      "\u001B[1;32m~\\AppData\\Local\\Temp\\ipykernel_15472\\425847667.py\u001B[0m in \u001B[0;36mcenter_gram\u001B[1;34m(gram, unbiased)\u001B[0m\n\u001B[0;32m     65\u001B[0m     \u001B[0mnp\u001B[0m\u001B[1;33m.\u001B[0m\u001B[0mfill_diagonal\u001B[0m\u001B[1;33m(\u001B[0m\u001B[0mgram\u001B[0m\u001B[1;33m,\u001B[0m \u001B[1;36m0\u001B[0m\u001B[1;33m)\u001B[0m\u001B[1;33m\u001B[0m\u001B[1;33m\u001B[0m\u001B[0m\n\u001B[0;32m     66\u001B[0m   \u001B[1;32melse\u001B[0m\u001B[1;33m:\u001B[0m\u001B[1;33m\u001B[0m\u001B[1;33m\u001B[0m\u001B[0m\n\u001B[1;32m---> 67\u001B[1;33m     \u001B[0mmeans\u001B[0m \u001B[1;33m=\u001B[0m \u001B[0mnp\u001B[0m\u001B[1;33m.\u001B[0m\u001B[0mmean\u001B[0m\u001B[1;33m(\u001B[0m\u001B[0mgram\u001B[0m\u001B[1;33m,\u001B[0m \u001B[1;36m0\u001B[0m\u001B[1;33m,\u001B[0m \u001B[0mdtype\u001B[0m\u001B[1;33m=\u001B[0m\u001B[0mnp\u001B[0m\u001B[1;33m.\u001B[0m\u001B[0mfloat64\u001B[0m\u001B[1;33m)\u001B[0m\u001B[1;33m\u001B[0m\u001B[1;33m\u001B[0m\u001B[0m\n\u001B[0m\u001B[0;32m     68\u001B[0m     \u001B[0mmeans\u001B[0m \u001B[1;33m-=\u001B[0m \u001B[0mnp\u001B[0m\u001B[1;33m.\u001B[0m\u001B[0mmean\u001B[0m\u001B[1;33m(\u001B[0m\u001B[0mmeans\u001B[0m\u001B[1;33m)\u001B[0m \u001B[1;33m/\u001B[0m \u001B[1;36m2\u001B[0m\u001B[1;33m\u001B[0m\u001B[1;33m\u001B[0m\u001B[0m\n\u001B[0;32m     69\u001B[0m     \u001B[0mgram\u001B[0m \u001B[1;33m-=\u001B[0m \u001B[0mmeans\u001B[0m\u001B[1;33m[\u001B[0m\u001B[1;33m:\u001B[0m\u001B[1;33m,\u001B[0m \u001B[1;32mNone\u001B[0m\u001B[1;33m]\u001B[0m\u001B[1;33m\u001B[0m\u001B[1;33m\u001B[0m\u001B[0m\n",
      "\u001B[1;32m<__array_function__ internals>\u001B[0m in \u001B[0;36mmean\u001B[1;34m(*args, **kwargs)\u001B[0m\n",
      "\u001B[1;32mc:\\users\\byy\\appdata\\local\\programs\\python\\python37\\lib\\site-packages\\numpy\\core\\fromnumeric.py\u001B[0m in \u001B[0;36mmean\u001B[1;34m(a, axis, dtype, out, keepdims, where)\u001B[0m\n\u001B[0;32m   3436\u001B[0m             \u001B[1;32mpass\u001B[0m\u001B[1;33m\u001B[0m\u001B[1;33m\u001B[0m\u001B[0m\n\u001B[0;32m   3437\u001B[0m         \u001B[1;32melse\u001B[0m\u001B[1;33m:\u001B[0m\u001B[1;33m\u001B[0m\u001B[1;33m\u001B[0m\u001B[0m\n\u001B[1;32m-> 3438\u001B[1;33m             \u001B[1;32mreturn\u001B[0m \u001B[0mmean\u001B[0m\u001B[1;33m(\u001B[0m\u001B[0maxis\u001B[0m\u001B[1;33m=\u001B[0m\u001B[0maxis\u001B[0m\u001B[1;33m,\u001B[0m \u001B[0mdtype\u001B[0m\u001B[1;33m=\u001B[0m\u001B[0mdtype\u001B[0m\u001B[1;33m,\u001B[0m \u001B[0mout\u001B[0m\u001B[1;33m=\u001B[0m\u001B[0mout\u001B[0m\u001B[1;33m,\u001B[0m \u001B[1;33m**\u001B[0m\u001B[0mkwargs\u001B[0m\u001B[1;33m)\u001B[0m\u001B[1;33m\u001B[0m\u001B[1;33m\u001B[0m\u001B[0m\n\u001B[0m\u001B[0;32m   3439\u001B[0m \u001B[1;33m\u001B[0m\u001B[0m\n\u001B[0;32m   3440\u001B[0m     return _methods._mean(a, axis=axis, dtype=dtype,\n",
      "\u001B[1;32mc:\\users\\byy\\appdata\\local\\programs\\python\\python37\\lib\\site-packages\\pandas\\core\\generic.py\u001B[0m in \u001B[0;36mmean\u001B[1;34m(self, axis, skipna, level, numeric_only, **kwargs)\u001B[0m\n\u001B[0;32m  10749\u001B[0m         )\n\u001B[0;32m  10750\u001B[0m         \u001B[1;32mdef\u001B[0m \u001B[0mmean\u001B[0m\u001B[1;33m(\u001B[0m\u001B[0mself\u001B[0m\u001B[1;33m,\u001B[0m \u001B[0maxis\u001B[0m\u001B[1;33m=\u001B[0m\u001B[1;32mNone\u001B[0m\u001B[1;33m,\u001B[0m \u001B[0mskipna\u001B[0m\u001B[1;33m=\u001B[0m\u001B[1;32mNone\u001B[0m\u001B[1;33m,\u001B[0m \u001B[0mlevel\u001B[0m\u001B[1;33m=\u001B[0m\u001B[1;32mNone\u001B[0m\u001B[1;33m,\u001B[0m \u001B[0mnumeric_only\u001B[0m\u001B[1;33m=\u001B[0m\u001B[1;32mNone\u001B[0m\u001B[1;33m,\u001B[0m \u001B[1;33m**\u001B[0m\u001B[0mkwargs\u001B[0m\u001B[1;33m)\u001B[0m\u001B[1;33m:\u001B[0m\u001B[1;33m\u001B[0m\u001B[1;33m\u001B[0m\u001B[0m\n\u001B[1;32m> 10751\u001B[1;33m             \u001B[1;32mreturn\u001B[0m \u001B[0mNDFrame\u001B[0m\u001B[1;33m.\u001B[0m\u001B[0mmean\u001B[0m\u001B[1;33m(\u001B[0m\u001B[0mself\u001B[0m\u001B[1;33m,\u001B[0m \u001B[0maxis\u001B[0m\u001B[1;33m,\u001B[0m \u001B[0mskipna\u001B[0m\u001B[1;33m,\u001B[0m \u001B[0mlevel\u001B[0m\u001B[1;33m,\u001B[0m \u001B[0mnumeric_only\u001B[0m\u001B[1;33m,\u001B[0m \u001B[1;33m**\u001B[0m\u001B[0mkwargs\u001B[0m\u001B[1;33m)\u001B[0m\u001B[1;33m\u001B[0m\u001B[1;33m\u001B[0m\u001B[0m\n\u001B[0m\u001B[0;32m  10752\u001B[0m \u001B[1;33m\u001B[0m\u001B[0m\n\u001B[0;32m  10753\u001B[0m         \u001B[0msetattr\u001B[0m\u001B[1;33m(\u001B[0m\u001B[0mcls\u001B[0m\u001B[1;33m,\u001B[0m \u001B[1;34m\"mean\"\u001B[0m\u001B[1;33m,\u001B[0m \u001B[0mmean\u001B[0m\u001B[1;33m)\u001B[0m\u001B[1;33m\u001B[0m\u001B[1;33m\u001B[0m\u001B[0m\n",
      "\u001B[1;32mc:\\users\\byy\\appdata\\local\\programs\\python\\python37\\lib\\site-packages\\pandas\\core\\generic.py\u001B[0m in \u001B[0;36mmean\u001B[1;34m(self, axis, skipna, level, numeric_only, **kwargs)\u001B[0m\n\u001B[0;32m  10368\u001B[0m     \u001B[1;32mdef\u001B[0m \u001B[0mmean\u001B[0m\u001B[1;33m(\u001B[0m\u001B[0mself\u001B[0m\u001B[1;33m,\u001B[0m \u001B[0maxis\u001B[0m\u001B[1;33m=\u001B[0m\u001B[1;32mNone\u001B[0m\u001B[1;33m,\u001B[0m \u001B[0mskipna\u001B[0m\u001B[1;33m=\u001B[0m\u001B[1;32mNone\u001B[0m\u001B[1;33m,\u001B[0m \u001B[0mlevel\u001B[0m\u001B[1;33m=\u001B[0m\u001B[1;32mNone\u001B[0m\u001B[1;33m,\u001B[0m \u001B[0mnumeric_only\u001B[0m\u001B[1;33m=\u001B[0m\u001B[1;32mNone\u001B[0m\u001B[1;33m,\u001B[0m \u001B[1;33m**\u001B[0m\u001B[0mkwargs\u001B[0m\u001B[1;33m)\u001B[0m\u001B[1;33m:\u001B[0m\u001B[1;33m\u001B[0m\u001B[1;33m\u001B[0m\u001B[0m\n\u001B[0;32m  10369\u001B[0m         return self._stat_function(\n\u001B[1;32m> 10370\u001B[1;33m             \u001B[1;34m\"mean\"\u001B[0m\u001B[1;33m,\u001B[0m \u001B[0mnanops\u001B[0m\u001B[1;33m.\u001B[0m\u001B[0mnanmean\u001B[0m\u001B[1;33m,\u001B[0m \u001B[0maxis\u001B[0m\u001B[1;33m,\u001B[0m \u001B[0mskipna\u001B[0m\u001B[1;33m,\u001B[0m \u001B[0mlevel\u001B[0m\u001B[1;33m,\u001B[0m \u001B[0mnumeric_only\u001B[0m\u001B[1;33m,\u001B[0m \u001B[1;33m**\u001B[0m\u001B[0mkwargs\u001B[0m\u001B[1;33m\u001B[0m\u001B[1;33m\u001B[0m\u001B[0m\n\u001B[0m\u001B[0;32m  10371\u001B[0m         )\n\u001B[0;32m  10372\u001B[0m \u001B[1;33m\u001B[0m\u001B[0m\n",
      "\u001B[1;32mc:\\users\\byy\\appdata\\local\\programs\\python\\python37\\lib\\site-packages\\pandas\\core\\generic.py\u001B[0m in \u001B[0;36m_stat_function\u001B[1;34m(self, name, func, axis, skipna, level, numeric_only, **kwargs)\u001B[0m\n\u001B[0;32m  10336\u001B[0m             \u001B[0mnv\u001B[0m\u001B[1;33m.\u001B[0m\u001B[0mvalidate_median\u001B[0m\u001B[1;33m(\u001B[0m\u001B[1;33m(\u001B[0m\u001B[1;33m)\u001B[0m\u001B[1;33m,\u001B[0m \u001B[0mkwargs\u001B[0m\u001B[1;33m)\u001B[0m\u001B[1;33m\u001B[0m\u001B[1;33m\u001B[0m\u001B[0m\n\u001B[0;32m  10337\u001B[0m         \u001B[1;32melse\u001B[0m\u001B[1;33m:\u001B[0m\u001B[1;33m\u001B[0m\u001B[1;33m\u001B[0m\u001B[0m\n\u001B[1;32m> 10338\u001B[1;33m             \u001B[0mnv\u001B[0m\u001B[1;33m.\u001B[0m\u001B[0mvalidate_stat_func\u001B[0m\u001B[1;33m(\u001B[0m\u001B[1;33m(\u001B[0m\u001B[1;33m)\u001B[0m\u001B[1;33m,\u001B[0m \u001B[0mkwargs\u001B[0m\u001B[1;33m,\u001B[0m \u001B[0mfname\u001B[0m\u001B[1;33m=\u001B[0m\u001B[0mname\u001B[0m\u001B[1;33m)\u001B[0m\u001B[1;33m\u001B[0m\u001B[1;33m\u001B[0m\u001B[0m\n\u001B[0m\u001B[0;32m  10339\u001B[0m         \u001B[1;32mif\u001B[0m \u001B[0mskipna\u001B[0m \u001B[1;32mis\u001B[0m \u001B[1;32mNone\u001B[0m\u001B[1;33m:\u001B[0m\u001B[1;33m\u001B[0m\u001B[1;33m\u001B[0m\u001B[0m\n\u001B[0;32m  10340\u001B[0m             \u001B[0mskipna\u001B[0m \u001B[1;33m=\u001B[0m \u001B[1;32mTrue\u001B[0m\u001B[1;33m\u001B[0m\u001B[1;33m\u001B[0m\u001B[0m\n",
      "\u001B[1;32mc:\\users\\byy\\appdata\\local\\programs\\python\\python37\\lib\\site-packages\\pandas\\compat\\numpy\\function.py\u001B[0m in \u001B[0;36m__call__\u001B[1;34m(self, args, kwargs, fname, max_fname_arg_count, method)\u001B[0m\n\u001B[0;32m     67\u001B[0m                 \u001B[0mvalidate_args\u001B[0m\u001B[1;33m(\u001B[0m\u001B[0mfname\u001B[0m\u001B[1;33m,\u001B[0m \u001B[0margs\u001B[0m\u001B[1;33m,\u001B[0m \u001B[0mmax_fname_arg_count\u001B[0m\u001B[1;33m,\u001B[0m \u001B[0mself\u001B[0m\u001B[1;33m.\u001B[0m\u001B[0mdefaults\u001B[0m\u001B[1;33m)\u001B[0m\u001B[1;33m\u001B[0m\u001B[1;33m\u001B[0m\u001B[0m\n\u001B[0;32m     68\u001B[0m             \u001B[1;32melif\u001B[0m \u001B[0mmethod\u001B[0m \u001B[1;33m==\u001B[0m \u001B[1;34m\"kwargs\"\u001B[0m\u001B[1;33m:\u001B[0m\u001B[1;33m\u001B[0m\u001B[1;33m\u001B[0m\u001B[0m\n\u001B[1;32m---> 69\u001B[1;33m                 \u001B[0mvalidate_kwargs\u001B[0m\u001B[1;33m(\u001B[0m\u001B[0mfname\u001B[0m\u001B[1;33m,\u001B[0m \u001B[0mkwargs\u001B[0m\u001B[1;33m,\u001B[0m \u001B[0mself\u001B[0m\u001B[1;33m.\u001B[0m\u001B[0mdefaults\u001B[0m\u001B[1;33m)\u001B[0m\u001B[1;33m\u001B[0m\u001B[1;33m\u001B[0m\u001B[0m\n\u001B[0m\u001B[0;32m     70\u001B[0m             \u001B[1;32melif\u001B[0m \u001B[0mmethod\u001B[0m \u001B[1;33m==\u001B[0m \u001B[1;34m\"both\"\u001B[0m\u001B[1;33m:\u001B[0m\u001B[1;33m\u001B[0m\u001B[1;33m\u001B[0m\u001B[0m\n\u001B[0;32m     71\u001B[0m                 validate_args_and_kwargs(\n",
      "\u001B[1;32mc:\\users\\byy\\appdata\\local\\programs\\python\\python37\\lib\\site-packages\\pandas\\util\\_validators.py\u001B[0m in \u001B[0;36mvalidate_kwargs\u001B[1;34m(fname, kwargs, compat_args)\u001B[0m\n\u001B[0;32m    152\u001B[0m     \u001B[0mkwds\u001B[0m \u001B[1;33m=\u001B[0m \u001B[0mkwargs\u001B[0m\u001B[1;33m.\u001B[0m\u001B[0mcopy\u001B[0m\u001B[1;33m(\u001B[0m\u001B[1;33m)\u001B[0m\u001B[1;33m\u001B[0m\u001B[1;33m\u001B[0m\u001B[0m\n\u001B[0;32m    153\u001B[0m     \u001B[0m_check_for_invalid_keys\u001B[0m\u001B[1;33m(\u001B[0m\u001B[0mfname\u001B[0m\u001B[1;33m,\u001B[0m \u001B[0mkwargs\u001B[0m\u001B[1;33m,\u001B[0m \u001B[0mcompat_args\u001B[0m\u001B[1;33m)\u001B[0m\u001B[1;33m\u001B[0m\u001B[1;33m\u001B[0m\u001B[0m\n\u001B[1;32m--> 154\u001B[1;33m     \u001B[0m_check_for_default_values\u001B[0m\u001B[1;33m(\u001B[0m\u001B[0mfname\u001B[0m\u001B[1;33m,\u001B[0m \u001B[0mkwds\u001B[0m\u001B[1;33m,\u001B[0m \u001B[0mcompat_args\u001B[0m\u001B[1;33m)\u001B[0m\u001B[1;33m\u001B[0m\u001B[1;33m\u001B[0m\u001B[0m\n\u001B[0m\u001B[0;32m    155\u001B[0m \u001B[1;33m\u001B[0m\u001B[0m\n\u001B[0;32m    156\u001B[0m \u001B[1;33m\u001B[0m\u001B[0m\n",
      "\u001B[1;32mc:\\users\\byy\\appdata\\local\\programs\\python\\python37\\lib\\site-packages\\pandas\\util\\_validators.py\u001B[0m in \u001B[0;36m_check_for_default_values\u001B[1;34m(fname, arg_val_dict, compat_args)\u001B[0m\n\u001B[0;32m     69\u001B[0m         \u001B[1;32mif\u001B[0m \u001B[1;32mnot\u001B[0m \u001B[0mmatch\u001B[0m\u001B[1;33m:\u001B[0m\u001B[1;33m\u001B[0m\u001B[1;33m\u001B[0m\u001B[0m\n\u001B[0;32m     70\u001B[0m             raise ValueError(\n\u001B[1;32m---> 71\u001B[1;33m                 \u001B[1;34mf\"the '{key}' parameter is not supported in \"\u001B[0m\u001B[1;33m\u001B[0m\u001B[1;33m\u001B[0m\u001B[0m\n\u001B[0m\u001B[0;32m     72\u001B[0m                 \u001B[1;34mf\"the pandas implementation of {fname}()\"\u001B[0m\u001B[1;33m\u001B[0m\u001B[1;33m\u001B[0m\u001B[0m\n\u001B[0;32m     73\u001B[0m             )\n",
      "\u001B[1;31mValueError\u001B[0m: the 'dtype' parameter is not supported in the pandas implementation of mean()"
     ]
    }
   ],
   "source": [
    "cka(meta_models.loc[0], meta_models.loc[1], debiased=False)"
   ],
   "metadata": {
    "collapsed": false,
    "pycharm": {
     "name": "#%%\n"
    }
   }
  }
 ],
 "metadata": {
  "kernelspec": {
   "display_name": "Python 3",
   "language": "python",
   "name": "python3"
  },
  "language_info": {
   "codemirror_mode": {
    "name": "ipython",
    "version": 2
   },
   "file_extension": ".py",
   "mimetype": "text/x-python",
   "name": "python",
   "nbconvert_exporter": "python",
   "pygments_lexer": "ipython2",
   "version": "2.7.6"
  }
 },
 "nbformat": 4,
 "nbformat_minor": 0
}